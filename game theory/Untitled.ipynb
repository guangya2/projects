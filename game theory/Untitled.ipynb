{
 "cells": [
  {
   "cell_type": "code",
   "execution_count": 1,
   "metadata": {},
   "outputs": [
    {
     "name": "stdout",
     "output_type": "stream",
     "text": [
      "119 ms ± 10.9 ms per loop (mean ± std. dev. of 7 runs, 10 loops each)\n"
     ]
    }
   ],
   "source": [
    "import numpy as np\n",
    "%timeit np.linalg.eig(np.zeros(1000000).reshape(1000,1000))"
   ]
  },
  {
   "cell_type": "code",
   "execution_count": 2,
   "metadata": {},
   "outputs": [
    {
     "name": "stdout",
     "output_type": "stream",
     "text": [
      "122 ms ± 32.6 ms per loop (mean ± std. dev. of 7 runs, 1 loop each)\n"
     ]
    }
   ],
   "source": [
    "from numba import jit\n",
    "@jit(nopython=True)\n",
    "def myfun():\n",
    "    return np.linalg.eig(np.zeros(1000000).reshape(1000,1000))[0]\n",
    "%timeit myfun()"
   ]
  },
  {
   "cell_type": "code",
   "execution_count": 3,
   "metadata": {},
   "outputs": [
    {
     "name": "stdout",
     "output_type": "stream",
     "text": [
      "80.5 ms ± 2.05 ms per loop (mean ± std. dev. of 7 runs, 10 loops each)\n"
     ]
    }
   ],
   "source": [
    "%timeit myfun()"
   ]
  },
  {
   "cell_type": "code",
   "execution_count": 14,
   "metadata": {},
   "outputs": [],
   "source": [
    "x = \"sdds ds sda\""
   ]
  },
  {
   "cell_type": "code",
   "execution_count": 17,
   "metadata": {},
   "outputs": [
    {
     "data": {
      "text/plain": [
       "'sdds,ds,sda'"
      ]
     },
     "execution_count": 17,
     "metadata": {},
     "output_type": "execute_result"
    }
   ],
   "source": [
    "\",\".join(x.split())"
   ]
  },
  {
   "cell_type": "code",
   "execution_count": 19,
   "metadata": {},
   "outputs": [
    {
     "name": "stdout",
     "output_type": "stream",
     "text": [
      "3.4 ms ± 82.4 µs per loop (mean ± std. dev. of 7 runs, 100 loops each)\n"
     ]
    }
   ],
   "source": [
    "%timeit [x for x in range(100000)]"
   ]
  },
  {
   "cell_type": "code",
   "execution_count": 24,
   "metadata": {},
   "outputs": [
    {
     "name": "stdout",
     "output_type": "stream",
     "text": [
      "5.41 ms ± 163 µs per loop (mean ± std. dev. of 7 runs, 100 loops each)\n"
     ]
    }
   ],
   "source": [
    "%timeit for x in range(100000): [x];"
   ]
  },
  {
   "cell_type": "code",
   "execution_count": 25,
   "metadata": {},
   "outputs": [
    {
     "ename": "TabError",
     "evalue": "inconsistent use of tabs and spaces in indentation (<ipython-input-25-42544d83c9ec>, line 30)",
     "output_type": "error",
     "traceback": [
      "\u001b[0;36m  File \u001b[0;32m\"<ipython-input-25-42544d83c9ec>\"\u001b[0;36m, line \u001b[0;32m30\u001b[0m\n\u001b[0;31m    self.sequence = []\u001b[0m\n\u001b[0m                      ^\u001b[0m\n\u001b[0;31mTabError\u001b[0m\u001b[0;31m:\u001b[0m inconsistent use of tabs and spaces in indentation\n"
     ]
    }
   ],
   "source": [
    "class PrefixSpan:\n",
    "\n",
    "\tdef __init__(self, sequences, minSupport=0.1, maxPatternLength=10):\n",
    "\n",
    "\t\tminSupport = minSupport * len(sequences)\n",
    "\t\tself.PLACE_HOLDER = '_'\n",
    "\n",
    "\t\tfreqSequences = self._prefixSpan(\n",
    "\t\t\tself.SequencePattern([], None, maxPatternLength, self.PLACE_HOLDER), \n",
    "\t\t\tsequences, minSupport, maxPatternLength)\n",
    "\n",
    "\t\tself.freqSeqs = PrefixSpan.FreqSequences(freqSequences)\n",
    "\n",
    "\t@staticmethod\n",
    "\tdef train(sequences, minSupport=0.1, maxPatternLength=10):\n",
    "\t\treturn PrefixSpan(sequences, minSupport, maxPatternLength)\n",
    "\n",
    "\tdef freqSequences(self):\n",
    "\t\treturn self.freqSeqs\n",
    "\n",
    "\tclass FreqSequences:\n",
    "\t\tdef __init__(self, fs):\n",
    "\t\t\tself.fs = fs\n",
    "\t\tdef collect(self):\n",
    "\t\t\treturn self.fs\n",
    "\n",
    "\tclass SequencePattern:\n",
    "\t\tdef __init__(self, sequence, support, maxPatternLength, place_holder):\n",
    "                        self.place_holder = place_holder\n",
    "\t\t\tself.sequence = []\n",
    "\t\t\tfor s in sequence:\n",
    "\t\t\t\tself.sequence.append(list(s))\n",
    "\t\t\tself.freq = support\n",
    "\n",
    "\t\tdef append(self, p):\n",
    "\t\t\tif p.sequence[0][0] == self.place_holder:\n",
    "\t\t\t\tfirst_e = p.sequence[0]\n",
    "\t\t\t\tfirst_e.remove(self.place_holder)\n",
    "\t\t\t\tself.sequence[-1].extend(first_e)\n",
    "\t\t\t\tself.sequence.extend(p.sequence[1:])\n",
    "\t\t\telse:\n",
    "\t\t\t\tself.sequence.extend(p.sequence)\n",
    "\t\t\t\tif self.freq is None:\n",
    "\t\t\t\t\tself.freq = p.freq\n",
    "\t\t\tself.freq = min(self.freq, p.freq)\n",
    "\n",
    "\n",
    "\tdef _checkPatternLengths(self,pattern, maxPatternLength):\n",
    "\t\tfor s in pattern.sequence:\n",
    "\t\t\tif len(s)>maxPatternLength:\n",
    "\t\t\t\treturn False\n",
    "\t\treturn True\n",
    "\n",
    "\n",
    "\tdef _prefixSpan(self,pattern, S, threshold, maxPatternLength):\n",
    "\t\tpatterns = []\n",
    "\n",
    "\t\tif self._checkPatternLengths(pattern, maxPatternLength):\n",
    "\t\t\tf_list = self._frequent_items(S, pattern, threshold, maxPatternLength)\n",
    "\n",
    "\t\t\tfor i in f_list:\n",
    "\t\t\t\tp = self.SequencePattern(pattern.sequence, pattern.freq, maxPatternLength, self.PLACE_HOLDER)\n",
    "\t\t\t\tp.append(i)\n",
    "\t\t\t\tif self._checkPatternLengths(pattern, maxPatternLength):\n",
    "\t\t\t\t\tpatterns.append(p)\n",
    "\n",
    "\t\t\t\tp_S = self._build_projected_database(S, p)\n",
    "\t\t\t\tp_patterns = self._prefixSpan(p, p_S, threshold, maxPatternLength)\n",
    "\t\t\t\tpatterns.extend(p_patterns)\n",
    "\n",
    "\t\treturn patterns\n",
    "\n",
    "\n",
    "\tdef _frequent_items(self, S, pattern, threshold, maxPatternLength):\n",
    "\t\titems = {}\n",
    "\t\t_items = {}\n",
    "\t\tf_list = []\n",
    "\t\tif S is None or len(S) == 0:\n",
    "\t\t\treturn []\n",
    "\n",
    "\t\tif len(pattern.sequence) != 0:\n",
    "\t\t\tlast_e = pattern.sequence[-1]\n",
    "\t\telse:\n",
    "\t\t\tlast_e = []\n",
    "\t\tfor s in S:\n",
    "\n",
    "\t\t\t#class 1\n",
    "\t\t\tis_prefix = True\n",
    "\t\t\tfor item in last_e:\n",
    "\t\t\t\tif item not in s[0]:\n",
    "\t\t\t\t\tis_prefix = False\n",
    "\t\t\t\t\tbreak\n",
    "\t\t\tif is_prefix and len(last_e) > 0:\n",
    "\t\t\t\tindex = s[0].index(last_e[-1])\n",
    "\t\t\t\tif index < len(s[0]) - 1:\n",
    "\t\t\t\t\tfor item in s[0][index + 1:]:\n",
    "\t\t\t\t\t\tif item in _items:\n",
    "\t\t\t\t\t\t\t_items[item] += 1\n",
    "\t\t\t\t\t\telse:\n",
    "\t\t\t\t\t\t\t_items[item] = 1\n",
    "\n",
    "\t\t\t#class 2\n",
    "\t\t\tif self.PLACE_HOLDER in s[0]:\n",
    "\t\t\t\tfor item in s[0][1:]:\n",
    "\t\t\t\t\tif item in _items:\n",
    "\t\t\t\t\t\t_items[item] += 1\n",
    "\t\t\t\t\telse:\n",
    "\t\t\t\t\t\t_items[item] = 1\n",
    "\t\t\t\ts = s[1:]\n",
    "\n",
    "\t\t\t#class 3\n",
    "\t\t\tcounted = []\n",
    "\t\t\tfor element in s:\n",
    "\t\t\t\tfor item in element:\n",
    "\t\t\t\t\tif item not in counted:\n",
    "\t\t\t\t\t\tcounted.append(item)\n",
    "\t\t\t\t\t\tif item in items:\n",
    "\t\t\t\t\t\t\titems[item] += 1\n",
    "\t\t\t\t\t\telse:\n",
    "\t\t\t\t\t\t\titems[item] = 1\n",
    "\n",
    "\t\tf_list.extend([self.SequencePattern([[self.PLACE_HOLDER, k]], v, maxPatternLength, self.PLACE_HOLDER)\n",
    "\t\t\t\t   for k, v in _items.iteritems()\n",
    "\t\t\t\t   if v >= threshold])\n",
    "\t\tf_list.extend([self.SequencePattern([[k]], v, maxPatternLength, self.PLACE_HOLDER)\n",
    "\t\t\t\t   for k, v in items.iteritems()\n",
    "\t\t\t\t   if v >= threshold])\n",
    "\t\t\n",
    "\t\t\t# todo: can be optimised by including the following line in the 2 previous lines \n",
    "\t\tf_list = [i for i in f_list if self._checkPatternLengths(i, maxPatternLength)]\n",
    "\n",
    "\t\tsorted_list = sorted(f_list, key=lambda p: p.freq)\n",
    "\t\treturn sorted_list\n",
    "\n",
    "\n",
    "\tdef _build_projected_database(self, S, pattern):\n",
    "\t\t\"\"\"\n",
    "\t\tsuppose S is projected database base on pattern's prefix,\n",
    "\t\tso we only need to use the last element in pattern to\n",
    "\t\tbuild projected database\n",
    "\t\t\"\"\"\n",
    "\t\tp_S = []\n",
    "\t\tlast_e = pattern.sequence[-1]\n",
    "\t\tlast_item = last_e[-1]\n",
    "\t\tfor s in S:\n",
    "\t\t\tp_s = []\n",
    "\t\t\tfor element in s:\n",
    "\t\t\t\tis_prefix = False\n",
    "\t\t\t\tif self.PLACE_HOLDER in element:\n",
    "\t\t\t\t\tif last_item in element and len(pattern.sequence[-1]) > 1:\n",
    "\t\t\t\t\t\tis_prefix = True\n",
    "\t\t\t\telse:\n",
    "\t\t\t\t\tis_prefix = True\n",
    "\t\t\t\t\tfor item in last_e:\n",
    "\t\t\t\t\t\tif item not in element:\n",
    "\t\t\t\t\t\t\tis_prefix = False\n",
    "\t\t\t\t\t\t\tbreak\n",
    "\n",
    "\t\t\t\tif is_prefix:\n",
    "\t\t\t\t\te_index = s.index(element)\n",
    "\t\t\t\t\ti_index = element.index(last_item)\n",
    "\t\t\t\t\tif i_index == len(element) - 1:\n",
    "\t\t\t\t\t\tp_s = s[e_index + 1:]\n",
    "\t\t\t\t\telse:\n",
    "\t\t\t\t\t\tp_s = s[e_index:]\n",
    "\t\t\t\t\t\tindex = element.index(last_item)\n",
    "\t\t\t\t\t\te = element[i_index:]\n",
    "\t\t\t\t\t\te[0] = self.PLACE_HOLDER\n",
    "\t\t\t\t\t\tp_s[0] = e\n",
    "\t\t\t\t\tbreak\n",
    "\t\t\tif len(p_s) != 0:\n",
    "\t\t\t\tp_S.append(p_s)\n",
    "\n",
    "\t\treturn p_S\n",
    "\n",
    "\n",
    "if __name__ == \"__main__\":\n",
    "\n",
    "\tsequences = [\n",
    "\t\t[[1,2],[3]],\n",
    "\t\t[[1],[3,2],[1,2]],\n",
    "\t\t[[1,2],[5]],\n",
    "\t\t[[6]],\n",
    "\t]\n",
    "\n",
    "\tmodel = PrefixSpan.train(sequences, minSupport=0.5, maxPatternLength=5)\n",
    "\tresult = model.freqSequences().collect()\n",
    "\tfor fs in result:\n",
    "\t\tprint('{}, {}'.format(fs.sequence,fs.freq))"
   ]
  },
  {
   "cell_type": "code",
   "execution_count": null,
   "metadata": {},
   "outputs": [],
   "source": [
    "import seaborn"
   ]
  }
 ],
 "metadata": {
  "kernelspec": {
   "display_name": "Python 3",
   "language": "python",
   "name": "python3"
  },
  "language_info": {
   "codemirror_mode": {
    "name": "ipython",
    "version": 3
   },
   "file_extension": ".py",
   "mimetype": "text/x-python",
   "name": "python",
   "nbconvert_exporter": "python",
   "pygments_lexer": "ipython3",
   "version": "3.7.1"
  }
 },
 "nbformat": 4,
 "nbformat_minor": 2
}
