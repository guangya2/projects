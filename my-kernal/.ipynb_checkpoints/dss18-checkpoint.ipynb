{
 "cells": [
  {
   "cell_type": "markdown",
   "metadata": {
    "_uuid": "2c0b06625b742164c5c66f877988b110eb8edc19"
   },
   "source": [
    "# Kaggle 2018 ML & DS Survey"
   ]
  },
  {
   "cell_type": "code",
   "execution_count": 3,
   "metadata": {
    "_cell_guid": "b1076dfc-b9ad-4769-8c92-a6c4dae69d19",
    "_uuid": "8f2839f25d086af736a60e9eeb907d3b93b6e0e5"
   },
   "outputs": [
    {
     "ename": "ModuleNotFoundError",
     "evalue": "No module named 'plotly'",
     "output_type": "error",
     "traceback": [
      "\u001b[0;31m---------------------------------------------------------------------------\u001b[0m",
      "\u001b[0;31mModuleNotFoundError\u001b[0m                       Traceback (most recent call last)",
      "\u001b[0;32m<ipython-input-3-e4900b705f95>\u001b[0m in \u001b[0;36m<module>\u001b[0;34m()\u001b[0m\n\u001b[1;32m     14\u001b[0m \u001b[0;32mimport\u001b[0m \u001b[0mmatplotlib\u001b[0m\u001b[0;34m.\u001b[0m\u001b[0mpyplot\u001b[0m \u001b[0;32mas\u001b[0m \u001b[0mplt\u001b[0m\u001b[0;34m\u001b[0m\u001b[0m\n\u001b[1;32m     15\u001b[0m \u001b[0;32mimport\u001b[0m \u001b[0mseaborn\u001b[0m \u001b[0;32mas\u001b[0m \u001b[0msns\u001b[0m\u001b[0;34m\u001b[0m\u001b[0m\n\u001b[0;32m---> 16\u001b[0;31m \u001b[0;32mimport\u001b[0m \u001b[0mplotly\u001b[0m\u001b[0;34m\u001b[0m\u001b[0m\n\u001b[0m\u001b[1;32m     17\u001b[0m \u001b[0;32mfrom\u001b[0m \u001b[0mplotly\u001b[0m\u001b[0;34m.\u001b[0m\u001b[0moffline\u001b[0m \u001b[0;32mimport\u001b[0m \u001b[0mdownload_plotlyjs\u001b[0m\u001b[0;34m,\u001b[0m \u001b[0minit_notebook_mode\u001b[0m\u001b[0;34m,\u001b[0m \u001b[0mplot\u001b[0m\u001b[0;34m,\u001b[0m \u001b[0miplot\u001b[0m\u001b[0;34m\u001b[0m\u001b[0m\n\u001b[1;32m     18\u001b[0m \u001b[0;32mimport\u001b[0m \u001b[0mplotly\u001b[0m\u001b[0;34m.\u001b[0m\u001b[0moffline\u001b[0m \u001b[0;32mas\u001b[0m \u001b[0mpy\u001b[0m\u001b[0;34m\u001b[0m\u001b[0m\n",
      "\u001b[0;31mModuleNotFoundError\u001b[0m: No module named 'plotly'"
     ]
    }
   ],
   "source": [
    "#!/usr/bin/env python3\n",
    "# -*- coding: utf-8 -*-\n",
    "\"\"\"\n",
    "Created on Sat Feb 2 00:42:21 2019\n",
    "\n",
    "@author: Guangya Wan\n",
    "\"\"\"\n",
    "\n",
    "import warnings\n",
    "warnings.filterwarnings('ignore')\n",
    "\n",
    "import numpy as np # linear algebra\n",
    "import pandas as pd # data processing, CSV file I/O (e.g. pd.read_csv)\n",
    "import matplotlib.pyplot as plt\n",
    "import seaborn as sns\n",
    "import plotly\n",
    "from plotly.offline import download_plotlyjs, init_notebook_mode, plot, iplot\n",
    "import plotly.offline as py\n",
    "from plotly.graph_objs import Scatter, Layout\n",
    "py.init_notebook_mode(connected=True)\n",
    "import plotly.graph_objs as go\n",
    "import plotly.figure_factory as ff\n",
    "#set the backgroung style sheet\n",
    "sns.set_style(\"whitegrid\")\n",
    "# Input data files are available in the \"../input/\" directory.\n",
    "# For example, running this (by clicking run or pressing Shift+Enter) will list the files in the input directory\n",
    "\n",
    "import os\n",
    "print(os.listdir(\"../input\"))\n",
    "\n",
    "# Any results you write to the current directory are saved as output."
   ]
  },
  {
   "cell_type": "code",
   "execution_count": null,
   "metadata": {
    "_cell_guid": "79c7e3d0-c299-4dcb-8224-4455121ee9b0",
    "_uuid": "d629ff2d2480ee46fbb7e2d37f6b5fab8052498a"
   },
   "outputs": [],
   "source": [
    "survey_df = pd.read_csv('../input/SurveySchema.csv')\n",
    "freeFormResp_df = pd.read_csv('../input/freeFormResponses.csv')\n",
    "multiChoice_df = pd.read_csv('../input/multipleChoiceResponses.csv')"
   ]
  },
  {
   "cell_type": "code",
   "execution_count": null,
   "metadata": {
    "_uuid": "f5377fa6b5b3a443ebe39dca2b4e4f59ad5ecf09"
   },
   "outputs": [],
   "source": [
    "survey_df.head()"
   ]
  },
  {
   "cell_type": "markdown",
   "metadata": {
    "_uuid": "fc12ad58b0eb38d0f4056f9ca24c6d4e2cc08a0c"
   },
   "source": [
    "\n",
    "### Question With Most and Least Number of Responces"
   ]
  },
  {
   "cell_type": "code",
   "execution_count": null,
   "metadata": {
    "_uuid": "bbd2c616ca779b81647d8a9e034e0ac296134701"
   },
   "outputs": [],
   "source": [
    "ss = pd.DataFrame(survey_df.loc[1])\n",
    "ss = ss.drop(['2018 Kaggle Machine Learning and Data Science Survey','Time from Start to Finish (seconds)'],axis=0)\n",
    "ss[1] = pd.to_numeric(ss[1])\n",
    "ss = ss.rename(columns={1:'Number of Responders'})\n",
    "ss.plot(kind='bar',figsize = (15,6))"
   ]
  },
  {
   "cell_type": "code",
   "execution_count": null,
   "metadata": {
    "_uuid": "515395a3f8bc2a0fdfeea7c3f6892e9ac047e82a"
   },
   "outputs": [],
   "source": [
    "ss = ss.sort_values('Number of Responders')\n",
    "print(\"Questions Which get Least Responce: \")\n",
    "print(ss.head(3))\n",
    "\n",
    "print(\"\\nMost Answered Questions: \")\n",
    "print(ss.tail(3))"
   ]
  },
  {
   "cell_type": "markdown",
   "metadata": {
    "_uuid": "47ae8d989ae849946159693859d17547b4ba0dfb"
   },
   "source": [
    "## Gender Distribution"
   ]
  },
  {
   "cell_type": "code",
   "execution_count": null,
   "metadata": {
    "_uuid": "283f30c8acef5398f55f5ce48af7392479790b78"
   },
   "outputs": [],
   "source": [
    "kp = multiChoice_df['Q1'][1:].value_counts()\n",
    "kp"
   ]
  },
  {
   "cell_type": "code",
   "execution_count": null,
   "metadata": {
    "_uuid": "1d197e646d62185387a134d6969f0785163e956f"
   },
   "outputs": [],
   "source": [
    "data = [\n",
    "go.Bar(\n",
    "    x = list(kp.index),\n",
    "    y = list(kp.values),\n",
    "    marker=dict(color=['rgba(55, 128, 191, 1.0)', 'rgba(219, 64, 82, 0.7)',\n",
    "               'rgba(50, 171, 96, 0.7)', 'rgb(128,0,128)'])\n",
    "),]\n",
    "layout= go.Layout(\n",
    "    title= 'Gender Distribution',\n",
    "    yaxis=dict(title='Count', ticklen=5, gridwidth=2),\n",
    "    xaxis=dict(title='Gender', ticklen=5, gridwidth=2)\n",
    ")\n",
    "fig= go.Figure(data=data, layout=layout)\n",
    "py.iplot(fig, filename='Q1')"
   ]
  },
  {
   "cell_type": "markdown",
   "metadata": {
    "_uuid": "d954d5bee2b7a70bb2aeba563bcac5a81d33fa3e"
   },
   "source": [
    "## Age Distribution"
   ]
  },
  {
   "cell_type": "code",
   "execution_count": null,
   "metadata": {
    "_kg_hide-input": false,
    "_uuid": "9ed00b93424e8171dc63689c69ccc72f2a639c38"
   },
   "outputs": [],
   "source": [
    "age_df = multiChoice_df['Q2'][1:].dropna()\n",
    "order= ['18-21', '22-24', '25-29', '30-34', '35-39', '40-44', '45-49', '50-54', '55-69', '70-79', '80+']\n",
    "plt.figure(figsize=(12,5))\n",
    "sns.countplot(age_df,order=order)\n",
    "plt.xlabel('Age Group')\n",
    "plt.ylabel('Count')\n",
    "plt.title('Age Group Distribution')\n",
    "plt.show()"
   ]
  },
  {
   "cell_type": "markdown",
   "metadata": {
    "_uuid": "18904ddc8ba0dbed9c4fccb1d4e8cc07fad7027f"
   },
   "source": [
    "## Do you consider yourself a Data Scientist?  "
   ]
  },
  {
   "cell_type": "code",
   "execution_count": null,
   "metadata": {
    "_uuid": "d9cf81cac5c6f4219f4a0286d56ae2ea4b4c6585"
   },
   "outputs": [],
   "source": [
    "DS_df = multiChoice_df['Q26'][1:].dropna()\n",
    "plt.figure(figsize=(12,5))\n",
    "sns.countplot(DS_df)\n",
    "plt.xlabel('Do you consider Your a Data Scientist')\n",
    "plt.ylabel('Count')\n",
    "#plt.title('Age Group Distribution')\n",
    "plt.show()"
   ]
  },
  {
   "cell_type": "markdown",
   "metadata": {
    "_uuid": "bdb443b38a2a21742ae6ef02bb0998166e8d5c55"
   },
   "source": [
    "## Age Distribution Vs Data Scientists"
   ]
  },
  {
   "cell_type": "code",
   "execution_count": null,
   "metadata": {
    "_uuid": "b6f9b43217568af094ee686d196a0a02bca13081"
   },
   "outputs": [],
   "source": [
    "DP_df = multiChoice_df[['Q2','Q26']][1:].dropna()\n",
    "#DP_df = DP_df.loc[DP_df['Q3'].isin(country)]\n",
    "DP_df = DP_df.groupby(['Q26'])['Q2'].value_counts()\n",
    "xp = ['25-29','22-24','30-34','18-21','35-39','40-44','45-49','50-54','55-59','60-69','80+','70-79']\n",
    "DP_df"
   ]
  },
  {
   "cell_type": "code",
   "execution_count": null,
   "metadata": {
    "_uuid": "9b6e4ceffb8ae48464be10f5572282634316815b"
   },
   "outputs": [],
   "source": [
    "trace1 = go.Bar(\n",
    "    x=xp,\n",
    "    y=DP_df['Definitely not'],\n",
    "    name='Definitely not',\n",
    "    marker = dict(color=\"rgb(113, 50, 141)\")\n",
    ")\n",
    "trace2 = go.Bar(\n",
    "    x=xp,\n",
    "    y=DP_df['Definitely yes'],\n",
    "    name='Definitely yes',\n",
    "    marker = dict(color=\"rgb(119, 74, 175)\")\n",
    ")\n",
    "\n",
    "trace3 = go.Bar(\n",
    "    x=xp,\n",
    "    y=DP_df['Maybe'],\n",
    "    name='Maybe',\n",
    "    marker = dict(color=\"rgb(120, 100, 202)\")\n",
    ")\n",
    "\n",
    "trace4 = go.Bar(\n",
    "    x=xp,\n",
    "    y=DP_df['Probably not'],\n",
    "    name='Probably not',\n",
    "    marker = dict(color=\"rgb(117, 127, 221)\")\n",
    ")\n",
    "\n",
    "trace5 = go.Bar(\n",
    "    x=xp,\n",
    "    y=DP_df['Probably yes'],\n",
    "    name='Probably yes',\n",
    "    marker = dict(color=\"rgb(191, 221, 229)\")\n",
    ")\n",
    "\n",
    "data = [trace1, trace2, trace3, trace4, trace5]\n",
    "layout = go.Layout(\n",
    "    barmode='group'\n",
    ")\n",
    "\n",
    "fig = go.Figure(data=data, layout=layout)\n",
    "py.iplot(fig, filename='grouped-bar')"
   ]
  },
  {
   "cell_type": "code",
   "execution_count": null,
   "metadata": {
    "_uuid": "ad0db639001737203705daed81fa4ab754a00f6d"
   },
   "outputs": [],
   "source": [
    "DP_df = multiChoice_df[['Q1','Q26']][1:].dropna()\n",
    "plt.figure(figsize=(16,6))\n",
    "p = ['Definitely yes','Probably yes', 'Maybe','Probably not','Definitely not']\n",
    "sns.countplot(data=DP_df, x='Q1', hue='Q26')\n",
    "plt.title('Gender Distribution Vs Data Scientists',fontsize=15)\n",
    "plt.xlabel('Gender',fontsize=14)\n",
    "plt.ylabel('Count',fontsize=14)\n",
    "plt.show()"
   ]
  },
  {
   "cell_type": "markdown",
   "metadata": {
    "_uuid": "d8125b2adfe83947993edce62989e8ff9a2324c1"
   },
   "source": [
    "## Country Vs Data Scientists"
   ]
  },
  {
   "cell_type": "code",
   "execution_count": null,
   "metadata": {
    "_uuid": "4cc77efce6496acd4d957568f5fdaeaa534f63e8"
   },
   "outputs": [],
   "source": [
    "country = ['United States of Americ', 'India', 'China', 'Brazil',                        \n",
    "                'Canada', 'Japan', 'Russia', 'Spain', 'Australia',                     \n",
    "                'France', 'Germany']  \n",
    "DP_df = multiChoice_df[['Q3','Q26']][1:].dropna()\n",
    "DP_df = DP_df.loc[DP_df['Q3'].isin(country)]\n",
    "DP_df = DP_df.groupby(['Q26'])['Q3'].value_counts()"
   ]
  },
  {
   "cell_type": "code",
   "execution_count": null,
   "metadata": {
    "_uuid": "0b7022f66884bc1e9ac09311f85e0416e03562e6"
   },
   "outputs": [],
   "source": [
    "trace1 = go.Bar(\n",
    "    x=country,\n",
    "    y=DP_df['Definitely not'],\n",
    "    name='Definitely not',\n",
    "    marker = dict(color=\"rgb(113, 50, 141)\")\n",
    ")\n",
    "trace2 = go.Bar(\n",
    "    x=country,\n",
    "    y=DP_df['Definitely yes'],\n",
    "    name='Definitely yes',\n",
    "    marker = dict(color=\"rgb(119, 74, 175)\")\n",
    ")\n",
    "\n",
    "trace3 = go.Bar(\n",
    "    x=country,\n",
    "    y=DP_df['Maybe'],\n",
    "    name='Maybe',\n",
    "    marker = dict(color=\"rgb(120, 100, 202)\")\n",
    ")\n",
    "\n",
    "trace4 = go.Bar(\n",
    "    x=country,\n",
    "    y=DP_df['Probably not'],\n",
    "    name='Probably not',\n",
    "    marker = dict(color=\"rgb(117, 127, 221)\")\n",
    ")\n",
    "\n",
    "trace5 = go.Bar(\n",
    "    x=country,\n",
    "    y=DP_df['Probably yes'],\n",
    "    name='Probably yes',\n",
    "    marker = dict(color=\"rgb(191, 221, 229)\")\n",
    ")\n",
    "\n",
    "data = [trace1, trace2, trace3, trace4, trace5]\n",
    "layout = go.Layout(\n",
    "    barmode='group'\n",
    ")\n",
    "\n",
    "fig = go.Figure(data=data, layout=layout)\n",
    "py.iplot(fig, filename='grouped-bar')"
   ]
  },
  {
   "cell_type": "code",
   "execution_count": null,
   "metadata": {
    "_uuid": "fc032cb578b9b344957cd444c94d485916c8756a"
   },
   "outputs": [],
   "source": [
    "roles = ['Student','Software Engineer', 'Chief Officer', 'Consultant', 'DBA/Database Engineer', \n",
    "         'Data Analyst', 'Data Engineer', 'Data Journalist', 'Data Scientist', \n",
    "         'Developer Advocate', 'Manager', 'Marketing Analyst', 'Not employed', \n",
    "         'Other', 'Principal Investigator', 'Product/Project Manager', \n",
    "         'Research Assistant', 'Research Scientist', 'Salesperson', 'Software Engineer', \n",
    "         'Statistician', ]\n",
    "DP_df = multiChoice_df[['Q6','Q26']][1:].dropna()\n",
    "DP_df = DP_df.groupby(['Q26'])['Q6'].value_counts()\n",
    "\n",
    "DP_df"
   ]
  },
  {
   "cell_type": "code",
   "execution_count": null,
   "metadata": {
    "_uuid": "45eefa5734ab82117e39479c240943a19291ac97"
   },
   "outputs": [],
   "source": [
    "trace1 = go.Bar(\n",
    "    x=roles,\n",
    "    y=DP_df['Definitely not'],\n",
    "    name='Definitely not',\n",
    "    marker = dict(color=\"rgb(113, 50, 141)\")\n",
    ")\n",
    "trace2 = go.Bar(\n",
    "    x=roles,\n",
    "    y=DP_df['Definitely yes'],\n",
    "    name='Definitely yes',\n",
    "    marker = dict(color=\"rgb(119, 74, 175)\")\n",
    ")\n",
    "\n",
    "trace3 = go.Bar(\n",
    "    x=roles,\n",
    "    y=DP_df['Maybe'],\n",
    "    name='Maybe',\n",
    "    marker = dict(color=\"rgb(120, 100, 202)\")\n",
    ")\n",
    "\n",
    "trace4 = go.Bar(\n",
    "    x=roles,\n",
    "    y=DP_df['Probably not'],\n",
    "    name='Probably not',\n",
    "    marker = dict(color=\"rgb(117, 127, 221)\")\n",
    ")\n",
    "\n",
    "trace5 = go.Bar(\n",
    "    x=roles,\n",
    "    y=DP_df['Probably yes'],\n",
    "    name='Probably yes',\n",
    "    marker = dict(color=\"rgb(191, 221, 229)\")\n",
    ")\n",
    "\n",
    "data = [trace1, trace2, trace3, trace4, trace5]\n",
    "layout = go.Layout(\n",
    "    barmode='group'\n",
    ")\n",
    "\n",
    "fig = go.Figure(data=data, layout=layout)\n",
    "py.iplot(fig, filename='grouped-bar')"
   ]
  },
  {
   "cell_type": "markdown",
   "metadata": {
    "_uuid": "da98c7280af64e5652b713c2d4ba40992303af4b"
   },
   "source": [
    "## **Country**"
   ]
  },
  {
   "cell_type": "code",
   "execution_count": null,
   "metadata": {
    "_uuid": "d599b95da6a5ac156cce558b9a666e997b115a4d"
   },
   "outputs": [],
   "source": [
    "country_df = multiChoice_df['Q3'][1:].value_counts()\n",
    "country_df.head(10)"
   ]
  },
  {
   "cell_type": "code",
   "execution_count": null,
   "metadata": {
    "_uuid": "5ecbf410d0e4e5c17483704dc6748020ac9f0604"
   },
   "outputs": [],
   "source": [
    "data = [dict(\n",
    "        type='choropleth',\n",
    "        locations = list(country_df.index),\n",
    "        locationmode='country names',\n",
    "        z=(country_df.values),\n",
    "        text=list(country_df.index),\n",
    "        colorscale='Portland',\n",
    "        reversescale=True,\n",
    ")]\n",
    "layout = dict(\n",
    "    title = 'A Map About Population of Data Scientists in Each Country',\n",
    "    geo = dict(showframe=False, showcoastlines=True, projection=dict(type='Mercator'))\n",
    ")\n",
    "fig = dict(data=data, layout=layout)\n",
    "py.iplot(fig, validate=False, filename='world-map')"
   ]
  },
  {
   "cell_type": "code",
   "execution_count": null,
   "metadata": {
    "_uuid": "2b632e7be23a33fba70566d6598d886ac4571dad"
   },
   "outputs": [],
   "source": [
    "country = ['Australia', 'Brazil', 'Canada','China', 'France', 'Germany',\n",
    "                'India','Japan', 'Russia', 'Spain', 'United States of America']\n",
    "DP_df = multiChoice_df[['Q3','Q1']][1:].dropna()\n",
    "DP_df = DP_df.loc[DP_df['Q3'].isin(country)]\n",
    "DP_df = DP_df.groupby(['Q1','Q3'])['Q1'].count()"
   ]
  },
  {
   "cell_type": "code",
   "execution_count": null,
   "metadata": {
    "_uuid": "6e257c4b688e5c3b3fc00a385533f0fc9417b450"
   },
   "outputs": [],
   "source": [
    "trace1 = go.Bar(\n",
    "    x=country,\n",
    "    y=DP_df['Male'],\n",
    "    name='Male'\n",
    ")\n",
    "trace2 = go.Bar(\n",
    "    x=country,\n",
    "    y=DP_df['Female'],\n",
    "    name='Female'\n",
    ")\n",
    "\n",
    "trace3 = go.Bar(\n",
    "    x=country,\n",
    "    y=DP_df['Prefer not to say'],\n",
    "    name='Prefer not to say'\n",
    ")\n",
    "\n",
    "trace4 = go.Bar(\n",
    "    x=country,\n",
    "    y=DP_df['Prefer to self-describe'],\n",
    "    name='Prefer to self-describe'\n",
    ")\n",
    "\n",
    "data = [trace1, trace2, trace3, trace4]\n",
    "layout = go.Layout(\n",
    "    barmode='group'\n",
    ")\n",
    "\n",
    "fig = go.Figure(data=data, layout=layout)\n",
    "py.iplot(fig, filename='grouped-bar')"
   ]
  },
  {
   "cell_type": "code",
   "execution_count": null,
   "metadata": {
    "_uuid": "4ac28df3a7c79a6d372fc6590555fead6f521595"
   },
   "outputs": [],
   "source": [
    "df = multiChoice_df[['Q1', 'Q2']][1:].dropna()\n",
    "df['Q1'] = df['Q1'].replace(['Prefer not to say', 'Prefer to self-describe'], 'Others')\n",
    "\n",
    "# Select only those indices where the top 10 countries are there\n",
    "plt.figure(figsize=(12,6))\n",
    "sns.countplot(data=df, x='Q2', hue='Q1', hue_order=['Female','Male', 'Others'], order=order)\n",
    "plt.xlabel('Age-group')\n",
    "plt.ylabel('Count')\n",
    "plt.title('Gender distribution in different age-groups')\n",
    "plt.show()\n"
   ]
  }
 ],
 "metadata": {
  "kernelspec": {
   "display_name": "Python 3",
   "language": "python",
   "name": "python3"
  },
  "language_info": {
   "codemirror_mode": {
    "name": "ipython",
    "version": 3
   },
   "file_extension": ".py",
   "mimetype": "text/x-python",
   "name": "python",
   "nbconvert_exporter": "python",
   "pygments_lexer": "ipython3",
   "version": "3.6.5"
  }
 },
 "nbformat": 4,
 "nbformat_minor": 2
}
