{
 "cells": [
  {
   "cell_type": "markdown",
   "metadata": {
    "_uuid": "2c0b06625b742164c5c66f877988b110eb8edc19"
   },
   "source": [
    "# Kaggle 2018 ML & DS Survey"
   ]
  },
  {
   "cell_type": "code",
   "execution_count": 4,
   "metadata": {
    "_cell_guid": "b1076dfc-b9ad-4769-8c92-a6c4dae69d19",
    "_uuid": "8f2839f25d086af736a60e9eeb907d3b93b6e0e5"
   },
   "outputs": [
    {
     "data": {
      "text/html": [
       "<script type=\"text/javascript\">window.PlotlyConfig = {MathJaxConfig: 'local'};</script><script type=\"text/javascript\">if (window.MathJax) {MathJax.Hub.Config({SVG: {font: \"STIX-Web\"}});}</script><script>requirejs.config({paths: { 'plotly': ['https://cdn.plot.ly/plotly-latest.min']},});if(!window._Plotly) {require(['plotly'],function(plotly) {window._Plotly=plotly;});}</script>"
      ],
      "text/vnd.plotly.v1+html": [
       "<script type=\"text/javascript\">window.PlotlyConfig = {MathJaxConfig: 'local'};</script><script type=\"text/javascript\">if (window.MathJax) {MathJax.Hub.Config({SVG: {font: \"STIX-Web\"}});}</script><script>requirejs.config({paths: { 'plotly': ['https://cdn.plot.ly/plotly-latest.min']},});if(!window._Plotly) {require(['plotly'],function(plotly) {window._Plotly=plotly;});}</script>"
      ]
     },
     "metadata": {},
     "output_type": "display_data"
    },
    {
     "name": "stdout",
     "output_type": "stream",
     "text": [
      "['Admission_Predict_Ver1.1.csv', 'Admission_Predict.csv', 'freeFormResponses.csv', 'multipleChoiceResponses.csv', 'SurveySchema.csv']\n"
     ]
    }
   ],
   "source": [
    "#!/usr/bin/env python3\n",
    "# -*- coding: utf-8 -*-\n",
    "\"\"\"\n",
    "Created on Sat Feb 2 00:42:21 2019\n",
    "\n",
    "@author: Guangya Wan\n",
    "\"\"\"\n",
    "\n",
    "import warnings\n",
    "warnings.filterwarnings('ignore')\n",
    "\n",
    "import numpy as np # linear algebra\n",
    "import pandas as pd # data processing, CSV file I/O (e.g. pd.read_csv)\n",
    "import matplotlib.pyplot as plt\n",
    "import seaborn as sns\n",
    "import plotly\n",
    "from plotly.offline import download_plotlyjs, init_notebook_mode, plot, iplot\n",
    "import plotly.offline as py\n",
    "from plotly.graph_objs import Scatter, Layout\n",
    "py.init_notebook_mode(connected=True)\n",
    "import plotly.graph_objs as go\n",
    "import plotly.figure_factory as ff\n",
    "#set the backgroung style sheet\n",
    "sns.set_style(\"whitegrid\")\n",
    "# Input data files are available in the \"../input/\" directory.\n",
    "# For example, running this (by clicking run or pressing Shift+Enter) will list the files in the input directory\n",
    "\n",
    "import os\n",
    "print(os.listdir(\"data\"))\n",
    "\n",
    "# Any results you write to the current directory are saved as output."
   ]
  },
  {
   "cell_type": "code",
   "execution_count": 9,
   "metadata": {
    "_cell_guid": "79c7e3d0-c299-4dcb-8224-4455121ee9b0",
    "_uuid": "d629ff2d2480ee46fbb7e2d37f6b5fab8052498a"
   },
   "outputs": [],
   "source": [
    "survey_df = pd.read_csv('data/SurveySchema.csv')\n",
    "freeFormResp_df = pd.read_csv('data/freeFormResponses.csv')\n",
    "multiChoice_df = pd.read_csv('data/multipleChoiceResponses.csv')"
   ]
  },
  {
   "cell_type": "code",
   "execution_count": 10,
   "metadata": {
    "_uuid": "f5377fa6b5b3a443ebe39dca2b4e4f59ad5ecf09"
   },
   "outputs": [
    {
     "data": {
      "text/html": [
       "<div>\n",
       "<style scoped>\n",
       "    .dataframe tbody tr th:only-of-type {\n",
       "        vertical-align: middle;\n",
       "    }\n",
       "\n",
       "    .dataframe tbody tr th {\n",
       "        vertical-align: top;\n",
       "    }\n",
       "\n",
       "    .dataframe thead th {\n",
       "        text-align: right;\n",
       "    }\n",
       "</style>\n",
       "<table border=\"1\" class=\"dataframe\">\n",
       "  <thead>\n",
       "    <tr style=\"text-align: right;\">\n",
       "      <th></th>\n",
       "      <th>2018 Kaggle Machine Learning and Data Science Survey</th>\n",
       "      <th>Q1</th>\n",
       "      <th>Q10</th>\n",
       "      <th>Q11</th>\n",
       "      <th>Q12</th>\n",
       "      <th>Q13</th>\n",
       "      <th>Q14</th>\n",
       "      <th>Q15</th>\n",
       "      <th>Q16</th>\n",
       "      <th>Q17</th>\n",
       "      <th>...</th>\n",
       "      <th>Q47</th>\n",
       "      <th>Q48</th>\n",
       "      <th>Q49</th>\n",
       "      <th>Q5</th>\n",
       "      <th>Q50</th>\n",
       "      <th>Q6</th>\n",
       "      <th>Q7</th>\n",
       "      <th>Q8</th>\n",
       "      <th>Q9</th>\n",
       "      <th>Time from Start to Finish (seconds)</th>\n",
       "    </tr>\n",
       "  </thead>\n",
       "  <tbody>\n",
       "    <tr>\n",
       "      <th>0</th>\n",
       "      <td>Question:</td>\n",
       "      <td>What is your gender? - Selected Choice</td>\n",
       "      <td>Does your current employer incorporate machine...</td>\n",
       "      <td>Select any activities that make up an importan...</td>\n",
       "      <td>What is the primary tool that you use at work ...</td>\n",
       "      <td>Which of the following integrated development ...</td>\n",
       "      <td>Which of the following hosted notebooks have y...</td>\n",
       "      <td>Which of the following cloud computing service...</td>\n",
       "      <td>What programming languages do you use on a reg...</td>\n",
       "      <td>What specific programming language do you use ...</td>\n",
       "      <td>...</td>\n",
       "      <td>What methods do you prefer for explaining and/...</td>\n",
       "      <td>Do you consider ML models to be \"black boxes\" ...</td>\n",
       "      <td>What tools and methods do you use to make your...</td>\n",
       "      <td>Which best describes your undergraduate major?...</td>\n",
       "      <td>What barriers prevent you from making your wor...</td>\n",
       "      <td>Select the title most similar to your current ...</td>\n",
       "      <td>In what industry is your current employer/cont...</td>\n",
       "      <td>How many years of experience do you have in yo...</td>\n",
       "      <td>What is your current yearly compensation (appr...</td>\n",
       "      <td>Duration (in seconds)</td>\n",
       "    </tr>\n",
       "    <tr>\n",
       "      <th>1</th>\n",
       "      <td># of Respondents:</td>\n",
       "      <td>23860</td>\n",
       "      <td>20670</td>\n",
       "      <td>19518</td>\n",
       "      <td>19199</td>\n",
       "      <td>19117</td>\n",
       "      <td>18971</td>\n",
       "      <td>18864</td>\n",
       "      <td>18828</td>\n",
       "      <td>15223</td>\n",
       "      <td>...</td>\n",
       "      <td>13418</td>\n",
       "      <td>13369</td>\n",
       "      <td>12891</td>\n",
       "      <td>22948</td>\n",
       "      <td>12814</td>\n",
       "      <td>22901</td>\n",
       "      <td>21686</td>\n",
       "      <td>21102</td>\n",
       "      <td>20186</td>\n",
       "      <td>23860</td>\n",
       "    </tr>\n",
       "    <tr>\n",
       "      <th>2</th>\n",
       "      <td>Who was excluded? (0 = not excluded; 1 = exclu...</td>\n",
       "      <td>0</td>\n",
       "      <td>0</td>\n",
       "      <td>0</td>\n",
       "      <td>0</td>\n",
       "      <td>0</td>\n",
       "      <td>0</td>\n",
       "      <td>0</td>\n",
       "      <td>0</td>\n",
       "      <td>0</td>\n",
       "      <td>...</td>\n",
       "      <td>0</td>\n",
       "      <td>0</td>\n",
       "      <td>0</td>\n",
       "      <td>0</td>\n",
       "      <td>0</td>\n",
       "      <td>0</td>\n",
       "      <td>0</td>\n",
       "      <td>0</td>\n",
       "      <td>0</td>\n",
       "      <td>0</td>\n",
       "    </tr>\n",
       "    <tr>\n",
       "      <th>3</th>\n",
       "      <td>If What is your age (# years)? 0-17 Is Selecte...</td>\n",
       "      <td>0</td>\n",
       "      <td>1</td>\n",
       "      <td>1</td>\n",
       "      <td>1</td>\n",
       "      <td>1</td>\n",
       "      <td>1</td>\n",
       "      <td>1</td>\n",
       "      <td>1</td>\n",
       "      <td>1</td>\n",
       "      <td>...</td>\n",
       "      <td>1</td>\n",
       "      <td>1</td>\n",
       "      <td>1</td>\n",
       "      <td>1</td>\n",
       "      <td>1</td>\n",
       "      <td>1</td>\n",
       "      <td>1</td>\n",
       "      <td>1</td>\n",
       "      <td>1</td>\n",
       "      <td>0</td>\n",
       "    </tr>\n",
       "    <tr>\n",
       "      <th>4</th>\n",
       "      <td>If What is the highest level of formal educati...</td>\n",
       "      <td>0</td>\n",
       "      <td>0</td>\n",
       "      <td>0</td>\n",
       "      <td>0</td>\n",
       "      <td>0</td>\n",
       "      <td>0</td>\n",
       "      <td>0</td>\n",
       "      <td>0</td>\n",
       "      <td>0</td>\n",
       "      <td>...</td>\n",
       "      <td>0</td>\n",
       "      <td>0</td>\n",
       "      <td>0</td>\n",
       "      <td>1</td>\n",
       "      <td>0</td>\n",
       "      <td>0</td>\n",
       "      <td>0</td>\n",
       "      <td>0</td>\n",
       "      <td>0</td>\n",
       "      <td>0</td>\n",
       "    </tr>\n",
       "  </tbody>\n",
       "</table>\n",
       "<p>5 rows × 52 columns</p>\n",
       "</div>"
      ],
      "text/plain": [
       "  2018 Kaggle Machine Learning and Data Science Survey  \\\n",
       "0                                          Question:     \n",
       "1                                  # of Respondents:     \n",
       "2  Who was excluded? (0 = not excluded; 1 = exclu...     \n",
       "3  If What is your age (# years)? 0-17 Is Selecte...     \n",
       "4  If What is the highest level of formal educati...     \n",
       "\n",
       "                                       Q1  \\\n",
       "0  What is your gender? - Selected Choice   \n",
       "1                                   23860   \n",
       "2                                       0   \n",
       "3                                       0   \n",
       "4                                       0   \n",
       "\n",
       "                                                 Q10  \\\n",
       "0  Does your current employer incorporate machine...   \n",
       "1                                              20670   \n",
       "2                                                  0   \n",
       "3                                                  1   \n",
       "4                                                  0   \n",
       "\n",
       "                                                 Q11  \\\n",
       "0  Select any activities that make up an importan...   \n",
       "1                                              19518   \n",
       "2                                                  0   \n",
       "3                                                  1   \n",
       "4                                                  0   \n",
       "\n",
       "                                                 Q12  \\\n",
       "0  What is the primary tool that you use at work ...   \n",
       "1                                              19199   \n",
       "2                                                  0   \n",
       "3                                                  1   \n",
       "4                                                  0   \n",
       "\n",
       "                                                 Q13  \\\n",
       "0  Which of the following integrated development ...   \n",
       "1                                              19117   \n",
       "2                                                  0   \n",
       "3                                                  1   \n",
       "4                                                  0   \n",
       "\n",
       "                                                 Q14  \\\n",
       "0  Which of the following hosted notebooks have y...   \n",
       "1                                              18971   \n",
       "2                                                  0   \n",
       "3                                                  1   \n",
       "4                                                  0   \n",
       "\n",
       "                                                 Q15  \\\n",
       "0  Which of the following cloud computing service...   \n",
       "1                                              18864   \n",
       "2                                                  0   \n",
       "3                                                  1   \n",
       "4                                                  0   \n",
       "\n",
       "                                                 Q16  \\\n",
       "0  What programming languages do you use on a reg...   \n",
       "1                                              18828   \n",
       "2                                                  0   \n",
       "3                                                  1   \n",
       "4                                                  0   \n",
       "\n",
       "                                                 Q17  \\\n",
       "0  What specific programming language do you use ...   \n",
       "1                                              15223   \n",
       "2                                                  0   \n",
       "3                                                  1   \n",
       "4                                                  0   \n",
       "\n",
       "                  ...                  \\\n",
       "0                 ...                   \n",
       "1                 ...                   \n",
       "2                 ...                   \n",
       "3                 ...                   \n",
       "4                 ...                   \n",
       "\n",
       "                                                 Q47  \\\n",
       "0  What methods do you prefer for explaining and/...   \n",
       "1                                              13418   \n",
       "2                                                  0   \n",
       "3                                                  1   \n",
       "4                                                  0   \n",
       "\n",
       "                                                 Q48  \\\n",
       "0  Do you consider ML models to be \"black boxes\" ...   \n",
       "1                                              13369   \n",
       "2                                                  0   \n",
       "3                                                  1   \n",
       "4                                                  0   \n",
       "\n",
       "                                                 Q49  \\\n",
       "0  What tools and methods do you use to make your...   \n",
       "1                                              12891   \n",
       "2                                                  0   \n",
       "3                                                  1   \n",
       "4                                                  0   \n",
       "\n",
       "                                                  Q5  \\\n",
       "0  Which best describes your undergraduate major?...   \n",
       "1                                              22948   \n",
       "2                                                  0   \n",
       "3                                                  1   \n",
       "4                                                  1   \n",
       "\n",
       "                                                 Q50  \\\n",
       "0  What barriers prevent you from making your wor...   \n",
       "1                                              12814   \n",
       "2                                                  0   \n",
       "3                                                  1   \n",
       "4                                                  0   \n",
       "\n",
       "                                                  Q6  \\\n",
       "0  Select the title most similar to your current ...   \n",
       "1                                              22901   \n",
       "2                                                  0   \n",
       "3                                                  1   \n",
       "4                                                  0   \n",
       "\n",
       "                                                  Q7  \\\n",
       "0  In what industry is your current employer/cont...   \n",
       "1                                              21686   \n",
       "2                                                  0   \n",
       "3                                                  1   \n",
       "4                                                  0   \n",
       "\n",
       "                                                  Q8  \\\n",
       "0  How many years of experience do you have in yo...   \n",
       "1                                              21102   \n",
       "2                                                  0   \n",
       "3                                                  1   \n",
       "4                                                  0   \n",
       "\n",
       "                                                  Q9  \\\n",
       "0  What is your current yearly compensation (appr...   \n",
       "1                                              20186   \n",
       "2                                                  0   \n",
       "3                                                  1   \n",
       "4                                                  0   \n",
       "\n",
       "  Time from Start to Finish (seconds)  \n",
       "0               Duration (in seconds)  \n",
       "1                               23860  \n",
       "2                                   0  \n",
       "3                                   0  \n",
       "4                                   0  \n",
       "\n",
       "[5 rows x 52 columns]"
      ]
     },
     "execution_count": 10,
     "metadata": {},
     "output_type": "execute_result"
    }
   ],
   "source": [
    "survey_df.head()"
   ]
  },
  {
   "cell_type": "markdown",
   "metadata": {
    "_uuid": "fc12ad58b0eb38d0f4056f9ca24c6d4e2cc08a0c"
   },
   "source": [
    "\n",
    "### Question With Most and Least Number of Responces"
   ]
  },
  {
   "cell_type": "code",
   "execution_count": 11,
   "metadata": {
    "_uuid": "bbd2c616ca779b81647d8a9e034e0ac296134701"
   },
   "outputs": [
    {
     "data": {
      "text/plain": [
       "<matplotlib.axes._subplots.AxesSubplot at 0x7f4046853b38>"
      ]
     },
     "execution_count": 11,
     "metadata": {},
     "output_type": "execute_result"
    },
    {
     "data": {
      "image/png": "[encoded data removed]",
      "text/plain": [
       "<Figure size 1080x432 with 1 Axes>"
      ]
     },
     "metadata": {},
     "output_type": "display_data"
    }
   ],
   "source": [
    "ss = pd.DataFrame(survey_df.loc[1])\n",
    "ss = ss.drop(['2018 Kaggle Machine Learning and Data Science Survey','Time from Start to Finish (seconds)'],axis=0)\n",
    "ss[1] = pd.to_numeric(ss[1])\n",
    "ss = ss.rename(columns={1:'Number of Responders'})\n",
    "ss.plot(kind='bar',figsize = (15,6))"
   ]
  },
  {
   "cell_type": "code",
   "execution_count": 12,
   "metadata": {
    "_uuid": "515395a3f8bc2a0fdfeea7c3f6892e9ac047e82a"
   },
   "outputs": [
    {
     "name": "stdout",
     "output_type": "stream",
     "text": [
      "Questions Which get Least Responce: \n",
      "     Number of Responders\n",
      "Q37                  9671\n",
      "Q30                  9746\n",
      "Q29                 10719\n",
      "\n",
      "Most Answered Questions: \n",
      "    Number of Responders\n",
      "Q3                 23860\n",
      "Q2                 23860\n",
      "Q1                 23860\n"
     ]
    }
   ],
   "source": [
    "ss = ss.sort_values('Number of Responders')\n",
    "print(\"Questions Which get Least Responce: \")\n",
    "print(ss.head(3))\n",
    "\n",
    "print(\"\\nMost Answered Questions: \")\n",
    "print(ss.tail(3))"
   ]
  },
  {
   "cell_type": "markdown",
   "metadata": {
    "_uuid": "47ae8d989ae849946159693859d17547b4ba0dfb"
   },
   "source": [
    "## Gender Distribution"
   ]
  },
  {
   "cell_type": "code",
   "execution_count": 13,
   "metadata": {
    "_uuid": "283f30c8acef5398f55f5ce48af7392479790b78"
   },
   "outputs": [
    {
     "data": {
      "text/plain": [
       "Male                       19430\n",
       "Female                      4010\n",
       "Prefer not to say            340\n",
       "Prefer to self-describe       79\n",
       "Name: Q1, dtype: int64"
      ]
     },
     "execution_count": 13,
     "metadata": {},
     "output_type": "execute_result"
    }
   ],
   "source": [
    "kp = multiChoice_df['Q1'][1:].value_counts()\n",
    "kp"
   ]
  },
  {
   "cell_type": "code",
   "execution_count": 14,
   "metadata": {
    "_uuid": "1d197e646d62185387a134d6969f0785163e956f"
   },
   "outputs": [
    {
     "data": {
      "application/vnd.plotly.v1+json": {
       "config": {
        "linkText": "Export to plot.ly",
        "plotlyServerURL": "https://plot.ly",
        "showLink": false
       },
       "data": [
        {
         "marker": {
          "color": [
           "rgba(55, 128, 191, 1.0)",
           "rgba(219, 64, 82, 0.7)",
           "rgba(50, 171, 96, 0.7)",
           "rgb(128,0,128)"
          ]
         },
         "type": "bar",
         "uid": "f76d0da8-82f8-44be-9f32-5903860368cf",
         "x": [
          "Male",
          "Female",
          "Prefer not to say",
          "Prefer to self-describe"
         ],
         "y": [
          19430,
          4010,
          340,
          79
         ]
        }
       ],
       "layout": {
        "title": {
         "text": "Gender Distribution"
        },
        "xaxis": {
         "gridwidth": 2,
         "ticklen": 5,
         "title": {
          "text": "Gender"
         }
        },
        "yaxis": {
         "gridwidth": 2,
         "ticklen": 5,
         "title": {
          "text": "Count"
         }
        }
       }
      },
      "text/html": [
       "<div id=\"d6437e87-2d1d-4dae-9bae-5c2192a7bc09\" style=\"height: 525px; width: 100%;\" class=\"plotly-graph-div\"></div><script type=\"text/javascript\">require([\"plotly\"], function(Plotly) { window.PLOTLYENV=window.PLOTLYENV || {};window.PLOTLYENV.BASE_URL=\"https://plot.ly\";Plotly.newPlot(\"d6437e87-2d1d-4dae-9bae-5c2192a7bc09\", [{\"marker\": {\"color\": [\"rgba(55, 128, 191, 1.0)\", \"rgba(219, 64, 82, 0.7)\", \"rgba(50, 171, 96, 0.7)\", \"rgb(128,0,128)\"]}, \"x\": [\"Male\", \"Female\", \"Prefer not to say\", \"Prefer to self-describe\"], \"y\": [19430, 4010, 340, 79], \"type\": \"bar\", \"uid\": \"f76d0da8-82f8-44be-9f32-5903860368cf\"}], {\"title\": {\"text\": \"Gender Distribution\"}, \"xaxis\": {\"gridwidth\": 2, \"ticklen\": 5, \"title\": {\"text\": \"Gender\"}}, \"yaxis\": {\"gridwidth\": 2, \"ticklen\": 5, \"title\": {\"text\": \"Count\"}}}, {\"showLink\": false, \"linkText\": \"Export to plot.ly\", \"plotlyServerURL\": \"https://plot.ly\"})});</script><script type=\"text/javascript\">window.addEventListener(\"resize\", function(){window._Plotly.Plots.resize(document.getElementById(\"d6437e87-2d1d-4dae-9bae-5c2192a7bc09\"));});</script>"
      ],
      "text/vnd.plotly.v1+html": [
       "<div id=\"d6437e87-2d1d-4dae-9bae-5c2192a7bc09\" style=\"height: 525px; width: 100%;\" class=\"plotly-graph-div\"></div><script type=\"text/javascript\">require([\"plotly\"], function(Plotly) { window.PLOTLYENV=window.PLOTLYENV || {};window.PLOTLYENV.BASE_URL=\"https://plot.ly\";Plotly.newPlot(\"d6437e87-2d1d-4dae-9bae-5c2192a7bc09\", [{\"marker\": {\"color\": [\"rgba(55, 128, 191, 1.0)\", \"rgba(219, 64, 82, 0.7)\", \"rgba(50, 171, 96, 0.7)\", \"rgb(128,0,128)\"]}, \"x\": [\"Male\", \"Female\", \"Prefer not to say\", \"Prefer to self-describe\"], \"y\": [19430, 4010, 340, 79], \"type\": \"bar\", \"uid\": \"f76d0da8-82f8-44be-9f32-5903860368cf\"}], {\"title\": {\"text\": \"Gender Distribution\"}, \"xaxis\": {\"gridwidth\": 2, \"ticklen\": 5, \"title\": {\"text\": \"Gender\"}}, \"yaxis\": {\"gridwidth\": 2, \"ticklen\": 5, \"title\": {\"text\": \"Count\"}}}, {\"showLink\": false, \"linkText\": \"Export to plot.ly\", \"plotlyServerURL\": \"https://plot.ly\"})});</script><script type=\"text/javascript\">window.addEventListener(\"resize\", function(){window._Plotly.Plots.resize(document.getElementById(\"d6437e87-2d1d-4dae-9bae-5c2192a7bc09\"));});</script>"
      ]
     },
     "metadata": {},
     "output_type": "display_data"
    }
   ],
   "source": [
    "data = [\n",
    "go.Bar(\n",
    "    x = list(kp.index),\n",
    "    y = list(kp.values),\n",
    "    marker=dict(color=['rgba(55, 128, 191, 1.0)', 'rgba(219, 64, 82, 0.7)',\n",
    "               'rgba(50, 171, 96, 0.7)', 'rgb(128,0,128)'])\n",
    "),]\n",
    "layout= go.Layout(\n",
    "    title= 'Gender Distribution',\n",
    "    yaxis=dict(title='Count', ticklen=5, gridwidth=2),\n",
    "    xaxis=dict(title='Gender', ticklen=5, gridwidth=2)\n",
    ")\n",
    "fig= go.Figure(data=data, layout=layout)\n",
    "py.iplot(fig, filename='Q1')"
   ]
  },
  {
   "cell_type": "markdown",
   "metadata": {
    "_uuid": "d954d5bee2b7a70bb2aeba563bcac5a81d33fa3e"
   },
   "source": [
    "## Age Distribution"
   ]
  },
  {
   "cell_type": "code",
   "execution_count": 15,
   "metadata": {
    "_kg_hide-input": false,
    "_uuid": "9ed00b93424e8171dc63689c69ccc72f2a639c38"
   },
   "outputs": [
    {
     "data": {
      "image/png": "[encoded data removed]",
      "text/plain": [
       "<Figure size 864x360 with 1 Axes>"
      ]
     },
     "metadata": {},
     "output_type": "display_data"
    }
   ],
   "source": [
    "age_df = multiChoice_df['Q2'][1:].dropna()\n",
    "order= ['18-21', '22-24', '25-29', '30-34', '35-39', '40-44', '45-49', '50-54', '55-69', '70-79', '80+']\n",
    "plt.figure(figsize=(12,5))\n",
    "sns.countplot(age_df,order=order)\n",
    "plt.xlabel('Age Group')\n",
    "plt.ylabel('Count')\n",
    "plt.title('Age Group Distribution')\n",
    "plt.show()"
   ]
  },
  {
   "cell_type": "markdown",
   "metadata": {
    "_uuid": "18904ddc8ba0dbed9c4fccb1d4e8cc07fad7027f"
   },
   "source": [
    "## Do you consider yourself a Data Scientist?  "
   ]
  },
  {
   "cell_type": "code",
   "execution_count": 16,
   "metadata": {
    "_uuid": "d9cf81cac5c6f4219f4a0286d56ae2ea4b4c6585"
   },
   "outputs": [
    {
     "data": {
      "image/png": "[encoded data removed]",
      "text/plain": [
       "<Figure size 864x360 with 1 Axes>"
      ]
     },
     "metadata": {},
     "output_type": "display_data"
    }
   ],
   "source": [
    "DS_df = multiChoice_df['Q26'][1:].dropna()\n",
    "plt.figure(figsize=(12,5))\n",
    "sns.countplot(DS_df)\n",
    "plt.xlabel('Do you consider Your a Data Scientist')\n",
    "plt.ylabel('Count')\n",
    "#plt.title('Age Group Distribution')\n",
    "plt.show()"
   ]
  },
  {
   "cell_type": "markdown",
   "metadata": {
    "_uuid": "bdb443b38a2a21742ae6ef02bb0998166e8d5c55"
   },
   "source": [
    "## Age Distribution Vs Data Scientists"
   ]
  },
  {
   "cell_type": "code",
   "execution_count": 17,
   "metadata": {
    "_uuid": "b6f9b43217568af094ee686d196a0a02bca13081"
   },
   "outputs": [
    {
     "data": {
      "text/plain": [
       "Q26             Q2   \n",
       "Definitely not  25-29     359\n",
       "                22-24     318\n",
       "                30-34     238\n",
       "                18-21     230\n",
       "                35-39     137\n",
       "                40-44     108\n",
       "                45-49      72\n",
       "                50-54      52\n",
       "                55-59      24\n",
       "                60-69      12\n",
       "                80+         4\n",
       "                70-79       3\n",
       "Definitely yes  25-29    1376\n",
       "                30-34     944\n",
       "                22-24     754\n",
       "                35-39     506\n",
       "                18-21     338\n",
       "                40-44     303\n",
       "                45-49     167\n",
       "                50-54     132\n",
       "                55-59      81\n",
       "                60-69      63\n",
       "                70-79      14\n",
       "                80+         6\n",
       "Maybe           25-29    1050\n",
       "                22-24     903\n",
       "                30-34     640\n",
       "                18-21     452\n",
       "                35-39     435\n",
       "                40-44     258\n",
       "                45-49     190\n",
       "                50-54     118\n",
       "                60-69      65\n",
       "                55-59      59\n",
       "                70-79       9\n",
       "                80+         5\n",
       "Probably not    25-29     716\n",
       "                22-24     691\n",
       "                30-34     473\n",
       "                18-21     439\n",
       "                35-39     297\n",
       "                40-44     191\n",
       "                45-49     140\n",
       "                50-54      97\n",
       "                55-59      57\n",
       "                60-69      53\n",
       "                70-79       5\n",
       "                80+         3\n",
       "Probably yes    25-29    1373\n",
       "                22-24    1049\n",
       "                30-34     815\n",
       "                35-39     496\n",
       "                18-21     454\n",
       "                40-44     287\n",
       "                45-49     172\n",
       "                50-54     103\n",
       "                55-59      69\n",
       "                60-69      58\n",
       "                70-79      12\n",
       "                80+         5\n",
       "Name: Q2, dtype: int64"
      ]
     },
     "execution_count": 17,
     "metadata": {},
     "output_type": "execute_result"
    }
   ],
   "source": [
    "DP_df = multiChoice_df[['Q2','Q26']][1:].dropna()\n",
    "#DP_df = DP_df.loc[DP_df['Q3'].isin(country)]\n",
    "DP_df = DP_df.groupby(['Q26'])['Q2'].value_counts()\n",
    "xp = ['25-29','22-24','30-34','18-21','35-39','40-44','45-49','50-54','55-59','60-69','80+','70-79']\n",
    "DP_df"
   ]
  },
  {
   "cell_type": "code",
   "execution_count": 18,
   "metadata": {
    "_uuid": "9b6e4ceffb8ae48464be10f5572282634316815b"
   },
   "outputs": [
    {
     "data": {
      "application/vnd.plotly.v1+json": {
       "config": {
        "linkText": "Export to plot.ly",
        "plotlyServerURL": "https://plot.ly",
        "showLink": false
       },
       "data": [
        {
         "marker": {
          "color": "rgb(113, 50, 141)"
         },
         "name": "Definitely not",
         "type": "bar",
         "uid": "38786c50-9fe3-43d3-b53f-598edf6eaf9e",
         "x": [
          "25-29",
          "22-24",
          "30-34",
          "18-21",
          "35-39",
          "40-44",
          "45-49",
          "50-54",
          "55-59",
          "60-69",
          "80+",
          "70-79"
         ],
         "y": [
          359,
          318,
          238,
          230,
          137,
          108,
          72,
          52,
          24,
          12,
          4,
          3
         ]
        },
        {
         "marker": {
          "color": "rgb(119, 74, 175)"
         },
         "name": "Definitely yes",
         "type": "bar",
         "uid": "f07b46a5-87de-4383-b478-d09f61c1d16e",
         "x": [
          "25-29",
          "22-24",
          "30-34",
          "18-21",
          "35-39",
          "40-44",
          "45-49",
          "50-54",
          "55-59",
          "60-69",
          "80+",
          "70-79"
         ],
         "y": [
          1376,
          944,
          754,
          506,
          338,
          303,
          167,
          132,
          81,
          63,
          14,
          6
         ]
        },
        {
         "marker": {
          "color": "rgb(120, 100, 202)"
         },
         "name": "Maybe",
         "type": "bar",
         "uid": "ce706082-2c8d-4d99-8605-6646662a52db",
         "x": [
          "25-29",
          "22-24",
          "30-34",
          "18-21",
          "35-39",
          "40-44",
          "45-49",
          "50-54",
          "55-59",
          "60-69",
          "80+",
          "70-79"
         ],
         "y": [
          1050,
          903,
          640,
          452,
          435,
          258,
          190,
          118,
          65,
          59,
          9,
          5
         ]
        },
        {
         "marker": {
          "color": "rgb(117, 127, 221)"
         },
         "name": "Probably not",
         "type": "bar",
         "uid": "05dd6fae-48c5-4a6b-81e6-fb44c7bf18dc",
         "x": [
          "25-29",
          "22-24",
          "30-34",
          "18-21",
          "35-39",
          "40-44",
          "45-49",
          "50-54",
          "55-59",
          "60-69",
          "80+",
          "70-79"
         ],
         "y": [
          716,
          691,
          473,
          439,
          297,
          191,
          140,
          97,
          57,
          53,
          5,
          3
         ]
        },
        {
         "marker": {
          "color": "rgb(191, 221, 229)"
         },
         "name": "Probably yes",
         "type": "bar",
         "uid": "a15620f8-a9f7-4d7b-9093-607b83dc9fc6",
         "x": [
          "25-29",
          "22-24",
          "30-34",
          "18-21",
          "35-39",
          "40-44",
          "45-49",
          "50-54",
          "55-59",
          "60-69",
          "80+",
          "70-79"
         ],
         "y": [
          1373,
          1049,
          815,
          496,
          454,
          287,
          172,
          103,
          69,
          58,
          12,
          5
         ]
        }
       ],
       "layout": {
        "barmode": "group"
       }
      },
      "text/html": [
       "<div id=\"626104a4-7106-4190-8901-9fa97afbe78d\" style=\"height: 525px; width: 100%;\" class=\"plotly-graph-div\"></div><script type=\"text/javascript\">require([\"plotly\"], function(Plotly) { window.PLOTLYENV=window.PLOTLYENV || {};window.PLOTLYENV.BASE_URL=\"https://plot.ly\";Plotly.newPlot(\"626104a4-7106-4190-8901-9fa97afbe78d\", [{\"marker\": {\"color\": \"rgb(113, 50, 141)\"}, \"name\": \"Definitely not\", \"x\": [\"25-29\", \"22-24\", \"30-34\", \"18-21\", \"35-39\", \"40-44\", \"45-49\", \"50-54\", \"55-59\", \"60-69\", \"80+\", \"70-79\"], \"y\": [359, 318, 238, 230, 137, 108, 72, 52, 24, 12, 4, 3], \"type\": \"bar\", \"uid\": \"38786c50-9fe3-43d3-b53f-598edf6eaf9e\"}, {\"marker\": {\"color\": \"rgb(119, 74, 175)\"}, \"name\": \"Definitely yes\", \"x\": [\"25-29\", \"22-24\", \"30-34\", \"18-21\", \"35-39\", \"40-44\", \"45-49\", \"50-54\", \"55-59\", \"60-69\", \"80+\", \"70-79\"], \"y\": [1376, 944, 754, 506, 338, 303, 167, 132, 81, 63, 14, 6], \"type\": \"bar\", \"uid\": \"f07b46a5-87de-4383-b478-d09f61c1d16e\"}, {\"marker\": {\"color\": \"rgb(120, 100, 202)\"}, \"name\": \"Maybe\", \"x\": [\"25-29\", \"22-24\", \"30-34\", \"18-21\", \"35-39\", \"40-44\", \"45-49\", \"50-54\", \"55-59\", \"60-69\", \"80+\", \"70-79\"], \"y\": [1050, 903, 640, 452, 435, 258, 190, 118, 65, 59, 9, 5], \"type\": \"bar\", \"uid\": \"ce706082-2c8d-4d99-8605-6646662a52db\"}, {\"marker\": {\"color\": \"rgb(117, 127, 221)\"}, \"name\": \"Probably not\", \"x\": [\"25-29\", \"22-24\", \"30-34\", \"18-21\", \"35-39\", \"40-44\", \"45-49\", \"50-54\", \"55-59\", \"60-69\", \"80+\", \"70-79\"], \"y\": [716, 691, 473, 439, 297, 191, 140, 97, 57, 53, 5, 3], \"type\": \"bar\", \"uid\": \"05dd6fae-48c5-4a6b-81e6-fb44c7bf18dc\"}, {\"marker\": {\"color\": \"rgb(191, 221, 229)\"}, \"name\": \"Probably yes\", \"x\": [\"25-29\", \"22-24\", \"30-34\", \"18-21\", \"35-39\", \"40-44\", \"45-49\", \"50-54\", \"55-59\", \"60-69\", \"80+\", \"70-79\"], \"y\": [1373, 1049, 815, 496, 454, 287, 172, 103, 69, 58, 12, 5], \"type\": \"bar\", \"uid\": \"a15620f8-a9f7-4d7b-9093-607b83dc9fc6\"}], {\"barmode\": \"group\"}, {\"showLink\": false, \"linkText\": \"Export to plot.ly\", \"plotlyServerURL\": \"https://plot.ly\"})});</script><script type=\"text/javascript\">window.addEventListener(\"resize\", function(){window._Plotly.Plots.resize(document.getElementById(\"626104a4-7106-4190-8901-9fa97afbe78d\"));});</script>"
      ],
      "text/vnd.plotly.v1+html": [
       "<div id=\"626104a4-7106-4190-8901-9fa97afbe78d\" style=\"height: 525px; width: 100%;\" class=\"plotly-graph-div\"></div><script type=\"text/javascript\">require([\"plotly\"], function(Plotly) { window.PLOTLYENV=window.PLOTLYENV || {};window.PLOTLYENV.BASE_URL=\"https://plot.ly\";Plotly.newPlot(\"626104a4-7106-4190-8901-9fa97afbe78d\", [{\"marker\": {\"color\": \"rgb(113, 50, 141)\"}, \"name\": \"Definitely not\", \"x\": [\"25-29\", \"22-24\", \"30-34\", \"18-21\", \"35-39\", \"40-44\", \"45-49\", \"50-54\", \"55-59\", \"60-69\", \"80+\", \"70-79\"], \"y\": [359, 318, 238, 230, 137, 108, 72, 52, 24, 12, 4, 3], \"type\": \"bar\", \"uid\": \"38786c50-9fe3-43d3-b53f-598edf6eaf9e\"}, {\"marker\": {\"color\": \"rgb(119, 74, 175)\"}, \"name\": \"Definitely yes\", \"x\": [\"25-29\", \"22-24\", \"30-34\", \"18-21\", \"35-39\", \"40-44\", \"45-49\", \"50-54\", \"55-59\", \"60-69\", \"80+\", \"70-79\"], \"y\": [1376, 944, 754, 506, 338, 303, 167, 132, 81, 63, 14, 6], \"type\": \"bar\", \"uid\": \"f07b46a5-87de-4383-b478-d09f61c1d16e\"}, {\"marker\": {\"color\": \"rgb(120, 100, 202)\"}, \"name\": \"Maybe\", \"x\": [\"25-29\", \"22-24\", \"30-34\", \"18-21\", \"35-39\", \"40-44\", \"45-49\", \"50-54\", \"55-59\", \"60-69\", \"80+\", \"70-79\"], \"y\": [1050, 903, 640, 452, 435, 258, 190, 118, 65, 59, 9, 5], \"type\": \"bar\", \"uid\": \"ce706082-2c8d-4d99-8605-6646662a52db\"}, {\"marker\": {\"color\": \"rgb(117, 127, 221)\"}, \"name\": \"Probably not\", \"x\": [\"25-29\", \"22-24\", \"30-34\", \"18-21\", \"35-39\", \"40-44\", \"45-49\", \"50-54\", \"55-59\", \"60-69\", \"80+\", \"70-79\"], \"y\": [716, 691, 473, 439, 297, 191, 140, 97, 57, 53, 5, 3], \"type\": \"bar\", \"uid\": \"05dd6fae-48c5-4a6b-81e6-fb44c7bf18dc\"}, {\"marker\": {\"color\": \"rgb(191, 221, 229)\"}, \"name\": \"Probably yes\", \"x\": [\"25-29\", \"22-24\", \"30-34\", \"18-21\", \"35-39\", \"40-44\", \"45-49\", \"50-54\", \"55-59\", \"60-69\", \"80+\", \"70-79\"], \"y\": [1373, 1049, 815, 496, 454, 287, 172, 103, 69, 58, 12, 5], \"type\": \"bar\", \"uid\": \"a15620f8-a9f7-4d7b-9093-607b83dc9fc6\"}], {\"barmode\": \"group\"}, {\"showLink\": false, \"linkText\": \"Export to plot.ly\", \"plotlyServerURL\": \"https://plot.ly\"})});</script><script type=\"text/javascript\">window.addEventListener(\"resize\", function(){window._Plotly.Plots.resize(document.getElementById(\"626104a4-7106-4190-8901-9fa97afbe78d\"));});</script>"
      ]
     },
     "metadata": {},
     "output_type": "display_data"
    }
   ],
   "source": [
    "trace1 = go.Bar(\n",
    "    x=xp,\n",
    "    y=DP_df['Definitely not'],\n",
    "    name='Definitely not',\n",
    "    marker = dict(color=\"rgb(113, 50, 141)\")\n",
    ")\n",
    "trace2 = go.Bar(\n",
    "    x=xp,\n",
    "    y=DP_df['Definitely yes'],\n",
    "    name='Definitely yes',\n",
    "    marker = dict(color=\"rgb(119, 74, 175)\")\n",
    ")\n",
    "\n",
    "trace3 = go.Bar(\n",
    "    x=xp,\n",
    "    y=DP_df['Maybe'],\n",
    "    name='Maybe',\n",
    "    marker = dict(color=\"rgb(120, 100, 202)\")\n",
    ")\n",
    "\n",
    "trace4 = go.Bar(\n",
    "    x=xp,\n",
    "    y=DP_df['Probably not'],\n",
    "    name='Probably not',\n",
    "    marker = dict(color=\"rgb(117, 127, 221)\")\n",
    ")\n",
    "\n",
    "trace5 = go.Bar(\n",
    "    x=xp,\n",
    "    y=DP_df['Probably yes'],\n",
    "    name='Probably yes',\n",
    "    marker = dict(color=\"rgb(191, 221, 229)\")\n",
    ")\n",
    "\n",
    "data = [trace1, trace2, trace3, trace4, trace5]\n",
    "layout = go.Layout(\n",
    "    barmode='group'\n",
    ")\n",
    "\n",
    "fig = go.Figure(data=data, layout=layout)\n",
    "py.iplot(fig, filename='grouped-bar')"
   ]
  },
  {
   "cell_type": "code",
   "execution_count": 19,
   "metadata": {
    "_uuid": "ad0db639001737203705daed81fa4ab754a00f6d"
   },
   "outputs": [
    {
     "data": {
      "image/png": "[encoded data removed]",
      "text/plain": [
       "<Figure size 1152x432 with 1 Axes>"
      ]
     },
     "metadata": {},
     "output_type": "display_data"
    }
   ],
   "source": [
    "DP_df = multiChoice_df[['Q1','Q26']][1:].dropna()\n",
    "plt.figure(figsize=(16,6))\n",
    "p = ['Definitely yes','Probably yes', 'Maybe','Probably not','Definitely not']\n",
    "sns.countplot(data=DP_df, x='Q1', hue='Q26')\n",
    "plt.title('Gender Distribution Vs Data Scientists',fontsize=15)\n",
    "plt.xlabel('Gender',fontsize=14)\n",
    "plt.ylabel('Count',fontsize=14)\n",
    "plt.show()"
   ]
  },
  {
   "cell_type": "markdown",
   "metadata": {
    "_uuid": "d8125b2adfe83947993edce62989e8ff9a2324c1"
   },
   "source": [
    "## Country Vs Data Scientists"
   ]
  },
  {
   "cell_type": "code",
   "execution_count": 20,
   "metadata": {
    "_uuid": "4cc77efce6496acd4d957568f5fdaeaa534f63e8"
   },
   "outputs": [],
   "source": [
    "country = ['United States of Americ', 'India', 'China', 'Brazil',                        \n",
    "                'Canada', 'Japan', 'Russia', 'Spain', 'Australia',                     \n",
    "                'France', 'Germany']  \n",
    "DP_df = multiChoice_df[['Q3','Q26']][1:].dropna()\n",
    "DP_df = DP_df.loc[DP_df['Q3'].isin(country)]\n",
    "DP_df = DP_df.groupby(['Q26'])['Q3'].value_counts()"
   ]
  },
  {
   "cell_type": "code",
   "execution_count": 21,
   "metadata": {
    "_uuid": "0b7022f66884bc1e9ac09311f85e0416e03562e6"
   },
   "outputs": [
    {
     "data": {
      "application/vnd.plotly.v1+json": {
       "config": {
        "linkText": "Export to plot.ly",
        "plotlyServerURL": "https://plot.ly",
        "showLink": false
       },
       "data": [
        {
         "marker": {
          "color": "rgb(113, 50, 141)"
         },
         "name": "Definitely not",
         "type": "bar",
         "uid": "48c4821d-7ffc-4057-9f84-44aa2a49ec2d",
         "x": [
          "United States of Americ",
          "India",
          "China",
          "Brazil",
          "Canada",
          "Japan",
          "Russia",
          "Spain",
          "Australia",
          "France",
          "Germany"
         ],
         "y": [
          269,
          71,
          67,
          62,
          48,
          42,
          38,
          35,
          30,
          29
         ]
        },
        {
         "marker": {
          "color": "rgb(119, 74, 175)"
         },
         "name": "Definitely yes",
         "type": "bar",
         "uid": "82023f7d-ce0c-461b-8d47-ee1477c0f31c",
         "x": [
          "United States of Americ",
          "India",
          "China",
          "Brazil",
          "Canada",
          "Japan",
          "Russia",
          "Spain",
          "Australia",
          "France",
          "Germany"
         ],
         "y": [
          844,
          272,
          241,
          154,
          137,
          133,
          118,
          94,
          70,
          50
         ]
        },
        {
         "marker": {
          "color": "rgb(120, 100, 202)"
         },
         "name": "Maybe",
         "type": "bar",
         "uid": "80dc9672-2571-4d97-a14e-99f9c68d5b34",
         "x": [
          "United States of Americ",
          "India",
          "China",
          "Brazil",
          "Canada",
          "Japan",
          "Russia",
          "Spain",
          "Australia",
          "France",
          "Germany"
         ],
         "y": [
          738,
          308,
          154,
          134,
          131,
          107,
          101,
          85,
          79,
          58
         ]
        },
        {
         "marker": {
          "color": "rgb(117, 127, 221)"
         },
         "name": "Probably not",
         "type": "bar",
         "uid": "73f7cc32-bd26-4253-b04c-9f3bf553ea64",
         "x": [
          "United States of Americ",
          "India",
          "China",
          "Brazil",
          "Canada",
          "Japan",
          "Russia",
          "Spain",
          "Australia",
          "France",
          "Germany"
         ],
         "y": [
          603,
          161,
          110,
          108,
          93,
          92,
          75,
          66,
          59,
          50
         ]
        },
        {
         "marker": {
          "color": "rgb(191, 221, 229)"
         },
         "name": "Probably yes",
         "type": "bar",
         "uid": "9d77542f-a266-40f5-b077-9312ea18e66e",
         "x": [
          "United States of Americ",
          "India",
          "China",
          "Brazil",
          "Canada",
          "Japan",
          "Russia",
          "Spain",
          "Australia",
          "France",
          "Germany"
         ],
         "y": [
          833,
          320,
          205,
          157,
          147,
          134,
          123,
          105,
          92,
          70
         ]
        }
       ],
       "layout": {
        "barmode": "group"
       }
      },
      "text/html": [
       "<div id=\"256a94ae-35fe-4f2a-a829-02dbce6824a3\" style=\"height: 525px; width: 100%;\" class=\"plotly-graph-div\"></div><script type=\"text/javascript\">require([\"plotly\"], function(Plotly) { window.PLOTLYENV=window.PLOTLYENV || {};window.PLOTLYENV.BASE_URL=\"https://plot.ly\";Plotly.newPlot(\"256a94ae-35fe-4f2a-a829-02dbce6824a3\", [{\"marker\": {\"color\": \"rgb(113, 50, 141)\"}, \"name\": \"Definitely not\", \"x\": [\"United States of Americ\", \"India\", \"China\", \"Brazil\", \"Canada\", \"Japan\", \"Russia\", \"Spain\", \"Australia\", \"France\", \"Germany\"], \"y\": [269, 71, 67, 62, 48, 42, 38, 35, 30, 29], \"type\": \"bar\", \"uid\": \"48c4821d-7ffc-4057-9f84-44aa2a49ec2d\"}, {\"marker\": {\"color\": \"rgb(119, 74, 175)\"}, \"name\": \"Definitely yes\", \"x\": [\"United States of Americ\", \"India\", \"China\", \"Brazil\", \"Canada\", \"Japan\", \"Russia\", \"Spain\", \"Australia\", \"France\", \"Germany\"], \"y\": [844, 272, 241, 154, 137, 133, 118, 94, 70, 50], \"type\": \"bar\", \"uid\": \"82023f7d-ce0c-461b-8d47-ee1477c0f31c\"}, {\"marker\": {\"color\": \"rgb(120, 100, 202)\"}, \"name\": \"Maybe\", \"x\": [\"United States of Americ\", \"India\", \"China\", \"Brazil\", \"Canada\", \"Japan\", \"Russia\", \"Spain\", \"Australia\", \"France\", \"Germany\"], \"y\": [738, 308, 154, 134, 131, 107, 101, 85, 79, 58], \"type\": \"bar\", \"uid\": \"80dc9672-2571-4d97-a14e-99f9c68d5b34\"}, {\"marker\": {\"color\": \"rgb(117, 127, 221)\"}, \"name\": \"Probably not\", \"x\": [\"United States of Americ\", \"India\", \"China\", \"Brazil\", \"Canada\", \"Japan\", \"Russia\", \"Spain\", \"Australia\", \"France\", \"Germany\"], \"y\": [603, 161, 110, 108, 93, 92, 75, 66, 59, 50], \"type\": \"bar\", \"uid\": \"73f7cc32-bd26-4253-b04c-9f3bf553ea64\"}, {\"marker\": {\"color\": \"rgb(191, 221, 229)\"}, \"name\": \"Probably yes\", \"x\": [\"United States of Americ\", \"India\", \"China\", \"Brazil\", \"Canada\", \"Japan\", \"Russia\", \"Spain\", \"Australia\", \"France\", \"Germany\"], \"y\": [833, 320, 205, 157, 147, 134, 123, 105, 92, 70], \"type\": \"bar\", \"uid\": \"9d77542f-a266-40f5-b077-9312ea18e66e\"}], {\"barmode\": \"group\"}, {\"showLink\": false, \"linkText\": \"Export to plot.ly\", \"plotlyServerURL\": \"https://plot.ly\"})});</script><script type=\"text/javascript\">window.addEventListener(\"resize\", function(){window._Plotly.Plots.resize(document.getElementById(\"256a94ae-35fe-4f2a-a829-02dbce6824a3\"));});</script>"
      ],
      "text/vnd.plotly.v1+html": [
       "<div id=\"256a94ae-35fe-4f2a-a829-02dbce6824a3\" style=\"height: 525px; width: 100%;\" class=\"plotly-graph-div\"></div><script type=\"text/javascript\">require([\"plotly\"], function(Plotly) { window.PLOTLYENV=window.PLOTLYENV || {};window.PLOTLYENV.BASE_URL=\"https://plot.ly\";Plotly.newPlot(\"256a94ae-35fe-4f2a-a829-02dbce6824a3\", [{\"marker\": {\"color\": \"rgb(113, 50, 141)\"}, \"name\": \"Definitely not\", \"x\": [\"United States of Americ\", \"India\", \"China\", \"Brazil\", \"Canada\", \"Japan\", \"Russia\", \"Spain\", \"Australia\", \"France\", \"Germany\"], \"y\": [269, 71, 67, 62, 48, 42, 38, 35, 30, 29], \"type\": \"bar\", \"uid\": \"48c4821d-7ffc-4057-9f84-44aa2a49ec2d\"}, {\"marker\": {\"color\": \"rgb(119, 74, 175)\"}, \"name\": \"Definitely yes\", \"x\": [\"United States of Americ\", \"India\", \"China\", \"Brazil\", \"Canada\", \"Japan\", \"Russia\", \"Spain\", \"Australia\", \"France\", \"Germany\"], \"y\": [844, 272, 241, 154, 137, 133, 118, 94, 70, 50], \"type\": \"bar\", \"uid\": \"82023f7d-ce0c-461b-8d47-ee1477c0f31c\"}, {\"marker\": {\"color\": \"rgb(120, 100, 202)\"}, \"name\": \"Maybe\", \"x\": [\"United States of Americ\", \"India\", \"China\", \"Brazil\", \"Canada\", \"Japan\", \"Russia\", \"Spain\", \"Australia\", \"France\", \"Germany\"], \"y\": [738, 308, 154, 134, 131, 107, 101, 85, 79, 58], \"type\": \"bar\", \"uid\": \"80dc9672-2571-4d97-a14e-99f9c68d5b34\"}, {\"marker\": {\"color\": \"rgb(117, 127, 221)\"}, \"name\": \"Probably not\", \"x\": [\"United States of Americ\", \"India\", \"China\", \"Brazil\", \"Canada\", \"Japan\", \"Russia\", \"Spain\", \"Australia\", \"France\", \"Germany\"], \"y\": [603, 161, 110, 108, 93, 92, 75, 66, 59, 50], \"type\": \"bar\", \"uid\": \"73f7cc32-bd26-4253-b04c-9f3bf553ea64\"}, {\"marker\": {\"color\": \"rgb(191, 221, 229)\"}, \"name\": \"Probably yes\", \"x\": [\"United States of Americ\", \"India\", \"China\", \"Brazil\", \"Canada\", \"Japan\", \"Russia\", \"Spain\", \"Australia\", \"France\", \"Germany\"], \"y\": [833, 320, 205, 157, 147, 134, 123, 105, 92, 70], \"type\": \"bar\", \"uid\": \"9d77542f-a266-40f5-b077-9312ea18e66e\"}], {\"barmode\": \"group\"}, {\"showLink\": false, \"linkText\": \"Export to plot.ly\", \"plotlyServerURL\": \"https://plot.ly\"})});</script><script type=\"text/javascript\">window.addEventListener(\"resize\", function(){window._Plotly.Plots.resize(document.getElementById(\"256a94ae-35fe-4f2a-a829-02dbce6824a3\"));});</script>"
      ]
     },
     "metadata": {},
     "output_type": "display_data"
    }
   ],
   "source": [
    "trace1 = go.Bar(\n",
    "    x=country,\n",
    "    y=DP_df['Definitely not'],\n",
    "    name='Definitely not',\n",
    "    marker = dict(color=\"rgb(113, 50, 141)\")\n",
    ")\n",
    "trace2 = go.Bar(\n",
    "    x=country,\n",
    "    y=DP_df['Definitely yes'],\n",
    "    name='Definitely yes',\n",
    "    marker = dict(color=\"rgb(119, 74, 175)\")\n",
    ")\n",
    "\n",
    "trace3 = go.Bar(\n",
    "    x=country,\n",
    "    y=DP_df['Maybe'],\n",
    "    name='Maybe',\n",
    "    marker = dict(color=\"rgb(120, 100, 202)\")\n",
    ")\n",
    "\n",
    "trace4 = go.Bar(\n",
    "    x=country,\n",
    "    y=DP_df['Probably not'],\n",
    "    name='Probably not',\n",
    "    marker = dict(color=\"rgb(117, 127, 221)\")\n",
    ")\n",
    "\n",
    "trace5 = go.Bar(\n",
    "    x=country,\n",
    "    y=DP_df['Probably yes'],\n",
    "    name='Probably yes',\n",
    "    marker = dict(color=\"rgb(191, 221, 229)\")\n",
    ")\n",
    "\n",
    "data = [trace1, trace2, trace3, trace4, trace5]\n",
    "layout = go.Layout(\n",
    "    barmode='group'\n",
    ")\n",
    "\n",
    "fig = go.Figure(data=data, layout=layout)\n",
    "py.iplot(fig, filename='grouped-bar')"
   ]
  },
  {
   "cell_type": "code",
   "execution_count": 22,
   "metadata": {
    "_uuid": "fc032cb578b9b344957cd444c94d485916c8756a"
   },
   "outputs": [
    {
     "data": {
      "text/plain": [
       "Q26             Q6                     \n",
       "Definitely not  Student                     378\n",
       "                Software Engineer           333\n",
       "                Other                       181\n",
       "                Data Analyst                105\n",
       "                Business Analyst             78\n",
       "                Not employed                 74\n",
       "                Manager                      70\n",
       "                Consultant                   63\n",
       "                Product/Project Manager      57\n",
       "                Data Engineer                43\n",
       "                Research Scientist           39\n",
       "                Research Assistant           35\n",
       "                Chief Officer                23\n",
       "                Salesperson                  21\n",
       "                Data Scientist               17\n",
       "                DBA/Database Engineer        12\n",
       "                Developer Advocate           12\n",
       "                Marketing Analyst             8\n",
       "                Statistician                  7\n",
       "                Data Journalist               1\n",
       "Definitely yes  Data Scientist             2018\n",
       "                Student                     562\n",
       "                Software Engineer           334\n",
       "                Data Analyst                329\n",
       "                Research Scientist          264\n",
       "                Other                       184\n",
       "                Not employed                156\n",
       "                Data Engineer               132\n",
       "                Consultant                  125\n",
       "                Manager                      96\n",
       "                                           ... \n",
       "Probably not    Data Scientist               63\n",
       "                Chief Officer                40\n",
       "                DBA/Database Engineer        28\n",
       "                Marketing Analyst            24\n",
       "                Salesperson                  24\n",
       "                Developer Advocate           19\n",
       "                Statistician                 16\n",
       "                Principal Investigator       12\n",
       "                Data Journalist               3\n",
       "Probably yes    Data Scientist             1133\n",
       "                Student                     954\n",
       "                Software Engineer           532\n",
       "                Data Analyst                459\n",
       "                Research Scientist          344\n",
       "                Other                       220\n",
       "                Data Engineer               186\n",
       "                Consultant                  165\n",
       "                Business Analyst            158\n",
       "                Not employed                158\n",
       "                Research Assistant          147\n",
       "                Manager                     123\n",
       "                Chief Officer                83\n",
       "                Statistician                 72\n",
       "                Product/Project Manager      67\n",
       "                DBA/Database Engineer        31\n",
       "                Principal Investigator       18\n",
       "                Marketing Analyst            15\n",
       "                Developer Advocate           13\n",
       "                Salesperson                  12\n",
       "                Data Journalist               3\n",
       "Name: Q6, Length: 104, dtype: int64"
      ]
     },
     "execution_count": 22,
     "metadata": {},
     "output_type": "execute_result"
    }
   ],
   "source": [
    "roles = ['Student','Software Engineer', 'Chief Officer', 'Consultant', 'DBA/Database Engineer', \n",
    "         'Data Analyst', 'Data Engineer', 'Data Journalist', 'Data Scientist', \n",
    "         'Developer Advocate', 'Manager', 'Marketing Analyst', 'Not employed', \n",
    "         'Other', 'Principal Investigator', 'Product/Project Manager', \n",
    "         'Research Assistant', 'Research Scientist', 'Salesperson', 'Software Engineer', \n",
    "         'Statistician', ]\n",
    "DP_df = multiChoice_df[['Q6','Q26']][1:].dropna()\n",
    "DP_df = DP_df.groupby(['Q26'])['Q6'].value_counts()\n",
    "\n",
    "DP_df"
   ]
  },
  {
   "cell_type": "code",
   "execution_count": 23,
   "metadata": {
    "_uuid": "45eefa5734ab82117e39479c240943a19291ac97"
   },
   "outputs": [
    {
     "data": {
      "application/vnd.plotly.v1+json": {
       "config": {
        "linkText": "Export to plot.ly",
        "plotlyServerURL": "https://plot.ly",
        "showLink": false
       },
       "data": [
        {
         "marker": {
          "color": "rgb(113, 50, 141)"
         },
         "name": "Definitely not",
         "type": "bar",
         "uid": "a1f5345e-c4b0-43c3-8bd8-701964ad16ee",
         "x": [
          "Student",
          "Software Engineer",
          "Chief Officer",
          "Consultant",
          "DBA/Database Engineer",
          "Data Analyst",
          "Data Engineer",
          "Data Journalist",
          "Data Scientist",
          "Developer Advocate",
          "Manager",
          "Marketing Analyst",
          "Not employed",
          "Other",
          "Principal Investigator",
          "Product/Project Manager",
          "Research Assistant",
          "Research Scientist",
          "Salesperson",
          "Software Engineer",
          "Statistician"
         ],
         "y": [
          378,
          333,
          181,
          105,
          78,
          74,
          70,
          63,
          57,
          43,
          39,
          35,
          23,
          21,
          17,
          12,
          12,
          8,
          7,
          1
         ]
        },
        {
         "marker": {
          "color": "rgb(119, 74, 175)"
         },
         "name": "Definitely yes",
         "type": "bar",
         "uid": "5ae45add-97d0-4933-b44d-71cfb804a7ea",
         "x": [
          "Student",
          "Software Engineer",
          "Chief Officer",
          "Consultant",
          "DBA/Database Engineer",
          "Data Analyst",
          "Data Engineer",
          "Data Journalist",
          "Data Scientist",
          "Developer Advocate",
          "Manager",
          "Marketing Analyst",
          "Not employed",
          "Other",
          "Principal Investigator",
          "Product/Project Manager",
          "Research Assistant",
          "Research Scientist",
          "Salesperson",
          "Software Engineer",
          "Statistician"
         ],
         "y": [
          2018,
          562,
          334,
          329,
          264,
          184,
          156,
          132,
          125,
          96,
          93,
          93,
          92,
          54,
          47,
          36,
          22,
          20,
          15,
          9,
          3
         ]
        },
        {
         "marker": {
          "color": "rgb(120, 100, 202)"
         },
         "name": "Maybe",
         "type": "bar",
         "uid": "4325f9fa-3254-4d71-8238-cd92973248dd",
         "x": [
          "Student",
          "Software Engineer",
          "Chief Officer",
          "Consultant",
          "DBA/Database Engineer",
          "Data Analyst",
          "Data Engineer",
          "Data Journalist",
          "Data Scientist",
          "Developer Advocate",
          "Manager",
          "Marketing Analyst",
          "Not employed",
          "Other",
          "Principal Investigator",
          "Product/Project Manager",
          "Research Assistant",
          "Research Scientist",
          "Salesperson",
          "Software Engineer",
          "Statistician"
         ],
         "y": [
          961,
          650,
          401,
          330,
          289,
          235,
          209,
          167,
          166,
          147,
          147,
          124,
          97,
          74,
          56,
          30,
          30,
          29,
          20,
          20,
          2
         ]
        },
        {
         "marker": {
          "color": "rgb(117, 127, 221)"
         },
         "name": "Probably not",
         "type": "bar",
         "uid": "50ab3bac-b5cb-4126-bfd9-2f92a7368db7",
         "x": [
          "Student",
          "Software Engineer",
          "Chief Officer",
          "Consultant",
          "DBA/Database Engineer",
          "Data Analyst",
          "Data Engineer",
          "Data Journalist",
          "Data Scientist",
          "Developer Advocate",
          "Manager",
          "Marketing Analyst",
          "Not employed",
          "Other",
          "Principal Investigator",
          "Product/Project Manager",
          "Research Assistant",
          "Research Scientist",
          "Salesperson",
          "Software Engineer",
          "Statistician"
         ],
         "y": [
          782,
          669,
          273,
          256,
          164,
          146,
          142,
          134,
          101,
          99,
          96,
          71,
          63,
          40,
          28,
          24,
          24,
          19,
          16,
          12,
          3
         ]
        },
        {
         "marker": {
          "color": "rgb(191, 221, 229)"
         },
         "name": "Probably yes",
         "type": "bar",
         "uid": "783d9959-a2c2-426b-a8c6-9103211acec9",
         "x": [
          "Student",
          "Software Engineer",
          "Chief Officer",
          "Consultant",
          "DBA/Database Engineer",
          "Data Analyst",
          "Data Engineer",
          "Data Journalist",
          "Data Scientist",
          "Developer Advocate",
          "Manager",
          "Marketing Analyst",
          "Not employed",
          "Other",
          "Principal Investigator",
          "Product/Project Manager",
          "Research Assistant",
          "Research Scientist",
          "Salesperson",
          "Software Engineer",
          "Statistician"
         ],
         "y": [
          1133,
          954,
          532,
          459,
          344,
          220,
          186,
          165,
          158,
          158,
          147,
          123,
          83,
          72,
          67,
          31,
          18,
          15,
          13,
          12,
          3
         ]
        }
       ],
       "layout": {
        "barmode": "group"
       }
      },
      "text/html": [
       "<div id=\"35c19e63-3a2e-4c09-8d40-09fea1674ee9\" style=\"height: 525px; width: 100%;\" class=\"plotly-graph-div\"></div><script type=\"text/javascript\">require([\"plotly\"], function(Plotly) { window.PLOTLYENV=window.PLOTLYENV || {};window.PLOTLYENV.BASE_URL=\"https://plot.ly\";Plotly.newPlot(\"35c19e63-3a2e-4c09-8d40-09fea1674ee9\", [{\"marker\": {\"color\": \"rgb(113, 50, 141)\"}, \"name\": \"Definitely not\", \"x\": [\"Student\", \"Software Engineer\", \"Chief Officer\", \"Consultant\", \"DBA/Database Engineer\", \"Data Analyst\", \"Data Engineer\", \"Data Journalist\", \"Data Scientist\", \"Developer Advocate\", \"Manager\", \"Marketing Analyst\", \"Not employed\", \"Other\", \"Principal Investigator\", \"Product/Project Manager\", \"Research Assistant\", \"Research Scientist\", \"Salesperson\", \"Software Engineer\", \"Statistician\"], \"y\": [378, 333, 181, 105, 78, 74, 70, 63, 57, 43, 39, 35, 23, 21, 17, 12, 12, 8, 7, 1], \"type\": \"bar\", \"uid\": \"a1f5345e-c4b0-43c3-8bd8-701964ad16ee\"}, {\"marker\": {\"color\": \"rgb(119, 74, 175)\"}, \"name\": \"Definitely yes\", \"x\": [\"Student\", \"Software Engineer\", \"Chief Officer\", \"Consultant\", \"DBA/Database Engineer\", \"Data Analyst\", \"Data Engineer\", \"Data Journalist\", \"Data Scientist\", \"Developer Advocate\", \"Manager\", \"Marketing Analyst\", \"Not employed\", \"Other\", \"Principal Investigator\", \"Product/Project Manager\", \"Research Assistant\", \"Research Scientist\", \"Salesperson\", \"Software Engineer\", \"Statistician\"], \"y\": [2018, 562, 334, 329, 264, 184, 156, 132, 125, 96, 93, 93, 92, 54, 47, 36, 22, 20, 15, 9, 3], \"type\": \"bar\", \"uid\": \"5ae45add-97d0-4933-b44d-71cfb804a7ea\"}, {\"marker\": {\"color\": \"rgb(120, 100, 202)\"}, \"name\": \"Maybe\", \"x\": [\"Student\", \"Software Engineer\", \"Chief Officer\", \"Consultant\", \"DBA/Database Engineer\", \"Data Analyst\", \"Data Engineer\", \"Data Journalist\", \"Data Scientist\", \"Developer Advocate\", \"Manager\", \"Marketing Analyst\", \"Not employed\", \"Other\", \"Principal Investigator\", \"Product/Project Manager\", \"Research Assistant\", \"Research Scientist\", \"Salesperson\", \"Software Engineer\", \"Statistician\"], \"y\": [961, 650, 401, 330, 289, 235, 209, 167, 166, 147, 147, 124, 97, 74, 56, 30, 30, 29, 20, 20, 2], \"type\": \"bar\", \"uid\": \"4325f9fa-3254-4d71-8238-cd92973248dd\"}, {\"marker\": {\"color\": \"rgb(117, 127, 221)\"}, \"name\": \"Probably not\", \"x\": [\"Student\", \"Software Engineer\", \"Chief Officer\", \"Consultant\", \"DBA/Database Engineer\", \"Data Analyst\", \"Data Engineer\", \"Data Journalist\", \"Data Scientist\", \"Developer Advocate\", \"Manager\", \"Marketing Analyst\", \"Not employed\", \"Other\", \"Principal Investigator\", \"Product/Project Manager\", \"Research Assistant\", \"Research Scientist\", \"Salesperson\", \"Software Engineer\", \"Statistician\"], \"y\": [782, 669, 273, 256, 164, 146, 142, 134, 101, 99, 96, 71, 63, 40, 28, 24, 24, 19, 16, 12, 3], \"type\": \"bar\", \"uid\": \"50ab3bac-b5cb-4126-bfd9-2f92a7368db7\"}, {\"marker\": {\"color\": \"rgb(191, 221, 229)\"}, \"name\": \"Probably yes\", \"x\": [\"Student\", \"Software Engineer\", \"Chief Officer\", \"Consultant\", \"DBA/Database Engineer\", \"Data Analyst\", \"Data Engineer\", \"Data Journalist\", \"Data Scientist\", \"Developer Advocate\", \"Manager\", \"Marketing Analyst\", \"Not employed\", \"Other\", \"Principal Investigator\", \"Product/Project Manager\", \"Research Assistant\", \"Research Scientist\", \"Salesperson\", \"Software Engineer\", \"Statistician\"], \"y\": [1133, 954, 532, 459, 344, 220, 186, 165, 158, 158, 147, 123, 83, 72, 67, 31, 18, 15, 13, 12, 3], \"type\": \"bar\", \"uid\": \"783d9959-a2c2-426b-a8c6-9103211acec9\"}], {\"barmode\": \"group\"}, {\"showLink\": false, \"linkText\": \"Export to plot.ly\", \"plotlyServerURL\": \"https://plot.ly\"})});</script><script type=\"text/javascript\">window.addEventListener(\"resize\", function(){window._Plotly.Plots.resize(document.getElementById(\"35c19e63-3a2e-4c09-8d40-09fea1674ee9\"));});</script>"
      ],
      "text/vnd.plotly.v1+html": [
       "<div id=\"35c19e63-3a2e-4c09-8d40-09fea1674ee9\" style=\"height: 525px; width: 100%;\" class=\"plotly-graph-div\"></div><script type=\"text/javascript\">require([\"plotly\"], function(Plotly) { window.PLOTLYENV=window.PLOTLYENV || {};window.PLOTLYENV.BASE_URL=\"https://plot.ly\";Plotly.newPlot(\"35c19e63-3a2e-4c09-8d40-09fea1674ee9\", [{\"marker\": {\"color\": \"rgb(113, 50, 141)\"}, \"name\": \"Definitely not\", \"x\": [\"Student\", \"Software Engineer\", \"Chief Officer\", \"Consultant\", \"DBA/Database Engineer\", \"Data Analyst\", \"Data Engineer\", \"Data Journalist\", \"Data Scientist\", \"Developer Advocate\", \"Manager\", \"Marketing Analyst\", \"Not employed\", \"Other\", \"Principal Investigator\", \"Product/Project Manager\", \"Research Assistant\", \"Research Scientist\", \"Salesperson\", \"Software Engineer\", \"Statistician\"], \"y\": [378, 333, 181, 105, 78, 74, 70, 63, 57, 43, 39, 35, 23, 21, 17, 12, 12, 8, 7, 1], \"type\": \"bar\", \"uid\": \"a1f5345e-c4b0-43c3-8bd8-701964ad16ee\"}, {\"marker\": {\"color\": \"rgb(119, 74, 175)\"}, \"name\": \"Definitely yes\", \"x\": [\"Student\", \"Software Engineer\", \"Chief Officer\", \"Consultant\", \"DBA/Database Engineer\", \"Data Analyst\", \"Data Engineer\", \"Data Journalist\", \"Data Scientist\", \"Developer Advocate\", \"Manager\", \"Marketing Analyst\", \"Not employed\", \"Other\", \"Principal Investigator\", \"Product/Project Manager\", \"Research Assistant\", \"Research Scientist\", \"Salesperson\", \"Software Engineer\", \"Statistician\"], \"y\": [2018, 562, 334, 329, 264, 184, 156, 132, 125, 96, 93, 93, 92, 54, 47, 36, 22, 20, 15, 9, 3], \"type\": \"bar\", \"uid\": \"5ae45add-97d0-4933-b44d-71cfb804a7ea\"}, {\"marker\": {\"color\": \"rgb(120, 100, 202)\"}, \"name\": \"Maybe\", \"x\": [\"Student\", \"Software Engineer\", \"Chief Officer\", \"Consultant\", \"DBA/Database Engineer\", \"Data Analyst\", \"Data Engineer\", \"Data Journalist\", \"Data Scientist\", \"Developer Advocate\", \"Manager\", \"Marketing Analyst\", \"Not employed\", \"Other\", \"Principal Investigator\", \"Product/Project Manager\", \"Research Assistant\", \"Research Scientist\", \"Salesperson\", \"Software Engineer\", \"Statistician\"], \"y\": [961, 650, 401, 330, 289, 235, 209, 167, 166, 147, 147, 124, 97, 74, 56, 30, 30, 29, 20, 20, 2], \"type\": \"bar\", \"uid\": \"4325f9fa-3254-4d71-8238-cd92973248dd\"}, {\"marker\": {\"color\": \"rgb(117, 127, 221)\"}, \"name\": \"Probably not\", \"x\": [\"Student\", \"Software Engineer\", \"Chief Officer\", \"Consultant\", \"DBA/Database Engineer\", \"Data Analyst\", \"Data Engineer\", \"Data Journalist\", \"Data Scientist\", \"Developer Advocate\", \"Manager\", \"Marketing Analyst\", \"Not employed\", \"Other\", \"Principal Investigator\", \"Product/Project Manager\", \"Research Assistant\", \"Research Scientist\", \"Salesperson\", \"Software Engineer\", \"Statistician\"], \"y\": [782, 669, 273, 256, 164, 146, 142, 134, 101, 99, 96, 71, 63, 40, 28, 24, 24, 19, 16, 12, 3], \"type\": \"bar\", \"uid\": \"50ab3bac-b5cb-4126-bfd9-2f92a7368db7\"}, {\"marker\": {\"color\": \"rgb(191, 221, 229)\"}, \"name\": \"Probably yes\", \"x\": [\"Student\", \"Software Engineer\", \"Chief Officer\", \"Consultant\", \"DBA/Database Engineer\", \"Data Analyst\", \"Data Engineer\", \"Data Journalist\", \"Data Scientist\", \"Developer Advocate\", \"Manager\", \"Marketing Analyst\", \"Not employed\", \"Other\", \"Principal Investigator\", \"Product/Project Manager\", \"Research Assistant\", \"Research Scientist\", \"Salesperson\", \"Software Engineer\", \"Statistician\"], \"y\": [1133, 954, 532, 459, 344, 220, 186, 165, 158, 158, 147, 123, 83, 72, 67, 31, 18, 15, 13, 12, 3], \"type\": \"bar\", \"uid\": \"783d9959-a2c2-426b-a8c6-9103211acec9\"}], {\"barmode\": \"group\"}, {\"showLink\": false, \"linkText\": \"Export to plot.ly\", \"plotlyServerURL\": \"https://plot.ly\"})});</script><script type=\"text/javascript\">window.addEventListener(\"resize\", function(){window._Plotly.Plots.resize(document.getElementById(\"35c19e63-3a2e-4c09-8d40-09fea1674ee9\"));});</script>"
      ]
     },
     "metadata": {},
     "output_type": "display_data"
    }
   ],
   "source": [
    "trace1 = go.Bar(\n",
    "    x=roles,\n",
    "    y=DP_df['Definitely not'],\n",
    "    name='Definitely not',\n",
    "    marker = dict(color=\"rgb(113, 50, 141)\")\n",
    ")\n",
    "trace2 = go.Bar(\n",
    "    x=roles,\n",
    "    y=DP_df['Definitely yes'],\n",
    "    name='Definitely yes',\n",
    "    marker = dict(color=\"rgb(119, 74, 175)\")\n",
    ")\n",
    "\n",
    "trace3 = go.Bar(\n",
    "    x=roles,\n",
    "    y=DP_df['Maybe'],\n",
    "    name='Maybe',\n",
    "    marker = dict(color=\"rgb(120, 100, 202)\")\n",
    ")\n",
    "\n",
    "trace4 = go.Bar(\n",
    "    x=roles,\n",
    "    y=DP_df['Probably not'],\n",
    "    name='Probably not',\n",
    "    marker = dict(color=\"rgb(117, 127, 221)\")\n",
    ")\n",
    "\n",
    "trace5 = go.Bar(\n",
    "    x=roles,\n",
    "    y=DP_df['Probably yes'],\n",
    "    name='Probably yes',\n",
    "    marker = dict(color=\"rgb(191, 221, 229)\")\n",
    ")\n",
    "\n",
    "data = [trace1, trace2, trace3, trace4, trace5]\n",
    "layout = go.Layout(\n",
    "    barmode='group'\n",
    ")\n",
    "\n",
    "fig = go.Figure(data=data, layout=layout)\n",
    "py.iplot(fig, filename='grouped-bar')"
   ]
  },
  {
   "cell_type": "markdown",
   "metadata": {
    "_uuid": "da98c7280af64e5652b713c2d4ba40992303af4b"
   },
   "source": [
    "## **Country**"
   ]
  },
  {
   "cell_type": "code",
   "execution_count": 24,
   "metadata": {
    "_uuid": "d599b95da6a5ac156cce558b9a666e997b115a4d"
   },
   "outputs": [
    {
     "data": {
      "text/plain": [
       "United States of America                                4716\n",
       "India                                                   4417\n",
       "China                                                   1644\n",
       "Other                                                   1036\n",
       "Russia                                                   879\n",
       "Brazil                                                   736\n",
       "Germany                                                  734\n",
       "United Kingdom of Great Britain and Northern Ireland     702\n",
       "France                                                   604\n",
       "Canada                                                   604\n",
       "Name: Q3, dtype: int64"
      ]
     },
     "execution_count": 24,
     "metadata": {},
     "output_type": "execute_result"
    }
   ],
   "source": [
    "country_df = multiChoice_df['Q3'][1:].value_counts()\n",
    "country_df.head(10)"
   ]
  },
  {
   "cell_type": "code",
   "execution_count": 25,
   "metadata": {
    "_uuid": "5ecbf410d0e4e5c17483704dc6748020ac9f0604"
   },
   "outputs": [
    {
     "data": {
      "application/vnd.plotly.v1+json": {
       "config": {
        "linkText": "Export to plot.ly",
        "plotlyServerURL": "https://plot.ly",
        "showLink": false
       },
       "data": [
        {
         "colorscale": "Portland",
         "locationmode": "country names",
         "locations": [
          "United States of America",
          "India",
          "China",
          "Other",
          "Russia",
          "Brazil",
          "Germany",
          "United Kingdom of Great Britain and Northern Ireland",
          "France",
          "Canada",
          "Japan",
          "Spain",
          "I do not wish to disclose my location",
          "Italy",
          "Australia",
          "Turkey",
          "Poland",
          "Netherlands",
          "Ukraine",
          "Nigeria",
          "Mexico",
          "South Korea",
          "Singapore",
          "Israel",
          "Indonesia",
          "Switzerland",
          "Pakistan",
          "Portugal",
          "Sweden",
          "South Africa",
          "Viet Nam",
          "Colombia",
          "Greece",
          "Argentina",
          "Malaysia",
          "Iran, Islamic Republic of...",
          "Belgium",
          "Bangladesh",
          "Denmark",
          "Ireland",
          "Egypt",
          "Hungary",
          "Belarus",
          "Kenya",
          "Peru",
          "Romania",
          "Finland",
          "New Zealand",
          "Hong Kong (S.A.R.)",
          "Chile",
          "Norway",
          "Tunisia",
          "Thailand",
          "Philippines",
          "Czech Republic",
          "Morocco",
          "Republic of Korea",
          "Austria"
         ],
         "reversescale": true,
         "text": [
          "United States of America",
          "India",
          "China",
          "Other",
          "Russia",
          "Brazil",
          "Germany",
          "United Kingdom of Great Britain and Northern Ireland",
          "France",
          "Canada",
          "Japan",
          "Spain",
          "I do not wish to disclose my location",
          "Italy",
          "Australia",
          "Turkey",
          "Poland",
          "Netherlands",
          "Ukraine",
          "Nigeria",
          "Mexico",
          "South Korea",
          "Singapore",
          "Israel",
          "Indonesia",
          "Switzerland",
          "Pakistan",
          "Portugal",
          "Sweden",
          "South Africa",
          "Viet Nam",
          "Colombia",
          "Greece",
          "Argentina",
          "Malaysia",
          "Iran, Islamic Republic of...",
          "Belgium",
          "Bangladesh",
          "Denmark",
          "Ireland",
          "Egypt",
          "Hungary",
          "Belarus",
          "Kenya",
          "Peru",
          "Romania",
          "Finland",
          "New Zealand",
          "Hong Kong (S.A.R.)",
          "Chile",
          "Norway",
          "Tunisia",
          "Thailand",
          "Philippines",
          "Czech Republic",
          "Morocco",
          "Republic of Korea",
          "Austria"
         ],
         "type": "choropleth",
         "z": [
          4716,
          4417,
          1644,
          1036,
          879,
          736,
          734,
          702,
          604,
          604,
          597,
          485,
          394,
          355,
          330,
          327,
          301,
          270,
          252,
          208,
          202,
          188,
          186,
          173,
          171,
          164,
          161,
          155,
          155,
          147,
          144,
          128,
          121,
          119,
          113,
          113,
          111,
          107,
          106,
          101,
          96,
          93,
          91,
          85,
          81,
          79,
          79,
          77,
          76,
          76,
          74,
          74,
          73,
          73,
          72,
          71,
          71,
          62
         ]
        }
       ],
       "layout": {
        "geo": {
         "projection": {
          "type": "Mercator"
         },
         "showcoastlines": true,
         "showframe": false
        },
        "title": "A Map About Population of Data Scientists in Each Country"
       }
      },
      "text/html": [
       "<div id=\"3c5d74c0-3cb0-41fc-a451-33764cf3f3be\" style=\"height: 525px; width: 100%;\" class=\"plotly-graph-div\"></div><script type=\"text/javascript\">require([\"plotly\"], function(Plotly) { window.PLOTLYENV=window.PLOTLYENV || {};window.PLOTLYENV.BASE_URL=\"https://plot.ly\";Plotly.newPlot(\"3c5d74c0-3cb0-41fc-a451-33764cf3f3be\", [{\"type\": \"choropleth\", \"locations\": [\"United States of America\", \"India\", \"China\", \"Other\", \"Russia\", \"Brazil\", \"Germany\", \"United Kingdom of Great Britain and Northern Ireland\", \"France\", \"Canada\", \"Japan\", \"Spain\", \"I do not wish to disclose my location\", \"Italy\", \"Australia\", \"Turkey\", \"Poland\", \"Netherlands\", \"Ukraine\", \"Nigeria\", \"Mexico\", \"South Korea\", \"Singapore\", \"Israel\", \"Indonesia\", \"Switzerland\", \"Pakistan\", \"Portugal\", \"Sweden\", \"South Africa\", \"Viet Nam\", \"Colombia\", \"Greece\", \"Argentina\", \"Malaysia\", \"Iran, Islamic Republic of...\", \"Belgium\", \"Bangladesh\", \"Denmark\", \"Ireland\", \"Egypt\", \"Hungary\", \"Belarus\", \"Kenya\", \"Peru\", \"Romania\", \"Finland\", \"New Zealand\", \"Hong Kong (S.A.R.)\", \"Chile\", \"Norway\", \"Tunisia\", \"Thailand\", \"Philippines\", \"Czech Republic\", \"Morocco\", \"Republic of Korea\", \"Austria\"], \"locationmode\": \"country names\", \"z\": [4716, 4417, 1644, 1036, 879, 736, 734, 702, 604, 604, 597, 485, 394, 355, 330, 327, 301, 270, 252, 208, 202, 188, 186, 173, 171, 164, 161, 155, 155, 147, 144, 128, 121, 119, 113, 113, 111, 107, 106, 101, 96, 93, 91, 85, 81, 79, 79, 77, 76, 76, 74, 74, 73, 73, 72, 71, 71, 62], \"text\": [\"United States of America\", \"India\", \"China\", \"Other\", \"Russia\", \"Brazil\", \"Germany\", \"United Kingdom of Great Britain and Northern Ireland\", \"France\", \"Canada\", \"Japan\", \"Spain\", \"I do not wish to disclose my location\", \"Italy\", \"Australia\", \"Turkey\", \"Poland\", \"Netherlands\", \"Ukraine\", \"Nigeria\", \"Mexico\", \"South Korea\", \"Singapore\", \"Israel\", \"Indonesia\", \"Switzerland\", \"Pakistan\", \"Portugal\", \"Sweden\", \"South Africa\", \"Viet Nam\", \"Colombia\", \"Greece\", \"Argentina\", \"Malaysia\", \"Iran, Islamic Republic of...\", \"Belgium\", \"Bangladesh\", \"Denmark\", \"Ireland\", \"Egypt\", \"Hungary\", \"Belarus\", \"Kenya\", \"Peru\", \"Romania\", \"Finland\", \"New Zealand\", \"Hong Kong (S.A.R.)\", \"Chile\", \"Norway\", \"Tunisia\", \"Thailand\", \"Philippines\", \"Czech Republic\", \"Morocco\", \"Republic of Korea\", \"Austria\"], \"colorscale\": \"Portland\", \"reversescale\": true}], {\"title\": \"A Map About Population of Data Scientists in Each Country\", \"geo\": {\"showframe\": false, \"showcoastlines\": true, \"projection\": {\"type\": \"Mercator\"}}}, {\"showLink\": false, \"linkText\": \"Export to plot.ly\", \"plotlyServerURL\": \"https://plot.ly\"})});</script><script type=\"text/javascript\">window.addEventListener(\"resize\", function(){window._Plotly.Plots.resize(document.getElementById(\"3c5d74c0-3cb0-41fc-a451-33764cf3f3be\"));});</script>"
      ],
      "text/vnd.plotly.v1+html": [
       "<div id=\"3c5d74c0-3cb0-41fc-a451-33764cf3f3be\" style=\"height: 525px; width: 100%;\" class=\"plotly-graph-div\"></div><script type=\"text/javascript\">require([\"plotly\"], function(Plotly) { window.PLOTLYENV=window.PLOTLYENV || {};window.PLOTLYENV.BASE_URL=\"https://plot.ly\";Plotly.newPlot(\"3c5d74c0-3cb0-41fc-a451-33764cf3f3be\", [{\"type\": \"choropleth\", \"locations\": [\"United States of America\", \"India\", \"China\", \"Other\", \"Russia\", \"Brazil\", \"Germany\", \"United Kingdom of Great Britain and Northern Ireland\", \"France\", \"Canada\", \"Japan\", \"Spain\", \"I do not wish to disclose my location\", \"Italy\", \"Australia\", \"Turkey\", \"Poland\", \"Netherlands\", \"Ukraine\", \"Nigeria\", \"Mexico\", \"South Korea\", \"Singapore\", \"Israel\", \"Indonesia\", \"Switzerland\", \"Pakistan\", \"Portugal\", \"Sweden\", \"South Africa\", \"Viet Nam\", \"Colombia\", \"Greece\", \"Argentina\", \"Malaysia\", \"Iran, Islamic Republic of...\", \"Belgium\", \"Bangladesh\", \"Denmark\", \"Ireland\", \"Egypt\", \"Hungary\", \"Belarus\", \"Kenya\", \"Peru\", \"Romania\", \"Finland\", \"New Zealand\", \"Hong Kong (S.A.R.)\", \"Chile\", \"Norway\", \"Tunisia\", \"Thailand\", \"Philippines\", \"Czech Republic\", \"Morocco\", \"Republic of Korea\", \"Austria\"], \"locationmode\": \"country names\", \"z\": [4716, 4417, 1644, 1036, 879, 736, 734, 702, 604, 604, 597, 485, 394, 355, 330, 327, 301, 270, 252, 208, 202, 188, 186, 173, 171, 164, 161, 155, 155, 147, 144, 128, 121, 119, 113, 113, 111, 107, 106, 101, 96, 93, 91, 85, 81, 79, 79, 77, 76, 76, 74, 74, 73, 73, 72, 71, 71, 62], \"text\": [\"United States of America\", \"India\", \"China\", \"Other\", \"Russia\", \"Brazil\", \"Germany\", \"United Kingdom of Great Britain and Northern Ireland\", \"France\", \"Canada\", \"Japan\", \"Spain\", \"I do not wish to disclose my location\", \"Italy\", \"Australia\", \"Turkey\", \"Poland\", \"Netherlands\", \"Ukraine\", \"Nigeria\", \"Mexico\", \"South Korea\", \"Singapore\", \"Israel\", \"Indonesia\", \"Switzerland\", \"Pakistan\", \"Portugal\", \"Sweden\", \"South Africa\", \"Viet Nam\", \"Colombia\", \"Greece\", \"Argentina\", \"Malaysia\", \"Iran, Islamic Republic of...\", \"Belgium\", \"Bangladesh\", \"Denmark\", \"Ireland\", \"Egypt\", \"Hungary\", \"Belarus\", \"Kenya\", \"Peru\", \"Romania\", \"Finland\", \"New Zealand\", \"Hong Kong (S.A.R.)\", \"Chile\", \"Norway\", \"Tunisia\", \"Thailand\", \"Philippines\", \"Czech Republic\", \"Morocco\", \"Republic of Korea\", \"Austria\"], \"colorscale\": \"Portland\", \"reversescale\": true}], {\"title\": \"A Map About Population of Data Scientists in Each Country\", \"geo\": {\"showframe\": false, \"showcoastlines\": true, \"projection\": {\"type\": \"Mercator\"}}}, {\"showLink\": false, \"linkText\": \"Export to plot.ly\", \"plotlyServerURL\": \"https://plot.ly\"})});</script><script type=\"text/javascript\">window.addEventListener(\"resize\", function(){window._Plotly.Plots.resize(document.getElementById(\"3c5d74c0-3cb0-41fc-a451-33764cf3f3be\"));});</script>"
      ]
     },
     "metadata": {},
     "output_type": "display_data"
    }
   ],
   "source": [
    "data = [dict(\n",
    "        type='choropleth',\n",
    "        locations = list(country_df.index),\n",
    "        locationmode='country names',\n",
    "        z=(country_df.values),\n",
    "        text=list(country_df.index),\n",
    "        colorscale='Portland',\n",
    "        reversescale=True,\n",
    ")]\n",
    "layout = dict(\n",
    "    title = 'A Map About Population of Data Scientists in Each Country',\n",
    "    geo = dict(showframe=False, showcoastlines=True, projection=dict(type='Mercator'))\n",
    ")\n",
    "fig = dict(data=data, layout=layout)\n",
    "py.iplot(fig, validate=False, filename='world-map')"
   ]
  },
  {
   "cell_type": "code",
   "execution_count": 26,
   "metadata": {
    "_uuid": "2b632e7be23a33fba70566d6598d886ac4571dad"
   },
   "outputs": [],
   "source": [
    "country = ['Australia', 'Brazil', 'Canada','China', 'France', 'Germany',\n",
    "                'India','Japan', 'Russia', 'Spain', 'United States of America']\n",
    "DP_df = multiChoice_df[['Q3','Q1']][1:].dropna()\n",
    "DP_df = DP_df.loc[DP_df['Q3'].isin(country)]\n",
    "DP_df = DP_df.groupby(['Q1','Q3'])['Q1'].count()"
   ]
  },
  {
   "cell_type": "code",
   "execution_count": 27,
   "metadata": {
    "_uuid": "6e257c4b688e5c3b3fc00a385533f0fc9417b450"
   },
   "outputs": [
    {
     "data": {
      "application/vnd.plotly.v1+json": {
       "config": {
        "linkText": "Export to plot.ly",
        "plotlyServerURL": "https://plot.ly",
        "showLink": false
       },
       "data": [
        {
         "name": "Male",
         "type": "bar",
         "uid": "1ab00b1b-9652-41dc-bbbd-2796b1f5a9cd",
         "x": [
          "Australia",
          "Brazil",
          "Canada",
          "China",
          "France",
          "Germany",
          "India",
          "Japan",
          "Russia",
          "Spain",
          "United States of America"
         ],
         "y": [
          272,
          666,
          475,
          1337,
          494,
          621,
          3719,
          557,
          750,
          406,
          3530
         ]
        },
        {
         "name": "Female",
         "type": "bar",
         "uid": "5f0258d1-0d6c-4825-8c48-4ca5ee8d766b",
         "x": [
          "Australia",
          "Brazil",
          "Canada",
          "China",
          "France",
          "Germany",
          "India",
          "Japan",
          "Russia",
          "Spain",
          "United States of America"
         ],
         "y": [
          51,
          65,
          123,
          267,
          104,
          103,
          657,
          34,
          113,
          75,
          1082
         ]
        },
        {
         "name": "Prefer not to say",
         "type": "bar",
         "uid": "b4379922-d6f6-4ac5-89bc-1f72bb477a0e",
         "x": [
          "Australia",
          "Brazil",
          "Canada",
          "China",
          "France",
          "Germany",
          "India",
          "Japan",
          "Russia",
          "Spain",
          "United States of America"
         ],
         "y": [
          4,
          2,
          3,
          38,
          5,
          8,
          37,
          6,
          8,
          4,
          77
         ]
        },
        {
         "name": "Prefer to self-describe",
         "type": "bar",
         "uid": "856fc51d-9636-41ca-91fc-ff4c52ce38a2",
         "x": [
          "Australia",
          "Brazil",
          "Canada",
          "China",
          "France",
          "Germany",
          "India",
          "Japan",
          "Russia",
          "Spain",
          "United States of America"
         ],
         "y": [
          3,
          3,
          3,
          2,
          1,
          2,
          4,
          8,
          27
         ]
        }
       ],
       "layout": {
        "barmode": "group"
       }
      },
      "text/html": [
       "<div id=\"2fb16d61-96cb-48ad-8c20-a345ab90626b\" style=\"height: 525px; width: 100%;\" class=\"plotly-graph-div\"></div><script type=\"text/javascript\">require([\"plotly\"], function(Plotly) { window.PLOTLYENV=window.PLOTLYENV || {};window.PLOTLYENV.BASE_URL=\"https://plot.ly\";Plotly.newPlot(\"2fb16d61-96cb-48ad-8c20-a345ab90626b\", [{\"name\": \"Male\", \"x\": [\"Australia\", \"Brazil\", \"Canada\", \"China\", \"France\", \"Germany\", \"India\", \"Japan\", \"Russia\", \"Spain\", \"United States of America\"], \"y\": [272, 666, 475, 1337, 494, 621, 3719, 557, 750, 406, 3530], \"type\": \"bar\", \"uid\": \"1ab00b1b-9652-41dc-bbbd-2796b1f5a9cd\"}, {\"name\": \"Female\", \"x\": [\"Australia\", \"Brazil\", \"Canada\", \"China\", \"France\", \"Germany\", \"India\", \"Japan\", \"Russia\", \"Spain\", \"United States of America\"], \"y\": [51, 65, 123, 267, 104, 103, 657, 34, 113, 75, 1082], \"type\": \"bar\", \"uid\": \"5f0258d1-0d6c-4825-8c48-4ca5ee8d766b\"}, {\"name\": \"Prefer not to say\", \"x\": [\"Australia\", \"Brazil\", \"Canada\", \"China\", \"France\", \"Germany\", \"India\", \"Japan\", \"Russia\", \"Spain\", \"United States of America\"], \"y\": [4, 2, 3, 38, 5, 8, 37, 6, 8, 4, 77], \"type\": \"bar\", \"uid\": \"b4379922-d6f6-4ac5-89bc-1f72bb477a0e\"}, {\"name\": \"Prefer to self-describe\", \"x\": [\"Australia\", \"Brazil\", \"Canada\", \"China\", \"France\", \"Germany\", \"India\", \"Japan\", \"Russia\", \"Spain\", \"United States of America\"], \"y\": [3, 3, 3, 2, 1, 2, 4, 8, 27], \"type\": \"bar\", \"uid\": \"856fc51d-9636-41ca-91fc-ff4c52ce38a2\"}], {\"barmode\": \"group\"}, {\"showLink\": false, \"linkText\": \"Export to plot.ly\", \"plotlyServerURL\": \"https://plot.ly\"})});</script><script type=\"text/javascript\">window.addEventListener(\"resize\", function(){window._Plotly.Plots.resize(document.getElementById(\"2fb16d61-96cb-48ad-8c20-a345ab90626b\"));});</script>"
      ],
      "text/vnd.plotly.v1+html": [
       "<div id=\"2fb16d61-96cb-48ad-8c20-a345ab90626b\" style=\"height: 525px; width: 100%;\" class=\"plotly-graph-div\"></div><script type=\"text/javascript\">require([\"plotly\"], function(Plotly) { window.PLOTLYENV=window.PLOTLYENV || {};window.PLOTLYENV.BASE_URL=\"https://plot.ly\";Plotly.newPlot(\"2fb16d61-96cb-48ad-8c20-a345ab90626b\", [{\"name\": \"Male\", \"x\": [\"Australia\", \"Brazil\", \"Canada\", \"China\", \"France\", \"Germany\", \"India\", \"Japan\", \"Russia\", \"Spain\", \"United States of America\"], \"y\": [272, 666, 475, 1337, 494, 621, 3719, 557, 750, 406, 3530], \"type\": \"bar\", \"uid\": \"1ab00b1b-9652-41dc-bbbd-2796b1f5a9cd\"}, {\"name\": \"Female\", \"x\": [\"Australia\", \"Brazil\", \"Canada\", \"China\", \"France\", \"Germany\", \"India\", \"Japan\", \"Russia\", \"Spain\", \"United States of America\"], \"y\": [51, 65, 123, 267, 104, 103, 657, 34, 113, 75, 1082], \"type\": \"bar\", \"uid\": \"5f0258d1-0d6c-4825-8c48-4ca5ee8d766b\"}, {\"name\": \"Prefer not to say\", \"x\": [\"Australia\", \"Brazil\", \"Canada\", \"China\", \"France\", \"Germany\", \"India\", \"Japan\", \"Russia\", \"Spain\", \"United States of America\"], \"y\": [4, 2, 3, 38, 5, 8, 37, 6, 8, 4, 77], \"type\": \"bar\", \"uid\": \"b4379922-d6f6-4ac5-89bc-1f72bb477a0e\"}, {\"name\": \"Prefer to self-describe\", \"x\": [\"Australia\", \"Brazil\", \"Canada\", \"China\", \"France\", \"Germany\", \"India\", \"Japan\", \"Russia\", \"Spain\", \"United States of America\"], \"y\": [3, 3, 3, 2, 1, 2, 4, 8, 27], \"type\": \"bar\", \"uid\": \"856fc51d-9636-41ca-91fc-ff4c52ce38a2\"}], {\"barmode\": \"group\"}, {\"showLink\": false, \"linkText\": \"Export to plot.ly\", \"plotlyServerURL\": \"https://plot.ly\"})});</script><script type=\"text/javascript\">window.addEventListener(\"resize\", function(){window._Plotly.Plots.resize(document.getElementById(\"2fb16d61-96cb-48ad-8c20-a345ab90626b\"));});</script>"
      ]
     },
     "metadata": {},
     "output_type": "display_data"
    }
   ],
   "source": [
    "trace1 = go.Bar(\n",
    "    x=country,\n",
    "    y=DP_df['Male'],\n",
    "    name='Male'\n",
    ")\n",
    "trace2 = go.Bar(\n",
    "    x=country,\n",
    "    y=DP_df['Female'],\n",
    "    name='Female'\n",
    ")\n",
    "\n",
    "trace3 = go.Bar(\n",
    "    x=country,\n",
    "    y=DP_df['Prefer not to say'],\n",
    "    name='Prefer not to say'\n",
    ")\n",
    "\n",
    "trace4 = go.Bar(\n",
    "    x=country,\n",
    "    y=DP_df['Prefer to self-describe'],\n",
    "    name='Prefer to self-describe'\n",
    ")\n",
    "\n",
    "data = [trace1, trace2, trace3, trace4]\n",
    "layout = go.Layout(\n",
    "    barmode='group'\n",
    ")\n",
    "\n",
    "fig = go.Figure(data=data, layout=layout)\n",
    "py.iplot(fig, filename='grouped-bar')"
   ]
  },
  {
   "cell_type": "code",
   "execution_count": 28,
   "metadata": {
    "_uuid": "4ac28df3a7c79a6d372fc6590555fead6f521595"
   },
   "outputs": [
    {
     "data": {
      "image/png": "[encoded data removed]",
      "text/plain": [
       "<Figure size 864x432 with 1 Axes>"
      ]
     },
     "metadata": {},
     "output_type": "display_data"
    }
   ],
   "source": [
    "df = multiChoice_df[['Q1', 'Q2']][1:].dropna()\n",
    "df['Q1'] = df['Q1'].replace(['Prefer not to say', 'Prefer to self-describe'], 'Others')\n",
    "\n",
    "# Select only those indices where the top 10 countries are there\n",
    "plt.figure(figsize=(12,6))\n",
    "sns.countplot(data=df, x='Q2', hue='Q1', hue_order=['Female','Male', 'Others'], order=order)\n",
    "plt.xlabel('Age-group')\n",
    "plt.ylabel('Count')\n",
    "plt.title('Gender distribution in different age-groups')\n",
    "plt.show()\n"
   ]
  },
  {
   "cell_type": "code",
   "execution_count": null,
   "metadata": {},
   "outputs": [],
   "source": []
  },
  {
   "cell_type": "code",
   "execution_count": null,
   "metadata": {},
   "outputs": [],
   "source": []
  },
  {
   "cell_type": "code",
   "execution_count": null,
   "metadata": {},
   "outputs": [],
   "source": []
  }
 ],
 "metadata": {
  "kernelspec": {
   "display_name": "Python 3",
   "language": "python",
   "name": "python3"
  },
  "language_info": {
   "codemirror_mode": {
    "name": "ipython",
    "version": 3
   },
   "file_extension": ".py",
   "mimetype": "text/x-python",
   "name": "python",
   "nbconvert_exporter": "python",
   "pygments_lexer": "ipython3",
   "version": "3.7.1"
  }
 },
 "nbformat": 4,
 "nbformat_minor": 2
}
