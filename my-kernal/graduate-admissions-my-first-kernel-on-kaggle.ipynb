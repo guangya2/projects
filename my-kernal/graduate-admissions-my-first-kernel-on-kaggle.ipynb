{
 "cells": [
  {
   "cell_type": "code",
   "execution_count": 4,
   "metadata": {
    "_cell_guid": "b1076dfc-b9ad-4769-8c92-a6c4dae69d19",
    "_uuid": "8f2839f25d086af736a60e9eeb907d3b93b6e0e5"
   },
   "outputs": [],
   "source": [
    "#!/usr/bin/env python3\n",
    "# -*- coding: utf-8 -*-\n",
    "\"\"\"\n",
    "Created on Sat Jan 26 15:22:14 2019\n",
    "\n",
    "@author: Guangya Wan\n",
    "\"\"\"\n",
    "\n",
    "import numpy as np\n",
    "import pandas as pd\n",
    "\n",
    "dataset=pd.read_csv(\"data/Admission_Predict.csv\")\n",
    "X = dataset.iloc[:,1:8].values #values removes headings of columns\n",
    "y = dataset.iloc[:,-1].values\n",
    "model = []\n",
    "accuracy = []\n",
    "\n",
    "from sklearn.preprocessing import StandardScaler\n",
    "sc_X = StandardScaler()\n",
    "X = sc_X.fit_transform(X)\n",
    "\n",
    "from sklearn.model_selection import train_test_split, cross_val_score\n",
    "XTrain, XTest, yTrain, yTest = train_test_split(X, y, test_size=0.3, random_state=10)\n",
    "\n"
   ]
  },
  {
   "cell_type": "code",
   "execution_count": 5,
   "metadata": {
    "_cell_guid": "79c7e3d0-c299-4dcb-8224-4455121ee9b0",
    "_uuid": "d629ff2d2480ee46fbb7e2d37f6b5fab8052498a"
   },
   "outputs": [
    {
     "name": "stdout",
     "output_type": "stream",
     "text": [
      "Accuracy of Linear Regression =  0.7416727649400311\n"
     ]
    }
   ],
   "source": [
    "#MultiVariable Linear Regression\n",
    "from sklearn.linear_model import LinearRegression\n",
    "regressor = LinearRegression()\n",
    "regressor.fit(XTrain,yTrain)\n",
    "s = regressor.score(XTest,yTest)\n",
    "print('Accuracy of Linear Regression = ',s)\n",
    "model.append('LinearRegression')\n",
    "accuracy.append(s)\n",
    "yPred = regressor.predict(XTest)"
   ]
  },
  {
   "cell_type": "code",
   "execution_count": 6,
   "metadata": {
    "_uuid": "74e5c948d72b9a802a506ffd29555aea2206a935"
   },
   "outputs": [
    {
     "name": "stdout",
     "output_type": "stream",
     "text": [
      "Accuracy of Support Vector Regression =  0.7284471516174202\n"
     ]
    }
   ],
   "source": [
    "#Support Vector Regression\n",
    "from sklearn.svm import SVR\n",
    "regressor = SVR(kernel='linear',epsilon=0.01)\n",
    "regressor.fit(XTrain,yTrain)\n",
    "s = regressor.score(XTest,yTest)\n",
    "print('Accuracy of Support Vector Regression = ',s)\n",
    "model.append('Support Vector Regression')\n",
    "accuracy.append(s)\n",
    "yPred = regressor.predict(XTest)"
   ]
  },
  {
   "cell_type": "code",
   "execution_count": 7,
   "metadata": {
    "_uuid": "4f6a460cebf8564ba8f8aa737906aa6e62604122"
   },
   "outputs": [
    {
     "name": "stdout",
     "output_type": "stream",
     "text": [
      "Accuracy of Decision Tree Regression =  0.6132888275554204\n"
     ]
    }
   ],
   "source": [
    "#Decision Tree Regression\n",
    "from sklearn.tree import DecisionTreeRegressor as DT\n",
    "regressor = DT(max_depth=10)\n",
    "regressor.fit(XTrain,yTrain)\n",
    "s = regressor.score(XTest,yTest)\n",
    "print('Accuracy of Decision Tree Regression = ',s)\n",
    "model.append('Decision Tree Regression')\n",
    "accuracy.append(s)\n",
    "yPred = regressor.predict(XTest)"
   ]
  },
  {
   "cell_type": "code",
   "execution_count": 8,
   "metadata": {
    "_uuid": "36ba1c73790d8fe0d44dbfa517e4e972b6bf2ef1"
   },
   "outputs": [
    {
     "name": "stdout",
     "output_type": "stream",
     "text": [
      "Accuracy of Random Forest Regression =  0.700780457421331\n",
      "None\n"
     ]
    }
   ],
   "source": [
    "#Random Forest Regression\n",
    "from sklearn.ensemble import RandomForestRegressor as RF\n",
    "regressor = RF(n_estimators=100,max_depth=10,criterion='mse')\n",
    "regressor.fit(XTrain,yTrain)\n",
    "s = regressor.score(XTest,yTest)\n",
    "print(print('Accuracy of Random Forest Regression = ',s)\n",
    ")\n",
    "model.append('Random Forest Regression')\n",
    "accuracy.append(s)\n",
    "yPred = regressor.predict(XTest)"
   ]
  },
  {
   "cell_type": "code",
   "execution_count": 9,
   "metadata": {
    "_uuid": "136cfcf49e2368e020b95b2aa7780c97dda68627"
   },
   "outputs": [
    {
     "data": {
      "image/png": "[encoded data removed]",
      "text/plain": [
       "<Figure size 432x288 with 1 Axes>"
      ]
     },
     "metadata": {
      "needs_background": "light"
     },
     "output_type": "display_data"
    }
   ],
   "source": [
    "#Compare the models\n",
    "import matplotlib.pyplot as plt\n",
    "index = np.arange(len(model))\n",
    "plt.bar(index,accuracy,alpha=1,color='blue')\n",
    "plt.ylabel('Accuracy')\n",
    "plt.xlabel('Different Machine Learning Models')\n",
    "plt.xticks(index,model)\n",
    "plt.show()"
   ]
  },
  {
   "cell_type": "code",
   "execution_count": 10,
   "metadata": {
    "_uuid": "7836473daaa31ae9db645c086b26e8b7677adad1"
   },
   "outputs": [
    {
     "name": "stdout",
     "output_type": "stream",
     "text": [
      "LinearRegression  :  0.7416727649400311\n",
      "Support Vector Regression  :  0.7284471516174202\n",
      "Decision Tree Regression  :  0.6132888275554204\n",
      "Random Forest Regression  :  0.700780457421331\n"
     ]
    }
   ],
   "source": [
    "for i in range(len(model)):\n",
    "    print(model[i],\" : \",accuracy[i])"
   ]
  },
  {
   "cell_type": "code",
   "execution_count": null,
   "metadata": {},
   "outputs": [],
   "source": []
  },
  {
   "cell_type": "code",
   "execution_count": null,
   "metadata": {},
   "outputs": [],
   "source": []
  },
  {
   "cell_type": "code",
   "execution_count": null,
   "metadata": {},
   "outputs": [],
   "source": []
  }
 ],
 "metadata": {
  "kernelspec": {
   "display_name": "Python 3",
   "language": "python",
   "name": "python3"
  },
  "language_info": {
   "codemirror_mode": {
    "name": "ipython",
    "version": 3
   },
   "file_extension": ".py",
   "mimetype": "text/x-python",
   "name": "python",
   "nbconvert_exporter": "python",
   "pygments_lexer": "ipython3",
   "version": "3.7.1"
  }
 },
 "nbformat": 4,
 "nbformat_minor": 2
}
