{
 "cells": [
  {
   "cell_type": "code",
   "execution_count": 6,
   "metadata": {},
   "outputs": [],
   "source": [
    "import matplotlib.pyplot as plt\n",
    "import seaborn as sns; sns.set()\n",
    "import numpy as np\n",
    "from sklearn.model_selection import KFold\n",
    "from sklearn.ensemble import RandomForestClassifier\n",
    "from sklearn.cluster import AgglomerativeClustering\n",
    "import pandas as pd\n",
    "import os \n",
    "from collections import defaultdict\n",
    "from scipy.cluster.vq import *"
   ]
  },
  {
   "cell_type": "code",
   "execution_count": 38,
   "metadata": {},
   "outputs": [],
   "source": [
    "my_list = os.listdir('data/HMP_Dataset')\n",
    "all_arrays = defaultdict(list)\n",
    "for dirname in my_list:\n",
    "    if not os.path.isdir('data/HMP_Dataset/' + dirname): continue\n",
    "    for filename in os.listdir('data/HMP_Dataset/' + dirname):\n",
    "        array = np.loadtxt('data/HMP_Dataset/' + dirname + os.sep + filename,dtype= 'float')\n",
    "        all_arrays[dirname].append(array)\n",
    "\n",
    "data = []\n",
    "for items in all_arrays.values():\n",
    "    data.append((np.vstack(items)))\n",
    "data_all = np.vstack(data)"
   ]
  },
  {
   "cell_type": "code",
   "execution_count": 42,
   "metadata": {},
   "outputs": [],
   "source": [
    "vector = []\n",
    "n = 32\n",
    "k = 64\n",
    "for i in range(int(len(data_all) / n)):\n",
    "    vector.append(data_all[i:i+n].reshape(3*n))\n",
    "    i += n"
   ]
  },
  {
   "cell_type": "code",
   "execution_count": 43,
   "metadata": {},
   "outputs": [],
   "source": [
    "vector = np.array(vector)"
   ]
  },
  {
   "cell_type": "code",
   "execution_count": 45,
   "metadata": {},
   "outputs": [],
   "source": [
    "cluster,labels = kmeans(vector,k)"
   ]
  },
  {
   "cell_type": "code",
   "execution_count": 15,
   "metadata": {},
   "outputs": [
    {
     "data": {
      "text/plain": [
       "(96, 96)"
      ]
     },
     "execution_count": 15,
     "metadata": {},
     "output_type": "execute_result"
    }
   ],
   "source": [
    "cluster[0]"
   ]
  },
  {
   "cell_type": "code",
   "execution_count": 26,
   "metadata": {},
   "outputs": [],
   "source": [
    "array = []\n",
    "for i in range(int(len(all_arrays['Walk'][0]) / 32)):\n",
    "    array.append(all_arrays['Walk'][0][i:i+32].reshape(96))\n",
    "array = np.array(array)\n"
   ]
  },
  {
   "cell_type": "code",
   "execution_count": 35,
   "metadata": {},
   "outputs": [
    {
     "data": {
      "text/plain": [
       "(array([33, 33, 33, 33, 33,  5,  5,  5,  5,  5,  5,  5,  5,  5, 26],\n",
       "       dtype=int32),\n",
       " array([35.07764507, 36.27431321, 38.98869203, 42.71545873, 46.97080549,\n",
       "        48.03229678, 44.62176077, 41.89780255, 40.55785216, 40.38890561,\n",
       "        41.59318966, 44.53961394, 47.95711957, 51.77204629, 50.11421265]))"
      ]
     },
     "execution_count": 35,
     "metadata": {},
     "output_type": "execute_result"
    }
   ],
   "source": [
    "array = np.array(array)\n",
    "array\n",
    "vq(array,cluster[0])"
   ]
  },
  {
   "cell_type": "code",
   "execution_count": 37,
   "metadata": {},
   "outputs": [
    {
     "data": {
      "text/plain": [
       "(13954, 96)"
      ]
     },
     "execution_count": 37,
     "metadata": {},
     "output_type": "execute_result"
    }
   ],
   "source": [
    "vector.shape"
   ]
  },
  {
   "cell_type": "code",
   "execution_count": 46,
   "metadata": {},
   "outputs": [
    {
     "data": {
      "text/plain": [
       "array([[27.95967742, 44.97580645, 41.02419355, ..., 12.88709677,\n",
       "        38.77419355, 34.71774194],\n",
       "       [11.63181818, 43.51363636, 35.97272727, ..., 14.27272727,\n",
       "        42.41818182, 35.55      ],\n",
       "       [ 9.32      , 49.36      , 28.8       , ..., 17.7       ,\n",
       "        46.26      , 30.34      ],\n",
       "       ...,\n",
       "       [15.90697674, 38.14825581, 36.40406977, ..., 10.97965116,\n",
       "        38.15406977, 36.47965116],\n",
       "       [12.2       , 36.63214286, 33.24285714, ..., 12.29285714,\n",
       "        36.83928571, 32.96071429],\n",
       "       [11.13350785, 34.42408377, 35.43717277, ..., 12.33246073,\n",
       "        34.5       , 35.66753927]])"
      ]
     },
     "execution_count": 46,
     "metadata": {},
     "output_type": "execute_result"
    }
   ],
   "source": [
    "cluster"
   ]
  },
  {
   "cell_type": "code",
   "execution_count": null,
   "metadata": {},
   "outputs": [],
   "source": []
  }
 ],
 "metadata": {
  "kernelspec": {
   "display_name": "Python 3",
   "language": "python",
   "name": "python3"
  },
  "language_info": {
   "codemirror_mode": {
    "name": "ipython",
    "version": 3
   },
   "file_extension": ".py",
   "mimetype": "text/x-python",
   "name": "python",
   "nbconvert_exporter": "python",
   "pygments_lexer": "ipython3",
   "version": "3.7.1"
  }
 },
 "nbformat": 4,
 "nbformat_minor": 2
}
