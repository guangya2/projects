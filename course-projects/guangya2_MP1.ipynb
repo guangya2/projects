{
 "cells": [
  {
   "cell_type": "raw",
   "metadata": {},
   "source": [
    "Guangya Wan guangya2\n",
    "Sizhi Tan sizhit2\n",
    "Hauyu Zhang hanyuz2\n"
   ]
  },
  {
   "cell_type": "markdown",
   "metadata": {},
   "source": [
    "# Task 0"
   ]
  },
  {
   "cell_type": "markdown",
   "metadata": {},
   "source": [
    "## Question 1"
   ]
  },
  {
   "cell_type": "code",
   "execution_count": 1,
   "metadata": {},
   "outputs": [],
   "source": [
    "import pandas as pd # use pandas to import two csv \n",
    "from scipy import stats\n",
    "df = pd.read_csv('mp1_av_disengagements.csv') \n",
    "df1 = pd.read_csv('mp1_av_totalmiles.csv')\n",
    "\n"
   ]
  },
  {
   "cell_type": "markdown",
   "metadata": {},
   "source": [
    "## Question 2"
   ]
  },
  {
   "cell_type": "markdown",
   "metadata": {},
   "source": [
    "### a."
   ]
  },
  {
   "cell_type": "code",
   "execution_count": 2,
   "metadata": {},
   "outputs": [
    {
     "data": {
      "text/plain": [
       "1024"
      ]
     },
     "execution_count": 2,
     "metadata": {},
     "output_type": "execute_result"
    }
   ],
   "source": [
    "# use sum() to calculate total number of AV disengagements over the entire duration\n",
    "df1['total number of disengagements'].sum() "
   ]
  },
  {
   "cell_type": "markdown",
   "metadata": {},
   "source": [
    "### b."
   ]
  },
  {
   "cell_type": "code",
   "execution_count": 3,
   "metadata": {},
   "outputs": [
    {
     "data": {
      "text/plain": [
       "15"
      ]
     },
     "execution_count": 3,
     "metadata": {},
     "output_type": "execute_result"
    }
   ],
   "source": [
    "#nuique() gives number of unique value in Month columns(excluding null values)\n",
    "df['Month'].nunique()"
   ]
  },
  {
   "cell_type": "markdown",
   "metadata": {},
   "source": [
    "### c."
   ]
  },
  {
   "cell_type": "code",
   "execution_count": 4,
   "metadata": {},
   "outputs": [
    {
     "data": {
      "text/plain": [
       "array(['14-Sep', '14-Oct', '14-Nov', '14-Dec', '15-Jan', '15-Feb',\n",
       "       '15-Mar', '15-Apr', '15-May', '15-Jun', '15-Jul', '15-Aug',\n",
       "       '15-Sep', '15-Oct', '15-Nov'], dtype=object)"
      ]
     },
     "execution_count": 4,
     "metadata": {},
     "output_type": "execute_result"
    }
   ],
   "source": [
    "# unique() returns all the unique entries \n",
    "df.Month.unique()"
   ]
  },
  {
   "cell_type": "markdown",
   "metadata": {},
   "source": [
    "### d."
   ]
  },
  {
   "cell_type": "code",
   "execution_count": 5,
   "metadata": {},
   "outputs": [
    {
     "data": {
      "text/plain": [
       "10"
      ]
     },
     "execution_count": 5,
     "metadata": {},
     "output_type": "execute_result"
    }
   ],
   "source": [
    "#nunique() returns number of unique value in specific columns \n",
    "df['Cause'].nunique()"
   ]
  },
  {
   "cell_type": "markdown",
   "metadata": {},
   "source": [
    "### e."
   ]
  },
  {
   "cell_type": "code",
   "execution_count": 6,
   "metadata": {},
   "outputs": [
    {
     "name": "stdout",
     "output_type": "stream",
     "text": [
      "av_disengagement.csv has 532 NA values\n",
      "totalmiles.csv has 0 NA values\n"
     ]
    }
   ],
   "source": [
    "# isnull() is used to detect any missing values\n",
    "# sum() is used to calculate number of missing values for each attribute\n",
    "print('av_disengagement.csv has ' + str(sum(df.isnull().sum())) + \" NA values\") # for df imported from av_disengagement.csv\n",
    "print('totalmiles.csv has ' + str(sum(df1.isnull().sum())) + \" NA values\") # for df1 imported from totalmiles.csv\n",
    "\n"
   ]
  },
  {
   "cell_type": "markdown",
   "metadata": {},
   "source": [
    "## Question 3"
   ]
  },
  {
   "cell_type": "code",
   "execution_count": 7,
   "metadata": {},
   "outputs": [
    {
     "data": {
      "text/plain": [
       "<matplotlib.axes._subplots.AxesSubplot at 0x7ff97e0bd668>"
      ]
     },
     "execution_count": 7,
     "metadata": {},
     "output_type": "execute_result"
    }
   ],
   "source": [
    "# plot based on Cause attribute, so use groupby() by this attribute\n",
    "# autopct() to show percentage\n",
    "plot = df.groupby(['Cause']).size().plot.pie(y = 'Cause',autopct='%1.1f%%',shadow = True)\n",
    "plot.legend(loc='center left', bbox_to_anchor=(1.5, 0.5)) # show legend \n",
    "plot.set_title('Causes of AV disengagement') # set title\n",
    "plot"
   ]
  },
  {
   "cell_type": "markdown",
   "metadata": {},
   "source": [
    "### Based on pie chart, the top 2 cause are \"Unwanted Driver Discomfort\" and \"Recklessly behaving agent\""
   ]
  },
  {
   "cell_type": "markdown",
   "metadata": {},
   "source": [
    "## Question 4"
   ]
  },
  {
   "cell_type": "code",
   "execution_count": 8,
   "metadata": {},
   "outputs": [],
   "source": [
    "# group the data by month\n",
    "trend_df = df1.groupby(['Month'],sort = False)[['miles driven in autonomous mode','total number of disengagements']].sum()\n"
   ]
  },
  {
   "cell_type": "code",
   "execution_count": 9,
   "metadata": {},
   "outputs": [
    {
     "data": {
      "text/plain": [
       "Text(0,0.5,'disengagement per mile')"
      ]
     },
     "execution_count": 9,
     "metadata": {},
     "output_type": "execute_result"
    },
    {
     "data": {
      "image/png": "[encoded data removed]",
      "text/plain": [
       "<Figure size 432x288 with 1 Axes>"
      ]
     },
     "metadata": {},
     "output_type": "display_data"
    }
   ],
   "source": [
    "# create disengagement/mile entries coresponding to each month\n",
    "trend_df['dis/mile'] = trend_df['total number of disengagements']/ trend_df['miles driven in autonomous mode']\n",
    "# plot the disengagement/mile over every months to see the trend \n",
    "trend = trend_df.plot.bar(y = 'dis/mile',title = 'disengagement per mile over time')\n",
    "trend.set_ylabel('disengagement per mile')\n"
   ]
  },
  {
   "cell_type": "markdown",
   "metadata": {},
   "source": [
    "#### Conclusion: In general, total number of disengagement per mile is decreasing over time.  The AV is seemingly maturing over time."
   ]
  },
  {
   "cell_type": "markdown",
   "metadata": {},
   "source": [
    "# Task 1"
   ]
  },
  {
   "cell_type": "markdown",
   "metadata": {},
   "source": [
    "## Question 1"
   ]
  },
  {
   "cell_type": "markdown",
   "metadata": {},
   "source": [
    "### a."
   ]
  },
  {
   "cell_type": "markdown",
   "metadata": {},
   "source": [
    "### Gaussian distribution :  large amount of samples fall close to the mean, a few amount of samples are some deviation away from the mean\n",
    "\n"
   ]
  },
  {
   "cell_type": "markdown",
   "metadata": {},
   "source": [
    "### b.Exponential distribution: events occur continuously and independently at a constant rate, where the samples lie are independent from time.\n",
    "     "
   ]
  },
  {
   "cell_type": "markdown",
   "metadata": {},
   "source": [
    "### c. Weibull distribution: the failure rate is proportional to a power of time. Large amount of samples will be centered around a certain point."
   ]
  },
  {
   "cell_type": "markdown",
   "metadata": {},
   "source": [
    "## Question 2"
   ]
  },
  {
   "cell_type": "code",
   "execution_count": 10,
   "metadata": {},
   "outputs": [
    {
     "data": {
      "text/plain": [
       "Text(0.5,1,'probability distribution of reaction time')"
      ]
     },
     "execution_count": 10,
     "metadata": {},
     "output_type": "execute_result"
    },
    {
     "data": {
      "image/png": "[encoded data removed]",
      "text/plain": [
       "<Figure size 432x288 with 1 Axes>"
      ]
     },
     "metadata": {},
     "output_type": "display_data"
    }
   ],
   "source": [
    "# plot the probability distribution of reactionTime \n",
    "# use hist() to plot histogram and range() to better show general trend\n",
    "his_reaction = (df['ReactionTime']).hist(bins = 30,density = True)\n",
    "his_reaction.set_xlabel('reaction time')\n",
    "his_reaction.set_ylabel('Probability')\n",
    "his_reaction.set_title('probability distribution of reaction time')"
   ]
  },
  {
   "cell_type": "markdown",
   "metadata": {},
   "source": [
    "### This distirbution fits a welbuli distribution.This signifies that It is common to see a large amount of reaction time happen within a small interval(0-2 seconds), and after that, as time increases, it is very unlikely, though not impossible, to see some other samples with long reaction time."
   ]
  },
  {
   "cell_type": "markdown",
   "metadata": {},
   "source": [
    "## Question 3"
   ]
  },
  {
   "cell_type": "markdown",
   "metadata": {},
   "source": [
    "### a."
   ]
  },
  {
   "cell_type": "code",
   "execution_count": 11,
   "metadata": {},
   "outputs": [
    {
     "data": {
      "text/plain": [
       "0.9297703252032526"
      ]
     },
     "execution_count": 11,
     "metadata": {},
     "output_type": "execute_result"
    }
   ],
   "source": [
    "# mean() gives the mean of the given attribute\n",
    "# since no restriction is made, this returns mean of reaction time over entire duration\n",
    "df['ReactionTime'].mean()"
   ]
  },
  {
   "cell_type": "markdown",
   "metadata": {},
   "source": [
    "### b."
   ]
  },
  {
   "cell_type": "code",
   "execution_count": 12,
   "metadata": {},
   "outputs": [],
   "source": [
    "# use nunique() figure out how many unique locations in the dataset\n",
    "df['Location'].nunique()\n",
    "# figure out average reaction time at each location\n",
    "highway_mean = df[df['Location'] == 'highway']['ReactionTime'].mean()\n",
    "urban_mean = df[df['Location'] == 'urban-street']['ReactionTime'].mean()\n"
   ]
  },
  {
   "cell_type": "markdown",
   "metadata": {},
   "source": [
    "## Question 4"
   ]
  },
  {
   "cell_type": "code",
   "execution_count": 13,
   "metadata": {},
   "outputs": [
    {
     "data": {
      "text/plain": [
       "Ttest_1sampResult(statistic=-2.0986037086235854, pvalue=0.03636206696694606)"
      ]
     },
     "execution_count": 13,
     "metadata": {},
     "output_type": "execute_result"
    }
   ],
   "source": [
    "stats.ttest_1samp(df['ReactionTime'].dropna(),1.09) \n",
    "# ttest_1samp is provides t statistics and two-tailed p value for one sample t-test"
   ]
  },
  {
   "cell_type": "markdown",
   "metadata": {},
   "source": [
    "### Based on the result from 1 sample t test, the two-tailed p value is smaller than 0.5, which means we should reject the null, therefore, the mean reaction time is different for humans in AV cars than in non-AV cars.\n"
   ]
  },
  {
   "cell_type": "markdown",
   "metadata": {},
   "source": [
    "## Question 5"
   ]
  },
  {
   "cell_type": "code",
   "execution_count": 14,
   "metadata": {
    "scrolled": true
   },
   "outputs": [
    {
     "data": {
      "text/plain": [
       "Text(0.5,1,'disengagement per mile with monthly granularity')"
      ]
     },
     "execution_count": 14,
     "metadata": {},
     "output_type": "execute_result"
    },
    {
     "data": {
      "image/png": "[encoded data removed]",
      "text/plain": [
       "<Figure size 432x288 with 1 Axes>"
      ]
     },
     "metadata": {},
     "output_type": "display_data"
    }
   ],
   "source": [
    "# plot the disengagement per mile with monthly granularity\n",
    "trend_df['prob'] = trend_df['dis/mile'] / sum(trend_df['dis/mile'])\n",
    "trend_dis = trend_df.plot.bar(y = 'prob',title = 'probability distribution disengagement per mile over time')\n",
    "trend_dis.set_xlabel('disengagement per mile')\n",
    "trend_dis.set_ylabel('Probability')\n",
    "trend_dis.set_title('disengagement per mile with monthly granularity')"
   ]
  },
  {
   "cell_type": "markdown",
   "metadata": {},
   "source": [
    "### Based on the bar plot above, it is very close to exponential(also welbuli with adaquate parameters) distribution.if samples are drawn from a random variable that follows the exponential distribution, the samples tell us the likelihood of the result of an experiement is memoryless and will decrease fast at the beginning and get slow down as the time increase, and it will converge to 0. So this signifies that the dis/mile will become fewer in the future theortically which is a nice thing.\n"
   ]
  },
  {
   "cell_type": "code",
   "execution_count": 15,
   "metadata": {},
   "outputs": [
    {
     "data": {
      "text/html": [
       "<div>\n",
       "<style scoped>\n",
       "    .dataframe tbody tr th:only-of-type {\n",
       "        vertical-align: middle;\n",
       "    }\n",
       "\n",
       "    .dataframe tbody tr th {\n",
       "        vertical-align: top;\n",
       "    }\n",
       "\n",
       "    .dataframe thead th {\n",
       "        text-align: right;\n",
       "    }\n",
       "</style>\n",
       "<table border=\"1\" class=\"dataframe\">\n",
       "  <thead>\n",
       "    <tr style=\"text-align: right;\">\n",
       "      <th></th>\n",
       "      <th>Month</th>\n",
       "      <th>Car</th>\n",
       "      <th>Location</th>\n",
       "      <th>Weather</th>\n",
       "      <th>TypeOfTrigger</th>\n",
       "      <th>ReactionTime</th>\n",
       "      <th>Cause</th>\n",
       "    </tr>\n",
       "  </thead>\n",
       "  <tbody>\n",
       "    <tr>\n",
       "      <th>0</th>\n",
       "      <td>14-Sep</td>\n",
       "      <td>WDD2221851A001072</td>\n",
       "      <td>urban-street</td>\n",
       "      <td>cloudy</td>\n",
       "      <td>automatic</td>\n",
       "      <td>0.58</td>\n",
       "      <td>Incorrect Traffic Light Detection</td>\n",
       "    </tr>\n",
       "    <tr>\n",
       "      <th>1</th>\n",
       "      <td>14-Sep</td>\n",
       "      <td>WDD2221851A001072</td>\n",
       "      <td>urban-street</td>\n",
       "      <td>cloudy</td>\n",
       "      <td>automatic</td>\n",
       "      <td>0.66</td>\n",
       "      <td>Adverse road surface conditions</td>\n",
       "    </tr>\n",
       "    <tr>\n",
       "      <th>2</th>\n",
       "      <td>14-Sep</td>\n",
       "      <td>WDD2221851A001072</td>\n",
       "      <td>urban-street</td>\n",
       "      <td>cloudy</td>\n",
       "      <td>automatic</td>\n",
       "      <td>1.93</td>\n",
       "      <td>Position Estimation Failure</td>\n",
       "    </tr>\n",
       "    <tr>\n",
       "      <th>3</th>\n",
       "      <td>14-Sep</td>\n",
       "      <td>WDD2221851A001072</td>\n",
       "      <td>urban-street</td>\n",
       "      <td>cloudy</td>\n",
       "      <td>automatic</td>\n",
       "      <td>0.65</td>\n",
       "      <td>Emergency Vehicle</td>\n",
       "    </tr>\n",
       "    <tr>\n",
       "      <th>4</th>\n",
       "      <td>14-Sep</td>\n",
       "      <td>WDD2221851A001072</td>\n",
       "      <td>urban-street</td>\n",
       "      <td>cloudy</td>\n",
       "      <td>automatic</td>\n",
       "      <td>0.64</td>\n",
       "      <td>Adverse road surface conditions</td>\n",
       "    </tr>\n",
       "    <tr>\n",
       "      <th>5</th>\n",
       "      <td>14-Sep</td>\n",
       "      <td>WDD2221851A001072</td>\n",
       "      <td>urban-street</td>\n",
       "      <td>cloudy</td>\n",
       "      <td>automatic</td>\n",
       "      <td>0.88</td>\n",
       "      <td>Incorrect Traffic Light Detection</td>\n",
       "    </tr>\n",
       "    <tr>\n",
       "      <th>6</th>\n",
       "      <td>14-Sep</td>\n",
       "      <td>WDD2221851A001072</td>\n",
       "      <td>urban-street</td>\n",
       "      <td>cloudy</td>\n",
       "      <td>automatic</td>\n",
       "      <td>0.41</td>\n",
       "      <td>Emergency Vehicle</td>\n",
       "    </tr>\n",
       "    <tr>\n",
       "      <th>7</th>\n",
       "      <td>14-Sep</td>\n",
       "      <td>WDD2221851A001072</td>\n",
       "      <td>urban-street</td>\n",
       "      <td>cloudy</td>\n",
       "      <td>automatic</td>\n",
       "      <td>1.45</td>\n",
       "      <td>Emergency Vehicle</td>\n",
       "    </tr>\n",
       "    <tr>\n",
       "      <th>8</th>\n",
       "      <td>14-Sep</td>\n",
       "      <td>WDD2221851A001072</td>\n",
       "      <td>urban-street</td>\n",
       "      <td>cloudy</td>\n",
       "      <td>automatic</td>\n",
       "      <td>0.07</td>\n",
       "      <td>Software Froze</td>\n",
       "    </tr>\n",
       "    <tr>\n",
       "      <th>9</th>\n",
       "      <td>14-Sep</td>\n",
       "      <td>WDD2221851A001072</td>\n",
       "      <td>urban-street</td>\n",
       "      <td>cloudy</td>\n",
       "      <td>automatic</td>\n",
       "      <td>0.37</td>\n",
       "      <td>Hardware Fault</td>\n",
       "    </tr>\n",
       "    <tr>\n",
       "      <th>10</th>\n",
       "      <td>14-Sep</td>\n",
       "      <td>WDD2221851A001072</td>\n",
       "      <td>urban-street</td>\n",
       "      <td>cloudy</td>\n",
       "      <td>automatic</td>\n",
       "      <td>1.55</td>\n",
       "      <td>Emergency Vehicle</td>\n",
       "    </tr>\n",
       "    <tr>\n",
       "      <th>11</th>\n",
       "      <td>14-Sep</td>\n",
       "      <td>WDD2221851A001072</td>\n",
       "      <td>urban-street</td>\n",
       "      <td>cloudy</td>\n",
       "      <td>automatic</td>\n",
       "      <td>0.04</td>\n",
       "      <td>Incorrect Traffic Light Detection</td>\n",
       "    </tr>\n",
       "    <tr>\n",
       "      <th>12</th>\n",
       "      <td>14-Sep</td>\n",
       "      <td>WDD2221851A001072</td>\n",
       "      <td>urban-street</td>\n",
       "      <td>cloudy</td>\n",
       "      <td>automatic</td>\n",
       "      <td>0.40</td>\n",
       "      <td>Incorrect behavior prediction of others</td>\n",
       "    </tr>\n",
       "    <tr>\n",
       "      <th>13</th>\n",
       "      <td>14-Sep</td>\n",
       "      <td>WDD2221851A001072</td>\n",
       "      <td>urban-street</td>\n",
       "      <td>cloudy</td>\n",
       "      <td>automatic</td>\n",
       "      <td>1.86</td>\n",
       "      <td>Emergency Vehicle</td>\n",
       "    </tr>\n",
       "    <tr>\n",
       "      <th>14</th>\n",
       "      <td>14-Sep</td>\n",
       "      <td>WDD2221851A001072</td>\n",
       "      <td>urban-street</td>\n",
       "      <td>cloudy</td>\n",
       "      <td>automatic</td>\n",
       "      <td>0.21</td>\n",
       "      <td>Adverse road surface conditions</td>\n",
       "    </tr>\n",
       "    <tr>\n",
       "      <th>15</th>\n",
       "      <td>14-Sep</td>\n",
       "      <td>WDD2221851A001072</td>\n",
       "      <td>urban-street</td>\n",
       "      <td>cloudy</td>\n",
       "      <td>automatic</td>\n",
       "      <td>0.51</td>\n",
       "      <td>Recklessly behaving agent</td>\n",
       "    </tr>\n",
       "    <tr>\n",
       "      <th>16</th>\n",
       "      <td>14-Sep</td>\n",
       "      <td>WDD2221851A001072</td>\n",
       "      <td>urban-street</td>\n",
       "      <td>cloudy</td>\n",
       "      <td>manual</td>\n",
       "      <td>NaN</td>\n",
       "      <td>Recklessly behaving agent</td>\n",
       "    </tr>\n",
       "    <tr>\n",
       "      <th>17</th>\n",
       "      <td>14-Sep</td>\n",
       "      <td>WDD2221851A001072</td>\n",
       "      <td>urban-street</td>\n",
       "      <td>cloudy</td>\n",
       "      <td>automatic</td>\n",
       "      <td>0.38</td>\n",
       "      <td>System Tuning and Calibration</td>\n",
       "    </tr>\n",
       "    <tr>\n",
       "      <th>18</th>\n",
       "      <td>14-Sep</td>\n",
       "      <td>WDD2221851A001072</td>\n",
       "      <td>urban-street</td>\n",
       "      <td>cloudy</td>\n",
       "      <td>manual</td>\n",
       "      <td>NaN</td>\n",
       "      <td>Unwanted Driver Discomfort</td>\n",
       "    </tr>\n",
       "    <tr>\n",
       "      <th>19</th>\n",
       "      <td>14-Sep</td>\n",
       "      <td>WDD2221851A001072</td>\n",
       "      <td>urban-street</td>\n",
       "      <td>cloudy</td>\n",
       "      <td>automatic</td>\n",
       "      <td>0.22</td>\n",
       "      <td>Incorrect Traffic Light Detection</td>\n",
       "    </tr>\n",
       "    <tr>\n",
       "      <th>20</th>\n",
       "      <td>14-Sep</td>\n",
       "      <td>WDD2221851A001072</td>\n",
       "      <td>urban-street</td>\n",
       "      <td>cloudy</td>\n",
       "      <td>manual</td>\n",
       "      <td>NaN</td>\n",
       "      <td>Unwanted Driver Discomfort</td>\n",
       "    </tr>\n",
       "    <tr>\n",
       "      <th>21</th>\n",
       "      <td>14-Sep</td>\n",
       "      <td>WDD2221851A001072</td>\n",
       "      <td>urban-street</td>\n",
       "      <td>cloudy</td>\n",
       "      <td>manual</td>\n",
       "      <td>NaN</td>\n",
       "      <td>Incorrect behavior prediction of others</td>\n",
       "    </tr>\n",
       "    <tr>\n",
       "      <th>22</th>\n",
       "      <td>14-Sep</td>\n",
       "      <td>WDD2221851A001072</td>\n",
       "      <td>urban-street</td>\n",
       "      <td>cloudy</td>\n",
       "      <td>automatic</td>\n",
       "      <td>1.38</td>\n",
       "      <td>Adverse road surface conditions</td>\n",
       "    </tr>\n",
       "    <tr>\n",
       "      <th>23</th>\n",
       "      <td>14-Sep</td>\n",
       "      <td>WDD2221851A001072</td>\n",
       "      <td>urban-street</td>\n",
       "      <td>cloudy</td>\n",
       "      <td>manual</td>\n",
       "      <td>NaN</td>\n",
       "      <td>Software Froze</td>\n",
       "    </tr>\n",
       "    <tr>\n",
       "      <th>24</th>\n",
       "      <td>14-Sep</td>\n",
       "      <td>WDD2221851A001072</td>\n",
       "      <td>urban-street</td>\n",
       "      <td>cloudy</td>\n",
       "      <td>manual</td>\n",
       "      <td>NaN</td>\n",
       "      <td>Recklessly behaving agent</td>\n",
       "    </tr>\n",
       "    <tr>\n",
       "      <th>25</th>\n",
       "      <td>14-Sep</td>\n",
       "      <td>WDD2221851A001072</td>\n",
       "      <td>urban-street</td>\n",
       "      <td>cloudy</td>\n",
       "      <td>automatic</td>\n",
       "      <td>0.44</td>\n",
       "      <td>Unwanted Driver Discomfort</td>\n",
       "    </tr>\n",
       "    <tr>\n",
       "      <th>26</th>\n",
       "      <td>14-Sep</td>\n",
       "      <td>WDD2221851A001072</td>\n",
       "      <td>urban-street</td>\n",
       "      <td>cloudy</td>\n",
       "      <td>manual</td>\n",
       "      <td>NaN</td>\n",
       "      <td>Software Froze</td>\n",
       "    </tr>\n",
       "    <tr>\n",
       "      <th>27</th>\n",
       "      <td>14-Sep</td>\n",
       "      <td>WDD2221851A001072</td>\n",
       "      <td>urban-street</td>\n",
       "      <td>cloudy</td>\n",
       "      <td>manual</td>\n",
       "      <td>NaN</td>\n",
       "      <td>Hardware Fault</td>\n",
       "    </tr>\n",
       "    <tr>\n",
       "      <th>28</th>\n",
       "      <td>14-Sep</td>\n",
       "      <td>WDD2221851A001072</td>\n",
       "      <td>urban-street</td>\n",
       "      <td>cloudy</td>\n",
       "      <td>automatic</td>\n",
       "      <td>0.04</td>\n",
       "      <td>Unwanted Driver Discomfort</td>\n",
       "    </tr>\n",
       "    <tr>\n",
       "      <th>29</th>\n",
       "      <td>14-Sep</td>\n",
       "      <td>WDD2221851A001072</td>\n",
       "      <td>urban-street</td>\n",
       "      <td>cloudy</td>\n",
       "      <td>manual</td>\n",
       "      <td>NaN</td>\n",
       "      <td>Recklessly behaving agent</td>\n",
       "    </tr>\n",
       "    <tr>\n",
       "      <th>...</th>\n",
       "      <td>...</td>\n",
       "      <td>...</td>\n",
       "      <td>...</td>\n",
       "      <td>...</td>\n",
       "      <td>...</td>\n",
       "      <td>...</td>\n",
       "      <td>...</td>\n",
       "    </tr>\n",
       "    <tr>\n",
       "      <th>994</th>\n",
       "      <td>14-Nov</td>\n",
       "      <td>WDD2221851A000495</td>\n",
       "      <td>urban-street</td>\n",
       "      <td>clear</td>\n",
       "      <td>automatic</td>\n",
       "      <td>0.18</td>\n",
       "      <td>Hardware Fault</td>\n",
       "    </tr>\n",
       "    <tr>\n",
       "      <th>995</th>\n",
       "      <td>14-Nov</td>\n",
       "      <td>WDD2221851A000495</td>\n",
       "      <td>urban-street</td>\n",
       "      <td>clear</td>\n",
       "      <td>automatic</td>\n",
       "      <td>21.00</td>\n",
       "      <td>System Tuning and Calibration</td>\n",
       "    </tr>\n",
       "    <tr>\n",
       "      <th>996</th>\n",
       "      <td>14-Nov</td>\n",
       "      <td>WDD2221851A000495</td>\n",
       "      <td>urban-street</td>\n",
       "      <td>clear</td>\n",
       "      <td>automatic</td>\n",
       "      <td>1.06</td>\n",
       "      <td>System Tuning and Calibration</td>\n",
       "    </tr>\n",
       "    <tr>\n",
       "      <th>997</th>\n",
       "      <td>14-Nov</td>\n",
       "      <td>WDD2221851A000495</td>\n",
       "      <td>urban-street</td>\n",
       "      <td>clear</td>\n",
       "      <td>manual</td>\n",
       "      <td>NaN</td>\n",
       "      <td>System Tuning and Calibration</td>\n",
       "    </tr>\n",
       "    <tr>\n",
       "      <th>998</th>\n",
       "      <td>14-Nov</td>\n",
       "      <td>WDD2221851A000495</td>\n",
       "      <td>urban-street</td>\n",
       "      <td>clear</td>\n",
       "      <td>manual</td>\n",
       "      <td>NaN</td>\n",
       "      <td>Hardware Fault</td>\n",
       "    </tr>\n",
       "    <tr>\n",
       "      <th>999</th>\n",
       "      <td>14-Nov</td>\n",
       "      <td>WDD2221851A000495</td>\n",
       "      <td>urban-street</td>\n",
       "      <td>clear</td>\n",
       "      <td>manual</td>\n",
       "      <td>NaN</td>\n",
       "      <td>Software Froze</td>\n",
       "    </tr>\n",
       "    <tr>\n",
       "      <th>1000</th>\n",
       "      <td>14-Nov</td>\n",
       "      <td>WDD2221851A000495</td>\n",
       "      <td>urban-street</td>\n",
       "      <td>clear</td>\n",
       "      <td>automatic</td>\n",
       "      <td>1.92</td>\n",
       "      <td>System Tuning and Calibration</td>\n",
       "    </tr>\n",
       "    <tr>\n",
       "      <th>1001</th>\n",
       "      <td>14-Nov</td>\n",
       "      <td>WDD2221851A000495</td>\n",
       "      <td>urban-street</td>\n",
       "      <td>clear</td>\n",
       "      <td>automatic</td>\n",
       "      <td>0.20</td>\n",
       "      <td>System Tuning and Calibration</td>\n",
       "    </tr>\n",
       "    <tr>\n",
       "      <th>1002</th>\n",
       "      <td>14-Nov</td>\n",
       "      <td>WDD2221851A000495</td>\n",
       "      <td>urban-street</td>\n",
       "      <td>clear</td>\n",
       "      <td>automatic</td>\n",
       "      <td>1.12</td>\n",
       "      <td>Hardware Fault</td>\n",
       "    </tr>\n",
       "    <tr>\n",
       "      <th>1003</th>\n",
       "      <td>14-Nov</td>\n",
       "      <td>WDD2221851A000495</td>\n",
       "      <td>urban-street</td>\n",
       "      <td>clear</td>\n",
       "      <td>manual</td>\n",
       "      <td>NaN</td>\n",
       "      <td>Recklessly behaving agent</td>\n",
       "    </tr>\n",
       "    <tr>\n",
       "      <th>1004</th>\n",
       "      <td>14-Nov</td>\n",
       "      <td>WDD2221851A000495</td>\n",
       "      <td>urban-street</td>\n",
       "      <td>clear</td>\n",
       "      <td>manual</td>\n",
       "      <td>NaN</td>\n",
       "      <td>System Tuning and Calibration</td>\n",
       "    </tr>\n",
       "    <tr>\n",
       "      <th>1005</th>\n",
       "      <td>14-Nov</td>\n",
       "      <td>WDD2221851A000495</td>\n",
       "      <td>urban-street</td>\n",
       "      <td>clear</td>\n",
       "      <td>manual</td>\n",
       "      <td>NaN</td>\n",
       "      <td>System Tuning and Calibration</td>\n",
       "    </tr>\n",
       "    <tr>\n",
       "      <th>1006</th>\n",
       "      <td>14-Nov</td>\n",
       "      <td>WDD2221851A000495</td>\n",
       "      <td>urban-street</td>\n",
       "      <td>clear</td>\n",
       "      <td>automatic</td>\n",
       "      <td>0.29</td>\n",
       "      <td>Software Froze</td>\n",
       "    </tr>\n",
       "    <tr>\n",
       "      <th>1007</th>\n",
       "      <td>14-Nov</td>\n",
       "      <td>WDD2221851A000495</td>\n",
       "      <td>urban-street</td>\n",
       "      <td>clear</td>\n",
       "      <td>automatic</td>\n",
       "      <td>1.48</td>\n",
       "      <td>System Tuning and Calibration</td>\n",
       "    </tr>\n",
       "    <tr>\n",
       "      <th>1008</th>\n",
       "      <td>14-Nov</td>\n",
       "      <td>WDD2221851A000495</td>\n",
       "      <td>urban-street</td>\n",
       "      <td>clear</td>\n",
       "      <td>automatic</td>\n",
       "      <td>0.45</td>\n",
       "      <td>Software Froze</td>\n",
       "    </tr>\n",
       "    <tr>\n",
       "      <th>1009</th>\n",
       "      <td>14-Nov</td>\n",
       "      <td>WDD2221851A000495</td>\n",
       "      <td>urban-street</td>\n",
       "      <td>clear</td>\n",
       "      <td>manual</td>\n",
       "      <td>NaN</td>\n",
       "      <td>System Tuning and Calibration</td>\n",
       "    </tr>\n",
       "    <tr>\n",
       "      <th>1010</th>\n",
       "      <td>14-Nov</td>\n",
       "      <td>WDD2221851A000495</td>\n",
       "      <td>urban-street</td>\n",
       "      <td>clear</td>\n",
       "      <td>manual</td>\n",
       "      <td>NaN</td>\n",
       "      <td>Software Froze</td>\n",
       "    </tr>\n",
       "    <tr>\n",
       "      <th>1011</th>\n",
       "      <td>14-Nov</td>\n",
       "      <td>WDD2221851A000495</td>\n",
       "      <td>urban-street</td>\n",
       "      <td>clear</td>\n",
       "      <td>manual</td>\n",
       "      <td>NaN</td>\n",
       "      <td>System Tuning and Calibration</td>\n",
       "    </tr>\n",
       "    <tr>\n",
       "      <th>1012</th>\n",
       "      <td>14-Nov</td>\n",
       "      <td>WDD2221851A000495</td>\n",
       "      <td>urban-street</td>\n",
       "      <td>clear</td>\n",
       "      <td>automatic</td>\n",
       "      <td>1.85</td>\n",
       "      <td>System Tuning and Calibration</td>\n",
       "    </tr>\n",
       "    <tr>\n",
       "      <th>1013</th>\n",
       "      <td>14-Nov</td>\n",
       "      <td>WDD2221851A000495</td>\n",
       "      <td>urban-street</td>\n",
       "      <td>clear</td>\n",
       "      <td>automatic</td>\n",
       "      <td>2.11</td>\n",
       "      <td>Hardware Fault</td>\n",
       "    </tr>\n",
       "    <tr>\n",
       "      <th>1014</th>\n",
       "      <td>14-Nov</td>\n",
       "      <td>WDD2221851A000495</td>\n",
       "      <td>urban-street</td>\n",
       "      <td>clear</td>\n",
       "      <td>automatic</td>\n",
       "      <td>0.90</td>\n",
       "      <td>Software Froze</td>\n",
       "    </tr>\n",
       "    <tr>\n",
       "      <th>1015</th>\n",
       "      <td>14-Nov</td>\n",
       "      <td>WDD2221851A000495</td>\n",
       "      <td>urban-street</td>\n",
       "      <td>clear</td>\n",
       "      <td>automatic</td>\n",
       "      <td>1.25</td>\n",
       "      <td>System Tuning and Calibration</td>\n",
       "    </tr>\n",
       "    <tr>\n",
       "      <th>1016</th>\n",
       "      <td>14-Nov</td>\n",
       "      <td>WDD2221851A000495</td>\n",
       "      <td>urban-street</td>\n",
       "      <td>clear</td>\n",
       "      <td>manual</td>\n",
       "      <td>NaN</td>\n",
       "      <td>System Tuning and Calibration</td>\n",
       "    </tr>\n",
       "    <tr>\n",
       "      <th>1017</th>\n",
       "      <td>14-Nov</td>\n",
       "      <td>WDD2221851A000495</td>\n",
       "      <td>urban-street</td>\n",
       "      <td>clear</td>\n",
       "      <td>manual</td>\n",
       "      <td>NaN</td>\n",
       "      <td>Hardware Fault</td>\n",
       "    </tr>\n",
       "    <tr>\n",
       "      <th>1018</th>\n",
       "      <td>14-Nov</td>\n",
       "      <td>WDD2221851A000495</td>\n",
       "      <td>urban-street</td>\n",
       "      <td>clear</td>\n",
       "      <td>manual</td>\n",
       "      <td>NaN</td>\n",
       "      <td>Software Froze</td>\n",
       "    </tr>\n",
       "    <tr>\n",
       "      <th>1019</th>\n",
       "      <td>14-Nov</td>\n",
       "      <td>WDD2221851A000495</td>\n",
       "      <td>urban-street</td>\n",
       "      <td>clear</td>\n",
       "      <td>manual</td>\n",
       "      <td>NaN</td>\n",
       "      <td>Hardware Fault</td>\n",
       "    </tr>\n",
       "    <tr>\n",
       "      <th>1020</th>\n",
       "      <td>14-Nov</td>\n",
       "      <td>WDD2221851A000495</td>\n",
       "      <td>urban-street</td>\n",
       "      <td>clear</td>\n",
       "      <td>manual</td>\n",
       "      <td>NaN</td>\n",
       "      <td>System Tuning and Calibration</td>\n",
       "    </tr>\n",
       "    <tr>\n",
       "      <th>1021</th>\n",
       "      <td>14-Nov</td>\n",
       "      <td>WDD2221851A000495</td>\n",
       "      <td>highway</td>\n",
       "      <td>clear</td>\n",
       "      <td>manual</td>\n",
       "      <td>NaN</td>\n",
       "      <td>System Tuning and Calibration</td>\n",
       "    </tr>\n",
       "    <tr>\n",
       "      <th>1022</th>\n",
       "      <td>14-Nov</td>\n",
       "      <td>WDD2221851A000495</td>\n",
       "      <td>urban-street</td>\n",
       "      <td>clear</td>\n",
       "      <td>manual</td>\n",
       "      <td>NaN</td>\n",
       "      <td>Hardware Fault</td>\n",
       "    </tr>\n",
       "    <tr>\n",
       "      <th>1023</th>\n",
       "      <td>14-Nov</td>\n",
       "      <td>WDD2221851A000495</td>\n",
       "      <td>urban-street</td>\n",
       "      <td>clear</td>\n",
       "      <td>manual</td>\n",
       "      <td>NaN</td>\n",
       "      <td>System Tuning and Calibration</td>\n",
       "    </tr>\n",
       "  </tbody>\n",
       "</table>\n",
       "<p>1024 rows × 7 columns</p>\n",
       "</div>"
      ],
      "text/plain": [
       "       Month                Car      Location Weather TypeOfTrigger  \\\n",
       "0     14-Sep  WDD2221851A001072  urban-street  cloudy     automatic   \n",
       "1     14-Sep  WDD2221851A001072  urban-street  cloudy     automatic   \n",
       "2     14-Sep  WDD2221851A001072  urban-street  cloudy     automatic   \n",
       "3     14-Sep  WDD2221851A001072  urban-street  cloudy     automatic   \n",
       "4     14-Sep  WDD2221851A001072  urban-street  cloudy     automatic   \n",
       "5     14-Sep  WDD2221851A001072  urban-street  cloudy     automatic   \n",
       "6     14-Sep  WDD2221851A001072  urban-street  cloudy     automatic   \n",
       "7     14-Sep  WDD2221851A001072  urban-street  cloudy     automatic   \n",
       "8     14-Sep  WDD2221851A001072  urban-street  cloudy     automatic   \n",
       "9     14-Sep  WDD2221851A001072  urban-street  cloudy     automatic   \n",
       "10    14-Sep  WDD2221851A001072  urban-street  cloudy     automatic   \n",
       "11    14-Sep  WDD2221851A001072  urban-street  cloudy     automatic   \n",
       "12    14-Sep  WDD2221851A001072  urban-street  cloudy     automatic   \n",
       "13    14-Sep  WDD2221851A001072  urban-street  cloudy     automatic   \n",
       "14    14-Sep  WDD2221851A001072  urban-street  cloudy     automatic   \n",
       "15    14-Sep  WDD2221851A001072  urban-street  cloudy     automatic   \n",
       "16    14-Sep  WDD2221851A001072  urban-street  cloudy        manual   \n",
       "17    14-Sep  WDD2221851A001072  urban-street  cloudy     automatic   \n",
       "18    14-Sep  WDD2221851A001072  urban-street  cloudy        manual   \n",
       "19    14-Sep  WDD2221851A001072  urban-street  cloudy     automatic   \n",
       "20    14-Sep  WDD2221851A001072  urban-street  cloudy        manual   \n",
       "21    14-Sep  WDD2221851A001072  urban-street  cloudy        manual   \n",
       "22    14-Sep  WDD2221851A001072  urban-street  cloudy     automatic   \n",
       "23    14-Sep  WDD2221851A001072  urban-street  cloudy        manual   \n",
       "24    14-Sep  WDD2221851A001072  urban-street  cloudy        manual   \n",
       "25    14-Sep  WDD2221851A001072  urban-street  cloudy     automatic   \n",
       "26    14-Sep  WDD2221851A001072  urban-street  cloudy        manual   \n",
       "27    14-Sep  WDD2221851A001072  urban-street  cloudy        manual   \n",
       "28    14-Sep  WDD2221851A001072  urban-street  cloudy     automatic   \n",
       "29    14-Sep  WDD2221851A001072  urban-street  cloudy        manual   \n",
       "...      ...                ...           ...     ...           ...   \n",
       "994   14-Nov  WDD2221851A000495  urban-street   clear     automatic   \n",
       "995   14-Nov  WDD2221851A000495  urban-street   clear     automatic   \n",
       "996   14-Nov  WDD2221851A000495  urban-street   clear     automatic   \n",
       "997   14-Nov  WDD2221851A000495  urban-street   clear        manual   \n",
       "998   14-Nov  WDD2221851A000495  urban-street   clear        manual   \n",
       "999   14-Nov  WDD2221851A000495  urban-street   clear        manual   \n",
       "1000  14-Nov  WDD2221851A000495  urban-street   clear     automatic   \n",
       "1001  14-Nov  WDD2221851A000495  urban-street   clear     automatic   \n",
       "1002  14-Nov  WDD2221851A000495  urban-street   clear     automatic   \n",
       "1003  14-Nov  WDD2221851A000495  urban-street   clear        manual   \n",
       "1004  14-Nov  WDD2221851A000495  urban-street   clear        manual   \n",
       "1005  14-Nov  WDD2221851A000495  urban-street   clear        manual   \n",
       "1006  14-Nov  WDD2221851A000495  urban-street   clear     automatic   \n",
       "1007  14-Nov  WDD2221851A000495  urban-street   clear     automatic   \n",
       "1008  14-Nov  WDD2221851A000495  urban-street   clear     automatic   \n",
       "1009  14-Nov  WDD2221851A000495  urban-street   clear        manual   \n",
       "1010  14-Nov  WDD2221851A000495  urban-street   clear        manual   \n",
       "1011  14-Nov  WDD2221851A000495  urban-street   clear        manual   \n",
       "1012  14-Nov  WDD2221851A000495  urban-street   clear     automatic   \n",
       "1013  14-Nov  WDD2221851A000495  urban-street   clear     automatic   \n",
       "1014  14-Nov  WDD2221851A000495  urban-street   clear     automatic   \n",
       "1015  14-Nov  WDD2221851A000495  urban-street   clear     automatic   \n",
       "1016  14-Nov  WDD2221851A000495  urban-street   clear        manual   \n",
       "1017  14-Nov  WDD2221851A000495  urban-street   clear        manual   \n",
       "1018  14-Nov  WDD2221851A000495  urban-street   clear        manual   \n",
       "1019  14-Nov  WDD2221851A000495  urban-street   clear        manual   \n",
       "1020  14-Nov  WDD2221851A000495  urban-street   clear        manual   \n",
       "1021  14-Nov  WDD2221851A000495       highway   clear        manual   \n",
       "1022  14-Nov  WDD2221851A000495  urban-street   clear        manual   \n",
       "1023  14-Nov  WDD2221851A000495  urban-street   clear        manual   \n",
       "\n",
       "      ReactionTime                                    Cause  \n",
       "0             0.58        Incorrect Traffic Light Detection  \n",
       "1             0.66          Adverse road surface conditions  \n",
       "2             1.93              Position Estimation Failure  \n",
       "3             0.65                        Emergency Vehicle  \n",
       "4             0.64          Adverse road surface conditions  \n",
       "5             0.88        Incorrect Traffic Light Detection  \n",
       "6             0.41                        Emergency Vehicle  \n",
       "7             1.45                        Emergency Vehicle  \n",
       "8             0.07                           Software Froze  \n",
       "9             0.37                           Hardware Fault  \n",
       "10            1.55                        Emergency Vehicle  \n",
       "11            0.04        Incorrect Traffic Light Detection  \n",
       "12            0.40  Incorrect behavior prediction of others  \n",
       "13            1.86                        Emergency Vehicle  \n",
       "14            0.21          Adverse road surface conditions  \n",
       "15            0.51                Recklessly behaving agent  \n",
       "16             NaN                Recklessly behaving agent  \n",
       "17            0.38            System Tuning and Calibration  \n",
       "18             NaN               Unwanted Driver Discomfort  \n",
       "19            0.22        Incorrect Traffic Light Detection  \n",
       "20             NaN               Unwanted Driver Discomfort  \n",
       "21             NaN  Incorrect behavior prediction of others  \n",
       "22            1.38          Adverse road surface conditions  \n",
       "23             NaN                           Software Froze  \n",
       "24             NaN                Recklessly behaving agent  \n",
       "25            0.44               Unwanted Driver Discomfort  \n",
       "26             NaN                           Software Froze  \n",
       "27             NaN                           Hardware Fault  \n",
       "28            0.04               Unwanted Driver Discomfort  \n",
       "29             NaN                Recklessly behaving agent  \n",
       "...            ...                                      ...  \n",
       "994           0.18                           Hardware Fault  \n",
       "995          21.00            System Tuning and Calibration  \n",
       "996           1.06            System Tuning and Calibration  \n",
       "997            NaN            System Tuning and Calibration  \n",
       "998            NaN                           Hardware Fault  \n",
       "999            NaN                           Software Froze  \n",
       "1000          1.92            System Tuning and Calibration  \n",
       "1001          0.20            System Tuning and Calibration  \n",
       "1002          1.12                           Hardware Fault  \n",
       "1003           NaN                Recklessly behaving agent  \n",
       "1004           NaN            System Tuning and Calibration  \n",
       "1005           NaN            System Tuning and Calibration  \n",
       "1006          0.29                           Software Froze  \n",
       "1007          1.48            System Tuning and Calibration  \n",
       "1008          0.45                           Software Froze  \n",
       "1009           NaN            System Tuning and Calibration  \n",
       "1010           NaN                           Software Froze  \n",
       "1011           NaN            System Tuning and Calibration  \n",
       "1012          1.85            System Tuning and Calibration  \n",
       "1013          2.11                           Hardware Fault  \n",
       "1014          0.90                           Software Froze  \n",
       "1015          1.25            System Tuning and Calibration  \n",
       "1016           NaN            System Tuning and Calibration  \n",
       "1017           NaN                           Hardware Fault  \n",
       "1018           NaN                           Software Froze  \n",
       "1019           NaN                           Hardware Fault  \n",
       "1020           NaN            System Tuning and Calibration  \n",
       "1021           NaN            System Tuning and Calibration  \n",
       "1022           NaN                           Hardware Fault  \n",
       "1023           NaN            System Tuning and Calibration  \n",
       "\n",
       "[1024 rows x 7 columns]"
      ]
     },
     "execution_count": 15,
     "metadata": {},
     "output_type": "execute_result"
    }
   ],
   "source": [
    "df"
   ]
  },
  {
   "cell_type": "code",
   "execution_count": null,
   "metadata": {},
   "outputs": [],
   "source": []
  },
  {
   "cell_type": "code",
   "execution_count": 16,
   "metadata": {},
   "outputs": [
    {
     "data": {
      "text/html": [
       "<div>\n",
       "<style scoped>\n",
       "    .dataframe tbody tr th:only-of-type {\n",
       "        vertical-align: middle;\n",
       "    }\n",
       "\n",
       "    .dataframe tbody tr th {\n",
       "        vertical-align: top;\n",
       "    }\n",
       "\n",
       "    .dataframe thead th {\n",
       "        text-align: right;\n",
       "    }\n",
       "</style>\n",
       "<table border=\"1\" class=\"dataframe\">\n",
       "  <thead>\n",
       "    <tr style=\"text-align: right;\">\n",
       "      <th></th>\n",
       "      <th>Month</th>\n",
       "      <th>Car</th>\n",
       "      <th>miles driven in autonomous mode</th>\n",
       "      <th>total number of disengagements</th>\n",
       "      <th>number of automatic disengagements</th>\n",
       "      <th>number of manual disengagements</th>\n",
       "    </tr>\n",
       "  </thead>\n",
       "  <tbody>\n",
       "    <tr>\n",
       "      <th>0</th>\n",
       "      <td>14-Sep</td>\n",
       "      <td>WDD2221851A001072</td>\n",
       "      <td>4207</td>\n",
       "      <td>44</td>\n",
       "      <td>24</td>\n",
       "      <td>20</td>\n",
       "    </tr>\n",
       "    <tr>\n",
       "      <th>1</th>\n",
       "      <td>14-Oct</td>\n",
       "      <td>WDD2221851A001072</td>\n",
       "      <td>23971</td>\n",
       "      <td>228</td>\n",
       "      <td>100</td>\n",
       "      <td>128</td>\n",
       "    </tr>\n",
       "    <tr>\n",
       "      <th>2</th>\n",
       "      <td>14-Nov</td>\n",
       "      <td>WDD2221851A001072</td>\n",
       "      <td>15837</td>\n",
       "      <td>141</td>\n",
       "      <td>66</td>\n",
       "      <td>75</td>\n",
       "    </tr>\n",
       "    <tr>\n",
       "      <th>3</th>\n",
       "      <td>14-Dec</td>\n",
       "      <td>WDD2221851A001072</td>\n",
       "      <td>9413</td>\n",
       "      <td>36</td>\n",
       "      <td>15</td>\n",
       "      <td>21</td>\n",
       "    </tr>\n",
       "    <tr>\n",
       "      <th>4</th>\n",
       "      <td>15-Jan</td>\n",
       "      <td>WDD2221851A001072</td>\n",
       "      <td>18192</td>\n",
       "      <td>48</td>\n",
       "      <td>18</td>\n",
       "      <td>30</td>\n",
       "    </tr>\n",
       "    <tr>\n",
       "      <th>5</th>\n",
       "      <td>15-Feb</td>\n",
       "      <td>WDD2221851A001072</td>\n",
       "      <td>18745</td>\n",
       "      <td>16</td>\n",
       "      <td>8</td>\n",
       "      <td>8</td>\n",
       "    </tr>\n",
       "    <tr>\n",
       "      <th>6</th>\n",
       "      <td>15-Mar</td>\n",
       "      <td>WDD2221851A001072</td>\n",
       "      <td>22204</td>\n",
       "      <td>39</td>\n",
       "      <td>31</td>\n",
       "      <td>8</td>\n",
       "    </tr>\n",
       "    <tr>\n",
       "      <th>7</th>\n",
       "      <td>15-Apr</td>\n",
       "      <td>WDD2221851A001072</td>\n",
       "      <td>31927</td>\n",
       "      <td>72</td>\n",
       "      <td>51</td>\n",
       "      <td>21</td>\n",
       "    </tr>\n",
       "    <tr>\n",
       "      <th>8</th>\n",
       "      <td>15-May</td>\n",
       "      <td>WDD2221851A001072</td>\n",
       "      <td>38017</td>\n",
       "      <td>34</td>\n",
       "      <td>11</td>\n",
       "      <td>23</td>\n",
       "    </tr>\n",
       "    <tr>\n",
       "      <th>9</th>\n",
       "      <td>15-Jun</td>\n",
       "      <td>WDD2221851A001072</td>\n",
       "      <td>42047</td>\n",
       "      <td>127</td>\n",
       "      <td>58</td>\n",
       "      <td>69</td>\n",
       "    </tr>\n",
       "    <tr>\n",
       "      <th>10</th>\n",
       "      <td>15-Jul</td>\n",
       "      <td>WDD2221851A001072</td>\n",
       "      <td>34805</td>\n",
       "      <td>69</td>\n",
       "      <td>30</td>\n",
       "      <td>39</td>\n",
       "    </tr>\n",
       "    <tr>\n",
       "      <th>11</th>\n",
       "      <td>15-Aug</td>\n",
       "      <td>WDD2221851A001072</td>\n",
       "      <td>38220</td>\n",
       "      <td>24</td>\n",
       "      <td>13</td>\n",
       "      <td>11</td>\n",
       "    </tr>\n",
       "    <tr>\n",
       "      <th>12</th>\n",
       "      <td>15-Sep</td>\n",
       "      <td>WDD2221851A001072</td>\n",
       "      <td>36327</td>\n",
       "      <td>43</td>\n",
       "      <td>22</td>\n",
       "      <td>21</td>\n",
       "    </tr>\n",
       "    <tr>\n",
       "      <th>13</th>\n",
       "      <td>15-Oct</td>\n",
       "      <td>WDD2221851A001072</td>\n",
       "      <td>47144</td>\n",
       "      <td>17</td>\n",
       "      <td>5</td>\n",
       "      <td>12</td>\n",
       "    </tr>\n",
       "    <tr>\n",
       "      <th>14</th>\n",
       "      <td>15-Nov</td>\n",
       "      <td>WDD2221851A001072</td>\n",
       "      <td>43276</td>\n",
       "      <td>22</td>\n",
       "      <td>11</td>\n",
       "      <td>11</td>\n",
       "    </tr>\n",
       "    <tr>\n",
       "      <th>15</th>\n",
       "      <td>14-Oct</td>\n",
       "      <td>WDD2221851A000495</td>\n",
       "      <td>37910</td>\n",
       "      <td>16</td>\n",
       "      <td>11</td>\n",
       "      <td>5</td>\n",
       "    </tr>\n",
       "    <tr>\n",
       "      <th>16</th>\n",
       "      <td>14-Nov</td>\n",
       "      <td>WDD2221851A000495</td>\n",
       "      <td>42987</td>\n",
       "      <td>48</td>\n",
       "      <td>19</td>\n",
       "      <td>29</td>\n",
       "    </tr>\n",
       "  </tbody>\n",
       "</table>\n",
       "</div>"
      ],
      "text/plain": [
       "     Month                Car  miles driven in autonomous mode  \\\n",
       "0   14-Sep  WDD2221851A001072                             4207   \n",
       "1   14-Oct  WDD2221851A001072                            23971   \n",
       "2   14-Nov  WDD2221851A001072                            15837   \n",
       "3   14-Dec  WDD2221851A001072                             9413   \n",
       "4   15-Jan  WDD2221851A001072                            18192   \n",
       "5   15-Feb  WDD2221851A001072                            18745   \n",
       "6   15-Mar  WDD2221851A001072                            22204   \n",
       "7   15-Apr  WDD2221851A001072                            31927   \n",
       "8   15-May  WDD2221851A001072                            38017   \n",
       "9   15-Jun  WDD2221851A001072                            42047   \n",
       "10  15-Jul  WDD2221851A001072                            34805   \n",
       "11  15-Aug  WDD2221851A001072                            38220   \n",
       "12  15-Sep  WDD2221851A001072                            36327   \n",
       "13  15-Oct  WDD2221851A001072                            47144   \n",
       "14  15-Nov  WDD2221851A001072                            43276   \n",
       "15  14-Oct  WDD2221851A000495                            37910   \n",
       "16  14-Nov  WDD2221851A000495                            42987   \n",
       "\n",
       "    total number of disengagements  number of automatic disengagements  \\\n",
       "0                               44                                  24   \n",
       "1                              228                                 100   \n",
       "2                              141                                  66   \n",
       "3                               36                                  15   \n",
       "4                               48                                  18   \n",
       "5                               16                                   8   \n",
       "6                               39                                  31   \n",
       "7                               72                                  51   \n",
       "8                               34                                  11   \n",
       "9                              127                                  58   \n",
       "10                              69                                  30   \n",
       "11                              24                                  13   \n",
       "12                              43                                  22   \n",
       "13                              17                                   5   \n",
       "14                              22                                  11   \n",
       "15                              16                                  11   \n",
       "16                              48                                  19   \n",
       "\n",
       "    number of manual disengagements  \n",
       "0                                20  \n",
       "1                               128  \n",
       "2                                75  \n",
       "3                                21  \n",
       "4                                30  \n",
       "5                                 8  \n",
       "6                                 8  \n",
       "7                                21  \n",
       "8                                23  \n",
       "9                                69  \n",
       "10                               39  \n",
       "11                               11  \n",
       "12                               21  \n",
       "13                               12  \n",
       "14                               11  \n",
       "15                                5  \n",
       "16                               29  "
      ]
     },
     "execution_count": 16,
     "metadata": {},
     "output_type": "execute_result"
    }
   ],
   "source": [
    "df1"
   ]
  },
  {
   "cell_type": "markdown",
   "metadata": {},
   "source": [
    "# Task2"
   ]
  },
  {
   "cell_type": "markdown",
   "metadata": {},
   "source": [
    "## Question1"
   ]
  },
  {
   "cell_type": "raw",
   "metadata": {},
   "source": [
    "a: \n",
    "Bernoulli Distribution"
   ]
  },
  {
   "cell_type": "code",
   "execution_count": 17,
   "metadata": {},
   "outputs": [],
   "source": [
    "# Since this is just n (miles) independent Bernouli trails, we can model them by binomial distirbution, \n",
    "# so in general P should be # of success(disengament) / # of trails(miles)\n",
    "car_weather_type = df.groupby(['Weather','TypeOfTrigger']).size().unstack()\n",
    "car_miles_and_dis = df1.sum()\n",
    "cloud_miles = car_miles_and_dis.iloc[2] * 0.28\n",
    "clear_miles = car_miles_and_dis.iloc[2] * 0.72\n",
    "p_dis_clear = car_weather_type.iloc[0].sum() / clear_miles\n",
    "p_dis_cloud = car_weather_type.iloc[1].sum() / cloud_miles\n",
    "p_dis_clear_auto = car_weather_type.iloc[0]['automatic'] / clear_miles\n",
    "p_dis_cloud_auto = car_weather_type.iloc[1]['automatic'] / cloud_miles"
   ]
  },
  {
   "cell_type": "code",
   "execution_count": 18,
   "metadata": {},
   "outputs": [
    {
     "data": {
      "text/plain": [
       "0.005902556775527249"
      ]
     },
     "execution_count": 18,
     "metadata": {},
     "output_type": "execute_result"
    }
   ],
   "source": [
    "# b:\n",
    "p_dis_cloud = car_weather_type.iloc[1].sum() / cloud_miles\n",
    "p_dis_cloud"
   ]
  },
  {
   "cell_type": "code",
   "execution_count": 19,
   "metadata": {},
   "outputs": [
    {
     "data": {
      "text/plain": [
       "0.0005195663748517998"
      ]
     },
     "execution_count": 19,
     "metadata": {},
     "output_type": "execute_result"
    }
   ],
   "source": [
    "# c:\n",
    "p_dis_clear = car_weather_type.iloc[0].sum() / clear_miles\n",
    "p_dis_clear"
   ]
  },
  {
   "cell_type": "code",
   "execution_count": 20,
   "metadata": {},
   "outputs": [
    {
     "name": "stdout",
     "output_type": "stream",
     "text": [
      "0.00026390673008345393 0.0028063653172267283\n"
     ]
    }
   ],
   "source": [
    "# d:\n",
    "p_dis_clear_auto = car_weather_type.iloc[0]['automatic'] / clear_miles\n",
    "p_dis_cloud_auto = car_weather_type.iloc[1]['automatic'] / cloud_miles\n",
    "print(p_dis_clear_auto,p_dis_cloud_auto)"
   ]
  },
  {
   "cell_type": "code",
   "execution_count": 21,
   "metadata": {},
   "outputs": [
    {
     "data": {
      "text/plain": [
       "1.987144942327803e-23"
      ]
     },
     "execution_count": 21,
     "metadata": {},
     "output_type": "execute_result"
    }
   ],
   "source": [
    "# e \n",
    "# using binomial distribution to calculate the p value(which is the calculated probability of X >= 150 / 10000 given p) to obtain the probability we want\n",
    "stats.binom_test(x= 150 , n = 10000, p = p_dis_cloud,alternative= 'greater' )"
   ]
  },
  {
   "cell_type": "markdown",
   "metadata": {},
   "source": [
    "## Question2"
   ]
  },
  {
   "cell_type": "code",
   "execution_count": 22,
   "metadata": {},
   "outputs": [
    {
     "data": {
      "text/plain": [
       "4.438051320043669e-278"
      ]
     },
     "execution_count": 22,
     "metadata": {},
     "output_type": "execute_result"
    }
   ],
   "source": [
    "# using one-sided binomial test; p value is very small, so reject nulll, so weather plays an important role for AVs\n",
    "stats.binom_test(x= len(df[df['Weather'] == 'cloudy'].index), n = len(df), p = 0.28,alternative= 'greater' )"
   ]
  },
  {
   "cell_type": "markdown",
   "metadata": {},
   "source": [
    "## Question3"
   ]
  },
  {
   "cell_type": "code",
   "execution_count": 23,
   "metadata": {},
   "outputs": [],
   "source": [
    "reac_cloud = df[df['Weather'] == 'cloudy']['ReactionTime'].dropna()\n",
    "reac_clear = df[df['Weather'] == 'clear']['ReactionTime'].dropna()\n",
    "p_cloud_reac = sum(reac_cloud > 0.5) / len(reac_cloud)\n",
    "p_clear_reac = sum(reac_clear > 0.7) / len(reac_clear)\n"
   ]
  },
  {
   "cell_type": "markdown",
   "metadata": {},
   "source": [
    "## Question4"
   ]
  },
  {
   "cell_type": "code",
   "execution_count": 24,
   "metadata": {},
   "outputs": [],
   "source": [
    "#4 using law of probability P(accident) = P(accident,clear) + P(accident,cloudy)(all of these assume automatic disengagement)\n",
    "p_av_accident = p_dis_clear_auto * p_clear_reac + p_dis_cloud_auto * p_cloud_reac"
   ]
  },
  {
   "cell_type": "code",
   "execution_count": 25,
   "metadata": {},
   "outputs": [
    {
     "data": {
      "text/plain": [
       "0.001625371989602863"
      ]
     },
     "execution_count": 25,
     "metadata": {},
     "output_type": "execute_result"
    }
   ],
   "source": [
    "p_av_accident"
   ]
  },
  {
   "cell_type": "markdown",
   "metadata": {},
   "source": [
    "## Question5"
   ]
  },
  {
   "cell_type": "code",
   "execution_count": 28,
   "metadata": {},
   "outputs": [
    {
     "data": {
      "text/plain": [
       "812.6859948014315"
      ]
     },
     "execution_count": 28,
     "metadata": {},
     "output_type": "execute_result"
    }
   ],
   "source": [
    "p_av_accident / 2e-6\n",
    "# it's about 250 times more dangerous than human driver, so the Avs tech still needs to be improved"
   ]
  },
  {
   "cell_type": "code",
   "execution_count": null,
   "metadata": {},
   "outputs": [],
   "source": []
  }
 ],
 "metadata": {
  "kernelspec": {
   "display_name": "Python 3",
   "language": "python",
   "name": "python3"
  },
  "language_info": {
   "codemirror_mode": {
    "name": "ipython",
    "version": 3
   },
   "file_extension": ".py",
   "mimetype": "text/x-python",
   "name": "python",
   "nbconvert_exporter": "python",
   "pygments_lexer": "ipython3",
   "version": "3.7.1"
  }
 },
 "nbformat": 4,
 "nbformat_minor": 2
}
