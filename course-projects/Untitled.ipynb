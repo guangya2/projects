{
 "cells": [
  {
   "cell_type": "code",
   "execution_count": 3,
   "metadata": {},
   "outputs": [],
   "source": [
    "import numpy as np\n",
    "import numpy.linalg as la"
   ]
  },
  {
   "cell_type": "code",
   "execution_count": 7,
   "metadata": {},
   "outputs": [
    {
     "data": {
      "text/plain": [
       "(array([3.64042658e+02, 3.61427101e+00, 5.62601757e-02, 2.50328732e-01]),\n",
       " array([[ 0.0375468 ,  0.05102509,  0.68411086,  0.72662164],\n",
       "        [-0.00934139, -0.04503598, -0.72549171,  0.68669227],\n",
       "        [ 0.92086582,  0.38518966, -0.05626741, -0.02165742],\n",
       "        [ 0.38795504, -0.92032447,  0.04988069, -0.00238192]]))"
      ]
     },
     "execution_count": 7,
     "metadata": {},
     "output_type": "execute_result"
    }
   ],
   "source": [
    "x = np.array([[0.681122,-0.039007,12.651911,5.134578],\n",
    "             [-0.039007,0.186751,-3.195680,-1.171947],\n",
    "             [12.651911,-3.195680,309.242489,128.774489],\n",
    "             [5.134578,-1.171947,128.774489,57.853156]])\n",
    "la.eig(x)"
   ]
  },
  {
   "cell_type": "code",
   "execution_count": 9,
   "metadata": {},
   "outputs": [
    {
     "data": {
      "text/plain": [
       "0.9893444330116254"
      ]
     },
     "execution_count": 9,
     "metadata": {},
     "output_type": "execute_result"
    }
   ],
   "source": [
    "la.eig(x)[0][0] /  sum(la.eig(x)[0])"
   ]
  },
  {
   "cell_type": "code",
   "execution_count": 10,
   "metadata": {},
   "outputs": [
    {
     "data": {
      "text/plain": [
       "(array([2.88487377, 0.99240744, 0.11167894, 0.01103985]),\n",
       " array([[ 5.20604996e-01, -4.13261568e-01, -6.49565725e-01,\n",
       "          3.69120149e-01],\n",
       "        [-2.41947739e-01, -9.10198860e-01,  2.76676391e-01,\n",
       "         -1.90917527e-01],\n",
       "        [ 5.86563489e-01,  1.42104699e-02,  9.08056568e-04,\n",
       "         -8.09778063e-01],\n",
       "        [ 5.71292398e-01, -2.34728521e-02,  7.08176333e-01,\n",
       "          4.14198385e-01]]))"
      ]
     },
     "execution_count": 10,
     "metadata": {},
     "output_type": "execute_result"
    }
   ],
   "source": [
    "x = np.array([[1,-0.0109310105,0.871754,0.817954],\n",
    "             [-0.0109310105,1,-0.420516,-0.356544],\n",
    "             [0.871754,-0.420516,1,0.962757],\n",
    "             [0.817954,-0.356544,0.962757,1]])\n",
    "la.eig(x)"
   ]
  },
  {
   "cell_type": "code",
   "execution_count": 11,
   "metadata": {},
   "outputs": [
    {
     "data": {
      "text/plain": [
       "0.721218443627569"
      ]
     },
     "execution_count": 11,
     "metadata": {},
     "output_type": "execute_result"
    }
   ],
   "source": [
    "la.eig(x)[0][0] /  sum(la.eig(x)[0])"
   ]
  },
  {
   "cell_type": "code",
   "execution_count": null,
   "metadata": {},
   "outputs": [],
   "source": []
  }
 ],
 "metadata": {
  "kernelspec": {
   "display_name": "Python 3",
   "language": "python",
   "name": "python3"
  },
  "language_info": {
   "codemirror_mode": {
    "name": "ipython",
    "version": 3
   },
   "file_extension": ".py",
   "mimetype": "text/x-python",
   "name": "python",
   "nbconvert_exporter": "python",
   "pygments_lexer": "ipython3",
   "version": "3.7.1"
  }
 },
 "nbformat": 4,
 "nbformat_minor": 2
}
