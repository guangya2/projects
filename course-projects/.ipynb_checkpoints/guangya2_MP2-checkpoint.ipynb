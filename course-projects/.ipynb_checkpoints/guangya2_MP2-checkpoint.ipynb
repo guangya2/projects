{
 "cells": [
  {
   "cell_type": "raw",
   "metadata": {},
   "source": [
    "Sizhi Tan sizhit2\n",
    "Guangya Wan guangya2\n",
    "Hanyun Zhang hanyuz2"
   ]
  },
  {
   "cell_type": "markdown",
   "metadata": {},
   "source": [
    "# Task 0"
   ]
  },
  {
   "cell_type": "markdown",
   "metadata": {},
   "source": [
    "## Problem 1"
   ]
  },
  {
   "cell_type": "code",
   "execution_count": 3,
   "metadata": {},
   "outputs": [
    {
     "data": {
      "text/html": [
       "<div>\n",
       "<style scoped>\n",
       "    .dataframe tbody tr th:only-of-type {\n",
       "        vertical-align: middle;\n",
       "    }\n",
       "\n",
       "    .dataframe tbody tr th {\n",
       "        vertical-align: top;\n",
       "    }\n",
       "\n",
       "    .dataframe thead th {\n",
       "        text-align: right;\n",
       "    }\n",
       "</style>\n",
       "<table border=\"1\" class=\"dataframe\">\n",
       "  <thead>\n",
       "    <tr style=\"text-align: right;\">\n",
       "      <th></th>\n",
       "      <th>GeneID</th>\n",
       "      <th>Chr</th>\n",
       "      <th>Start</th>\n",
       "      <th>Stop</th>\n",
       "      <th>CodingLength</th>\n",
       "      <th>BaselineCell_1</th>\n",
       "      <th>BaselineCell_2</th>\n",
       "      <th>BaselineCell_3</th>\n",
       "      <th>BaselineCell_4</th>\n",
       "      <th>BaselineCell_5</th>\n",
       "      <th>...</th>\n",
       "      <th>BaselineCell_183</th>\n",
       "      <th>BaselineCell_184</th>\n",
       "      <th>BaselineCell_185</th>\n",
       "      <th>BaselineCell_186</th>\n",
       "      <th>BaselineCell_187</th>\n",
       "      <th>BaselineCell_188</th>\n",
       "      <th>BaselineCell_189</th>\n",
       "      <th>BaselineCell_190</th>\n",
       "      <th>BaselineCell_191</th>\n",
       "      <th>BaselineCell_192</th>\n",
       "    </tr>\n",
       "  </thead>\n",
       "  <tbody>\n",
       "    <tr>\n",
       "      <th>0</th>\n",
       "      <td>DDX11L1</td>\n",
       "      <td>chr1</td>\n",
       "      <td>11874</td>\n",
       "      <td>14408</td>\n",
       "      <td>1651</td>\n",
       "      <td>61</td>\n",
       "      <td>47</td>\n",
       "      <td>72</td>\n",
       "      <td>77</td>\n",
       "      <td>75</td>\n",
       "      <td>...</td>\n",
       "      <td>39</td>\n",
       "      <td>34</td>\n",
       "      <td>28</td>\n",
       "      <td>25</td>\n",
       "      <td>30</td>\n",
       "      <td>29</td>\n",
       "      <td>92</td>\n",
       "      <td>26</td>\n",
       "      <td>43</td>\n",
       "      <td>33</td>\n",
       "    </tr>\n",
       "    <tr>\n",
       "      <th>1</th>\n",
       "      <td>WASH7P</td>\n",
       "      <td>chr1</td>\n",
       "      <td>14362</td>\n",
       "      <td>29370</td>\n",
       "      <td>1769</td>\n",
       "      <td>72</td>\n",
       "      <td>60</td>\n",
       "      <td>79</td>\n",
       "      <td>80</td>\n",
       "      <td>81</td>\n",
       "      <td>...</td>\n",
       "      <td>26</td>\n",
       "      <td>26</td>\n",
       "      <td>19</td>\n",
       "      <td>26</td>\n",
       "      <td>19</td>\n",
       "      <td>22</td>\n",
       "      <td>96</td>\n",
       "      <td>33</td>\n",
       "      <td>32</td>\n",
       "      <td>44</td>\n",
       "    </tr>\n",
       "    <tr>\n",
       "      <th>2</th>\n",
       "      <td>FAM138A</td>\n",
       "      <td>chr1</td>\n",
       "      <td>34611</td>\n",
       "      <td>36081</td>\n",
       "      <td>1130</td>\n",
       "      <td>159</td>\n",
       "      <td>182</td>\n",
       "      <td>152</td>\n",
       "      <td>133</td>\n",
       "      <td>147</td>\n",
       "      <td>...</td>\n",
       "      <td>59</td>\n",
       "      <td>64</td>\n",
       "      <td>44</td>\n",
       "      <td>51</td>\n",
       "      <td>47</td>\n",
       "      <td>54</td>\n",
       "      <td>145</td>\n",
       "      <td>57</td>\n",
       "      <td>65</td>\n",
       "      <td>59</td>\n",
       "    </tr>\n",
       "    <tr>\n",
       "      <th>3</th>\n",
       "      <td>FAM138F</td>\n",
       "      <td>chr1</td>\n",
       "      <td>34611</td>\n",
       "      <td>36081</td>\n",
       "      <td>1130</td>\n",
       "      <td>64</td>\n",
       "      <td>54</td>\n",
       "      <td>88</td>\n",
       "      <td>92</td>\n",
       "      <td>63</td>\n",
       "      <td>...</td>\n",
       "      <td>24</td>\n",
       "      <td>31</td>\n",
       "      <td>23</td>\n",
       "      <td>19</td>\n",
       "      <td>25</td>\n",
       "      <td>33</td>\n",
       "      <td>86</td>\n",
       "      <td>45</td>\n",
       "      <td>25</td>\n",
       "      <td>20</td>\n",
       "    </tr>\n",
       "    <tr>\n",
       "      <th>4</th>\n",
       "      <td>OR4F5</td>\n",
       "      <td>chr1</td>\n",
       "      <td>69091</td>\n",
       "      <td>70008</td>\n",
       "      <td>918</td>\n",
       "      <td>61</td>\n",
       "      <td>57</td>\n",
       "      <td>63</td>\n",
       "      <td>61</td>\n",
       "      <td>69</td>\n",
       "      <td>...</td>\n",
       "      <td>40</td>\n",
       "      <td>41</td>\n",
       "      <td>17</td>\n",
       "      <td>25</td>\n",
       "      <td>27</td>\n",
       "      <td>27</td>\n",
       "      <td>99</td>\n",
       "      <td>31</td>\n",
       "      <td>32</td>\n",
       "      <td>29</td>\n",
       "    </tr>\n",
       "  </tbody>\n",
       "</table>\n",
       "<p>5 rows × 197 columns</p>\n",
       "</div>"
      ],
      "text/plain": [
       "    GeneID   Chr  Start   Stop  CodingLength  BaselineCell_1  BaselineCell_2  \\\n",
       "0  DDX11L1  chr1  11874  14408          1651              61              47   \n",
       "1   WASH7P  chr1  14362  29370          1769              72              60   \n",
       "2  FAM138A  chr1  34611  36081          1130             159             182   \n",
       "3  FAM138F  chr1  34611  36081          1130              64              54   \n",
       "4    OR4F5  chr1  69091  70008           918              61              57   \n",
       "\n",
       "   BaselineCell_3  BaselineCell_4  BaselineCell_5        ...         \\\n",
       "0              72              77              75        ...          \n",
       "1              79              80              81        ...          \n",
       "2             152             133             147        ...          \n",
       "3              88              92              63        ...          \n",
       "4              63              61              69        ...          \n",
       "\n",
       "   BaselineCell_183  BaselineCell_184  BaselineCell_185  BaselineCell_186  \\\n",
       "0                39                34                28                25   \n",
       "1                26                26                19                26   \n",
       "2                59                64                44                51   \n",
       "3                24                31                23                19   \n",
       "4                40                41                17                25   \n",
       "\n",
       "   BaselineCell_187  BaselineCell_188  BaselineCell_189  BaselineCell_190  \\\n",
       "0                30                29                92                26   \n",
       "1                19                22                96                33   \n",
       "2                47                54               145                57   \n",
       "3                25                33                86                45   \n",
       "4                27                27                99                31   \n",
       "\n",
       "   BaselineCell_191  BaselineCell_192  \n",
       "0                43                33  \n",
       "1                32                44  \n",
       "2                65                59  \n",
       "3                25                20  \n",
       "4                32                29  \n",
       "\n",
       "[5 rows x 197 columns]"
      ]
     },
     "execution_count": 3,
     "metadata": {},
     "output_type": "execute_result"
    }
   ],
   "source": [
    "import numpy as np\n",
    "import pandas as pd\n",
    "import seaborn as sns\n",
    "from matplotlib import pyplot as mp\n",
    "df_ge = pd.read_csv('GeneExpression_Baseline.csv')\n",
    "df_ge.head()"
   ]
  },
  {
   "cell_type": "markdown",
   "metadata": {},
   "source": [
    "### we need multiple cells since if you look at the table and compare their cells, some different genes might by chance have same value for one cell(like cell 1 for first gene and 4th gene). But if we look at all cells instead,then the chance that they are all the same will be almost 0. So biologists need multiple cells to help them distinguish different genes with a higher accuracy."
   ]
  },
  {
   "cell_type": "markdown",
   "metadata": {},
   "source": [
    "## Problem 2"
   ]
  },
  {
   "cell_type": "code",
   "execution_count": 4,
   "metadata": {},
   "outputs": [
    {
     "name": "stdout",
     "output_type": "stream",
     "text": [
      "192 cells are sequenced\n"
     ]
    }
   ],
   "source": [
    "list_columns = list(df_ge.columns.values)\n",
    "num_cells = 0\n",
    "for i in list_columns:\n",
    "    if i.startswith('BaselineCell'):\n",
    "        num_cells += 1\n",
    "print(str(num_cells) + \" cells are sequenced\")"
   ]
  },
  {
   "cell_type": "markdown",
   "metadata": {},
   "source": [
    "## Problem 3"
   ]
  },
  {
   "cell_type": "code",
   "execution_count": 5,
   "metadata": {},
   "outputs": [
    {
     "name": "stdout",
     "output_type": "stream",
     "text": [
      "23346 genes are sequenced\n"
     ]
    }
   ],
   "source": [
    "num_gene = df_ge['GeneID'].nunique()\n",
    "print(str(num_gene) + \" genes are sequenced\")"
   ]
  },
  {
   "cell_type": "markdown",
   "metadata": {},
   "source": [
    "## Problem 4"
   ]
  },
  {
   "cell_type": "code",
   "execution_count": 6,
   "metadata": {},
   "outputs": [
    {
     "data": {
      "text/plain": [
       "Text(0.5,1,'distribution of genes in chromosomes')"
      ]
     },
     "execution_count": 6,
     "metadata": {},
     "output_type": "execute_result"
    },
    {
     "data": {
      "image/png": "[encoded data removed]",
      "text/plain": [
       "<Figure size 432x288 with 1 Axes>"
      ]
     },
     "metadata": {},
     "output_type": "display_data"
    }
   ],
   "source": [
    "chromo = df_ge.groupby(['Chr']).size()\n",
    "plot = chromo.plot.bar()\n",
    "plot.set_xlabel('chromosomes')\n",
    "plot.set_ylabel('num genes')\n",
    "plot.set_title('distribution of genes in chromosomes') # set title"
   ]
  },
  {
   "cell_type": "markdown",
   "metadata": {},
   "source": [
    "### According to the bar graph, the gene is not equally distributed."
   ]
  },
  {
   "cell_type": "markdown",
   "metadata": {},
   "source": [
    "## Problem 5"
   ]
  },
  {
   "cell_type": "code",
   "execution_count": 7,
   "metadata": {},
   "outputs": [],
   "source": [
    "cod = df_ge.groupby(['CodingLength']).size()"
   ]
  },
  {
   "cell_type": "code",
   "execution_count": 8,
   "metadata": {},
   "outputs": [
    {
     "data": {
      "text/plain": [
       "Text(0.5,1,'probability distribution of coding length')"
      ]
     },
     "execution_count": 8,
     "metadata": {},
     "output_type": "execute_result"
    },
    {
     "data": {
      "image/png": "[encoded data removed]",
      "text/plain": [
       "<Figure size 432x288 with 1 Axes>"
      ]
     },
     "metadata": {},
     "output_type": "display_data"
    }
   ],
   "source": [
    "(cod / cod.sum()).plot()\n",
    "mp.ylabel('probability')\n",
    "mp.title('probability distribution of coding length')"
   ]
  },
  {
   "cell_type": "markdown",
   "metadata": {},
   "source": [
    "# Task 1"
   ]
  },
  {
   "cell_type": "markdown",
   "metadata": {},
   "source": [
    "## Problem 1"
   ]
  },
  {
   "cell_type": "markdown",
   "metadata": {},
   "source": [
    "### a)"
   ]
  },
  {
   "cell_type": "markdown",
   "metadata": {},
   "source": [
    "### Let E represents Temperature, T represents Time, V represents Viability, Quality represents Q\n",
    "### P(Q,V,T,E) = P(Q|V,T,E)* P(V|TE)* P(T|E)* P(E)  (apply chain rule) = P(Q|VT)* P(V|TE)* P(T)* P(E) (by bayesian network)"
   ]
  },
  {
   "cell_type": "markdown",
   "metadata": {},
   "source": [
    "### b)"
   ]
  },
  {
   "cell_type": "markdown",
   "metadata": {},
   "source": [
    "### For P(E), we need 3 parameters\n",
    "### For P(T), we need 1 parameter\n",
    "### For P(V), we need 1 parameter\n",
    "### For P(Q), we need 1 parameter\n",
    "### Therefore, in total we need 3 + 1 + 1 + 1 = 6 parameters"
   ]
  },
  {
   "cell_type": "markdown",
   "metadata": {},
   "source": [
    "### c)"
   ]
  },
  {
   "cell_type": "code",
   "execution_count": 10,
   "metadata": {},
   "outputs": [
    {
     "data": {
      "text/html": [
       "<div>\n",
       "<style scoped>\n",
       "    .dataframe tbody tr th:only-of-type {\n",
       "        vertical-align: middle;\n",
       "    }\n",
       "\n",
       "    .dataframe tbody tr th {\n",
       "        vertical-align: top;\n",
       "    }\n",
       "\n",
       "    .dataframe thead th {\n",
       "        text-align: right;\n",
       "    }\n",
       "</style>\n",
       "<table border=\"1\" class=\"dataframe\">\n",
       "  <thead>\n",
       "    <tr style=\"text-align: right;\">\n",
       "      <th></th>\n",
       "      <th>temp</th>\n",
       "      <th>time</th>\n",
       "      <th>viab</th>\n",
       "      <th>qual</th>\n",
       "    </tr>\n",
       "  </thead>\n",
       "  <tbody>\n",
       "    <tr>\n",
       "      <th>0</th>\n",
       "      <td>cool</td>\n",
       "      <td>short</td>\n",
       "      <td>high</td>\n",
       "      <td>good</td>\n",
       "    </tr>\n",
       "    <tr>\n",
       "      <th>1</th>\n",
       "      <td>hot</td>\n",
       "      <td>short</td>\n",
       "      <td>low</td>\n",
       "      <td>good</td>\n",
       "    </tr>\n",
       "    <tr>\n",
       "      <th>2</th>\n",
       "      <td>warm</td>\n",
       "      <td>short</td>\n",
       "      <td>high</td>\n",
       "      <td>good</td>\n",
       "    </tr>\n",
       "    <tr>\n",
       "      <th>3</th>\n",
       "      <td>cool</td>\n",
       "      <td>short</td>\n",
       "      <td>high</td>\n",
       "      <td>bad</td>\n",
       "    </tr>\n",
       "    <tr>\n",
       "      <th>4</th>\n",
       "      <td>cool</td>\n",
       "      <td>short</td>\n",
       "      <td>high</td>\n",
       "      <td>good</td>\n",
       "    </tr>\n",
       "  </tbody>\n",
       "</table>\n",
       "</div>"
      ],
      "text/plain": [
       "   temp   time  viab  qual\n",
       "0  cool  short  high  good\n",
       "1   hot  short   low  good\n",
       "2  warm  short  high  good\n",
       "3  cool  short  high   bad\n",
       "4  cool  short  high  good"
      ]
     },
     "execution_count": 10,
     "metadata": {},
     "output_type": "execute_result"
    }
   ],
   "source": [
    "df_qc= pd.read_csv('QualityControl.csv')\n",
    "df_qc.head()"
   ]
  },
  {
   "cell_type": "code",
   "execution_count": 75,
   "metadata": {},
   "outputs": [
    {
     "data": {
      "text/plain": [
       "short    0.9036\n",
       "long     0.0964\n",
       "Name: time, dtype: float64"
      ]
     },
     "execution_count": 75,
     "metadata": {},
     "output_type": "execute_result"
    }
   ],
   "source": [
    "p_time = df_qc['time'].value_counts()/df_qc['time'].count()\n",
    "p_time"
   ]
  },
  {
   "cell_type": "code",
   "execution_count": 72,
   "metadata": {},
   "outputs": [
    {
     "data": {
      "text/plain": [
       "cool    0.4948\n",
       "warm    0.3044\n",
       "cold    0.1050\n",
       "hot     0.0958\n",
       "Name: temp, dtype: float64"
      ]
     },
     "execution_count": 72,
     "metadata": {},
     "output_type": "execute_result"
    }
   ],
   "source": [
    "p_temp = df_qc['temp'].value_counts()/df_qc['temp'].count()\n",
    "p_temp"
   ]
  },
  {
   "cell_type": "code",
   "execution_count": 82,
   "metadata": {},
   "outputs": [
    {
     "name": "stdout",
     "output_type": "stream",
     "text": [
      "temp  time       \n",
      "cold  long   low     0.734694\n",
      "             high    0.265306\n",
      "      short  low     0.584034\n",
      "             high    0.415966\n",
      "cool  long   high    0.792829\n",
      "             low     0.207171\n",
      "      short  high    0.948268\n",
      "             low     0.051732\n",
      "hot   long   low     0.928571\n",
      "             high    0.071429\n",
      "      short  low     0.787185\n",
      "             high    0.212815\n",
      "warm  long   high    0.707143\n",
      "             low     0.292857\n",
      "      short  high    0.906657\n",
      "             low     0.093343\n",
      "Name: viab, dtype: float64\n"
     ]
    },
    {
     "data": {
      "text/plain": [
       "0.7346938775510204"
      ]
     },
     "execution_count": 82,
     "metadata": {},
     "output_type": "execute_result"
    }
   ],
   "source": [
    "## P(Viability | Temperature, Time)\n",
    "p_vgiven = df_qc.groupby(['temp','time'])['viab'].apply(lambda g: g.value_counts()/len(g))\n",
    "print(p_vgiven)\n",
    "p_vgiven['cold']['long']['low']"
   ]
  },
  {
   "cell_type": "code",
   "execution_count": 79,
   "metadata": {},
   "outputs": [
    {
     "data": {
      "text/plain": [
       "viab  time       \n",
       "high  long   good    0.522293\n",
       "             bad     0.477707\n",
       "      short  good    0.894852\n",
       "             bad     0.105148\n",
       "low   long   bad     0.952381\n",
       "             good    0.047619\n",
       "      short  good    0.517321\n",
       "             bad     0.482679\n",
       "Name: qual, dtype: float64"
      ]
     },
     "execution_count": 79,
     "metadata": {},
     "output_type": "execute_result"
    }
   ],
   "source": [
    "## P(Quality | Viability, Time)\n",
    "p_qgiven = df_qc.groupby(['viab','time'])['qual'].apply(lambda g: g.value_counts()/len(g))\n",
    "p_qgiven"
   ]
  },
  {
   "cell_type": "markdown",
   "metadata": {},
   "source": [
    "### e)"
   ]
  },
  {
   "cell_type": "markdown",
   "metadata": {},
   "source": [
    "### Since Quality depends on Viability and Time; firstly, we need to find P(Viability =  low) && P(Viability = high)"
   ]
  },
  {
   "cell_type": "markdown",
   "metadata": {},
   "source": [
    "### P(Viability = low) \n",
    "### = P(V= low | temp = cold, time = long) P(temp = cold) P( time = long) +  \n",
    "###    P(V = low | temp = cold, time = short) P(temp = cold) P(time = short) + \n",
    "###    P(V = low | temp = cool, time = long) P(temp = cool) P(time = long) + \n",
    "###    P(V = low | temp = cool, time = short) P(temp = cool) P(time = short) + \n",
    "###    P(V = low | temp = hot, time = long) P(temp = hot) P(time = long) + \n",
    "###    P(V = low | temp = hot, time = short) P(temp = hot) P(time = short) + \n",
    "###    P(V = low | temp = warm time = long) P(temp = warm) P(time = long) + \n",
    "###    P(V = low | temp = warm time = short) P(temp = warm) P(time = short) \n"
   ]
  },
  {
   "cell_type": "code",
   "execution_count": 89,
   "metadata": {},
   "outputs": [
    {
     "data": {
      "text/plain": [
       "0.20684596838389346"
      ]
     },
     "execution_count": 89,
     "metadata": {},
     "output_type": "execute_result"
    }
   ],
   "source": [
    "p_v_low = p_vgiven['cold']['long']['low']*p_temp['cold']*p_time['long']\n",
    "p_v_low += p_vgiven['cold']['short']['low']*p_temp['cold']*p_time['short']\n",
    "p_v_low += p_vgiven['cool']['long']['low']*p_temp['cool']*p_time['long']\n",
    "p_v_low += p_vgiven['cool']['short']['low']*p_temp['cool']*p_time['short']\n",
    "p_v_low += p_vgiven['hot']['long']['low']*p_temp['hot']*p_time['long']\n",
    "p_v_low += p_vgiven['hot']['short']['low']*p_temp['hot']*p_time['short']\n",
    "p_v_low += p_vgiven['warm']['long']['low']*p_temp['warm']*p_time['long']\n",
    "p_v_low += p_vgiven['warm']['short']['low']*p_temp['warm']*p_time['short']\n",
    "p_v_low"
   ]
  },
  {
   "cell_type": "code",
   "execution_count": 91,
   "metadata": {},
   "outputs": [
    {
     "data": {
      "text/plain": [
       "0.7931540316161065"
      ]
     },
     "execution_count": 91,
     "metadata": {},
     "output_type": "execute_result"
    }
   ],
   "source": [
    "p_v_high = 1 - p_v_low\n",
    "p_v_high"
   ]
  },
  {
   "cell_type": "markdown",
   "metadata": {},
   "source": [
    "### Based on P(Viability) and P(Time), we can calculate P(Quality = low &)"
   ]
  }
 ],
 "metadata": {
  "kernelspec": {
   "display_name": "Python 3",
   "language": "python",
   "name": "python3"
  },
  "language_info": {
   "codemirror_mode": {
    "name": "ipython",
    "version": 3
   },
   "file_extension": ".py",
   "mimetype": "text/x-python",
   "name": "python",
   "nbconvert_exporter": "python",
   "pygments_lexer": "ipython3",
   "version": "3.6.8"
  }
 },
 "nbformat": 4,
 "nbformat_minor": 2
}
